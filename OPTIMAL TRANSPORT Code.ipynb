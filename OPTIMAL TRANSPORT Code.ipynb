{
 "cells": [
  {
   "cell_type": "code",
   "execution_count": 2,
   "metadata": {},
   "outputs": [
    {
     "ename": "KeyboardInterrupt",
     "evalue": "",
     "output_type": "error",
     "traceback": [
      "\u001b[0;31m---------------------------------------------------------------------------\u001b[0m",
      "\u001b[0;31mKeyboardInterrupt\u001b[0m                         Traceback (most recent call last)",
      "\u001b[0;32m<ipython-input-2-c13e75e21441>\u001b[0m in \u001b[0;36m<module>\u001b[0;34m\u001b[0m\n\u001b[1;32m     14\u001b[0m \u001b[0mend\u001b[0m \u001b[0;34m=\u001b[0m \u001b[0mdatetime\u001b[0m\u001b[0;34m.\u001b[0m\u001b[0mdatetime\u001b[0m\u001b[0;34m(\u001b[0m\u001b[0;36m2021\u001b[0m\u001b[0;34m,\u001b[0m \u001b[0;36m3\u001b[0m\u001b[0;34m,\u001b[0m \u001b[0;36m8\u001b[0m\u001b[0;34m)\u001b[0m\u001b[0;34m\u001b[0m\u001b[0;34m\u001b[0m\u001b[0m\n\u001b[1;32m     15\u001b[0m \u001b[0;34m\u001b[0m\u001b[0m\n\u001b[0;32m---> 16\u001b[0;31m \u001b[0mSP500\u001b[0m \u001b[0;34m=\u001b[0m \u001b[0mweb\u001b[0m\u001b[0;34m.\u001b[0m\u001b[0mDataReader\u001b[0m\u001b[0;34m(\u001b[0m\u001b[0;34m[\u001b[0m\u001b[0;34m'sp500'\u001b[0m\u001b[0;34m]\u001b[0m\u001b[0;34m,\u001b[0m \u001b[0;34m'fred'\u001b[0m\u001b[0;34m,\u001b[0m \u001b[0mstart\u001b[0m\u001b[0;34m,\u001b[0m \u001b[0mend\u001b[0m\u001b[0;34m)\u001b[0m\u001b[0;34m\u001b[0m\u001b[0;34m\u001b[0m\u001b[0m\n\u001b[0m\u001b[1;32m     17\u001b[0m \u001b[0;34m\u001b[0m\u001b[0m\n",
      "\u001b[0;32m/Library/Frameworks/Python.framework/Versions/3.6/lib/python3.6/site-packages/pandas/util/_decorators.py\u001b[0m in \u001b[0;36mwrapper\u001b[0;34m(*args, **kwargs)\u001b[0m\n\u001b[1;32m    197\u001b[0m                 \u001b[0;32melse\u001b[0m\u001b[0;34m:\u001b[0m\u001b[0;34m\u001b[0m\u001b[0;34m\u001b[0m\u001b[0m\n\u001b[1;32m    198\u001b[0m                     \u001b[0mkwargs\u001b[0m\u001b[0;34m[\u001b[0m\u001b[0mnew_arg_name\u001b[0m\u001b[0;34m]\u001b[0m \u001b[0;34m=\u001b[0m \u001b[0mnew_arg_value\u001b[0m\u001b[0;34m\u001b[0m\u001b[0;34m\u001b[0m\u001b[0m\n\u001b[0;32m--> 199\u001b[0;31m             \u001b[0;32mreturn\u001b[0m \u001b[0mfunc\u001b[0m\u001b[0;34m(\u001b[0m\u001b[0;34m*\u001b[0m\u001b[0margs\u001b[0m\u001b[0;34m,\u001b[0m \u001b[0;34m**\u001b[0m\u001b[0mkwargs\u001b[0m\u001b[0;34m)\u001b[0m\u001b[0;34m\u001b[0m\u001b[0;34m\u001b[0m\u001b[0m\n\u001b[0m\u001b[1;32m    200\u001b[0m \u001b[0;34m\u001b[0m\u001b[0m\n\u001b[1;32m    201\u001b[0m         \u001b[0;32mreturn\u001b[0m \u001b[0mcast\u001b[0m\u001b[0;34m(\u001b[0m\u001b[0mF\u001b[0m\u001b[0;34m,\u001b[0m \u001b[0mwrapper\u001b[0m\u001b[0;34m)\u001b[0m\u001b[0;34m\u001b[0m\u001b[0;34m\u001b[0m\u001b[0m\n",
      "\u001b[0;32m/Library/Frameworks/Python.framework/Versions/3.6/lib/python3.6/site-packages/pandas_datareader/data.py\u001b[0m in \u001b[0;36mDataReader\u001b[0;34m(name, data_source, start, end, retry_count, pause, session, api_key)\u001b[0m\n\u001b[1;32m    459\u001b[0m             \u001b[0mretry_count\u001b[0m\u001b[0;34m=\u001b[0m\u001b[0mretry_count\u001b[0m\u001b[0;34m,\u001b[0m\u001b[0;34m\u001b[0m\u001b[0;34m\u001b[0m\u001b[0m\n\u001b[1;32m    460\u001b[0m             \u001b[0mpause\u001b[0m\u001b[0;34m=\u001b[0m\u001b[0mpause\u001b[0m\u001b[0;34m,\u001b[0m\u001b[0;34m\u001b[0m\u001b[0;34m\u001b[0m\u001b[0m\n\u001b[0;32m--> 461\u001b[0;31m             \u001b[0msession\u001b[0m\u001b[0;34m=\u001b[0m\u001b[0msession\u001b[0m\u001b[0;34m,\u001b[0m\u001b[0;34m\u001b[0m\u001b[0;34m\u001b[0m\u001b[0m\n\u001b[0m\u001b[1;32m    462\u001b[0m         ).read()\n\u001b[1;32m    463\u001b[0m \u001b[0;34m\u001b[0m\u001b[0m\n",
      "\u001b[0;32m/Library/Frameworks/Python.framework/Versions/3.6/lib/python3.6/site-packages/pandas_datareader/fred.py\u001b[0m in \u001b[0;36mread\u001b[0;34m(self)\u001b[0m\n\u001b[1;32m     25\u001b[0m         \"\"\"\n\u001b[1;32m     26\u001b[0m         \u001b[0;32mtry\u001b[0m\u001b[0;34m:\u001b[0m\u001b[0;34m\u001b[0m\u001b[0;34m\u001b[0m\u001b[0m\n\u001b[0;32m---> 27\u001b[0;31m             \u001b[0;32mreturn\u001b[0m \u001b[0mself\u001b[0m\u001b[0;34m.\u001b[0m\u001b[0m_read\u001b[0m\u001b[0;34m(\u001b[0m\u001b[0;34m)\u001b[0m\u001b[0;34m\u001b[0m\u001b[0;34m\u001b[0m\u001b[0m\n\u001b[0m\u001b[1;32m     28\u001b[0m         \u001b[0;32mfinally\u001b[0m\u001b[0;34m:\u001b[0m\u001b[0;34m\u001b[0m\u001b[0;34m\u001b[0m\u001b[0m\n\u001b[1;32m     29\u001b[0m             \u001b[0mself\u001b[0m\u001b[0;34m.\u001b[0m\u001b[0mclose\u001b[0m\u001b[0;34m(\u001b[0m\u001b[0;34m)\u001b[0m\u001b[0;34m\u001b[0m\u001b[0;34m\u001b[0m\u001b[0m\n",
      "\u001b[0;32m/Library/Frameworks/Python.framework/Versions/3.6/lib/python3.6/site-packages/pandas_datareader/fred.py\u001b[0m in \u001b[0;36m_read\u001b[0;34m(self)\u001b[0m\n\u001b[1;32m     60\u001b[0m \u001b[0;34m\u001b[0m\u001b[0m\n\u001b[1;32m     61\u001b[0m         df = concat(\n\u001b[0;32m---> 62\u001b[0;31m             \u001b[0;34m[\u001b[0m\u001b[0mfetch_data\u001b[0m\u001b[0;34m(\u001b[0m\u001b[0murl\u001b[0m\u001b[0;34m,\u001b[0m \u001b[0mn\u001b[0m\u001b[0;34m)\u001b[0m \u001b[0;32mfor\u001b[0m \u001b[0murl\u001b[0m\u001b[0;34m,\u001b[0m \u001b[0mn\u001b[0m \u001b[0;32min\u001b[0m \u001b[0mzip\u001b[0m\u001b[0;34m(\u001b[0m\u001b[0murls\u001b[0m\u001b[0;34m,\u001b[0m \u001b[0mnames\u001b[0m\u001b[0;34m)\u001b[0m\u001b[0;34m]\u001b[0m\u001b[0;34m,\u001b[0m \u001b[0maxis\u001b[0m\u001b[0;34m=\u001b[0m\u001b[0;36m1\u001b[0m\u001b[0;34m,\u001b[0m \u001b[0mjoin\u001b[0m\u001b[0;34m=\u001b[0m\u001b[0;34m\"outer\"\u001b[0m\u001b[0;34m\u001b[0m\u001b[0;34m\u001b[0m\u001b[0m\n\u001b[0m\u001b[1;32m     63\u001b[0m         )\n\u001b[1;32m     64\u001b[0m         \u001b[0;32mreturn\u001b[0m \u001b[0mdf\u001b[0m\u001b[0;34m\u001b[0m\u001b[0;34m\u001b[0m\u001b[0m\n",
      "\u001b[0;32m/Library/Frameworks/Python.framework/Versions/3.6/lib/python3.6/site-packages/pandas_datareader/fred.py\u001b[0m in \u001b[0;36m<listcomp>\u001b[0;34m(.0)\u001b[0m\n\u001b[1;32m     60\u001b[0m \u001b[0;34m\u001b[0m\u001b[0m\n\u001b[1;32m     61\u001b[0m         df = concat(\n\u001b[0;32m---> 62\u001b[0;31m             \u001b[0;34m[\u001b[0m\u001b[0mfetch_data\u001b[0m\u001b[0;34m(\u001b[0m\u001b[0murl\u001b[0m\u001b[0;34m,\u001b[0m \u001b[0mn\u001b[0m\u001b[0;34m)\u001b[0m \u001b[0;32mfor\u001b[0m \u001b[0murl\u001b[0m\u001b[0;34m,\u001b[0m \u001b[0mn\u001b[0m \u001b[0;32min\u001b[0m \u001b[0mzip\u001b[0m\u001b[0;34m(\u001b[0m\u001b[0murls\u001b[0m\u001b[0;34m,\u001b[0m \u001b[0mnames\u001b[0m\u001b[0;34m)\u001b[0m\u001b[0;34m]\u001b[0m\u001b[0;34m,\u001b[0m \u001b[0maxis\u001b[0m\u001b[0;34m=\u001b[0m\u001b[0;36m1\u001b[0m\u001b[0;34m,\u001b[0m \u001b[0mjoin\u001b[0m\u001b[0;34m=\u001b[0m\u001b[0;34m\"outer\"\u001b[0m\u001b[0;34m\u001b[0m\u001b[0;34m\u001b[0m\u001b[0m\n\u001b[0m\u001b[1;32m     63\u001b[0m         )\n\u001b[1;32m     64\u001b[0m         \u001b[0;32mreturn\u001b[0m \u001b[0mdf\u001b[0m\u001b[0;34m\u001b[0m\u001b[0;34m\u001b[0m\u001b[0m\n",
      "\u001b[0;32m/Library/Frameworks/Python.framework/Versions/3.6/lib/python3.6/site-packages/pandas_datareader/fred.py\u001b[0m in \u001b[0;36mfetch_data\u001b[0;34m(url, name)\u001b[0m\n\u001b[1;32m     39\u001b[0m         \u001b[0;32mdef\u001b[0m \u001b[0mfetch_data\u001b[0m\u001b[0;34m(\u001b[0m\u001b[0murl\u001b[0m\u001b[0;34m,\u001b[0m \u001b[0mname\u001b[0m\u001b[0;34m)\u001b[0m\u001b[0;34m:\u001b[0m\u001b[0;34m\u001b[0m\u001b[0;34m\u001b[0m\u001b[0m\n\u001b[1;32m     40\u001b[0m             \u001b[0;34m\"\"\"Utillity to fetch data\"\"\"\u001b[0m\u001b[0;34m\u001b[0m\u001b[0;34m\u001b[0m\u001b[0m\n\u001b[0;32m---> 41\u001b[0;31m             \u001b[0mresp\u001b[0m \u001b[0;34m=\u001b[0m \u001b[0mself\u001b[0m\u001b[0;34m.\u001b[0m\u001b[0m_read_url_as_StringIO\u001b[0m\u001b[0;34m(\u001b[0m\u001b[0murl\u001b[0m\u001b[0;34m)\u001b[0m\u001b[0;34m\u001b[0m\u001b[0;34m\u001b[0m\u001b[0m\n\u001b[0m\u001b[1;32m     42\u001b[0m             data = read_csv(\n\u001b[1;32m     43\u001b[0m                 \u001b[0mresp\u001b[0m\u001b[0;34m,\u001b[0m\u001b[0;34m\u001b[0m\u001b[0;34m\u001b[0m\u001b[0m\n",
      "\u001b[0;32m/Library/Frameworks/Python.framework/Versions/3.6/lib/python3.6/site-packages/pandas_datareader/base.py\u001b[0m in \u001b[0;36m_read_url_as_StringIO\u001b[0;34m(self, url, params)\u001b[0m\n\u001b[1;32m    116\u001b[0m         \u001b[0mOpen\u001b[0m \u001b[0murl\u001b[0m \u001b[0;34m(\u001b[0m\u001b[0;32mand\u001b[0m \u001b[0mretry\u001b[0m\u001b[0;34m)\u001b[0m\u001b[0;34m\u001b[0m\u001b[0;34m\u001b[0m\u001b[0m\n\u001b[1;32m    117\u001b[0m         \"\"\"\n\u001b[0;32m--> 118\u001b[0;31m         \u001b[0mresponse\u001b[0m \u001b[0;34m=\u001b[0m \u001b[0mself\u001b[0m\u001b[0;34m.\u001b[0m\u001b[0m_get_response\u001b[0m\u001b[0;34m(\u001b[0m\u001b[0murl\u001b[0m\u001b[0;34m,\u001b[0m \u001b[0mparams\u001b[0m\u001b[0;34m=\u001b[0m\u001b[0mparams\u001b[0m\u001b[0;34m)\u001b[0m\u001b[0;34m\u001b[0m\u001b[0;34m\u001b[0m\u001b[0m\n\u001b[0m\u001b[1;32m    119\u001b[0m         \u001b[0mtext\u001b[0m \u001b[0;34m=\u001b[0m \u001b[0mself\u001b[0m\u001b[0;34m.\u001b[0m\u001b[0m_sanitize_response\u001b[0m\u001b[0;34m(\u001b[0m\u001b[0mresponse\u001b[0m\u001b[0;34m)\u001b[0m\u001b[0;34m\u001b[0m\u001b[0;34m\u001b[0m\u001b[0m\n\u001b[1;32m    120\u001b[0m         \u001b[0mout\u001b[0m \u001b[0;34m=\u001b[0m \u001b[0mStringIO\u001b[0m\u001b[0;34m(\u001b[0m\u001b[0;34m)\u001b[0m\u001b[0;34m\u001b[0m\u001b[0;34m\u001b[0m\u001b[0m\n",
      "\u001b[0;32m/Library/Frameworks/Python.framework/Versions/3.6/lib/python3.6/site-packages/pandas_datareader/base.py\u001b[0m in \u001b[0;36m_get_response\u001b[0;34m(self, url, params, headers)\u001b[0m\n\u001b[1;32m    154\u001b[0m         \u001b[0;32mfor\u001b[0m \u001b[0m_\u001b[0m \u001b[0;32min\u001b[0m \u001b[0mrange\u001b[0m\u001b[0;34m(\u001b[0m\u001b[0mself\u001b[0m\u001b[0;34m.\u001b[0m\u001b[0mretry_count\u001b[0m \u001b[0;34m+\u001b[0m \u001b[0;36m1\u001b[0m\u001b[0;34m)\u001b[0m\u001b[0;34m:\u001b[0m\u001b[0;34m\u001b[0m\u001b[0;34m\u001b[0m\u001b[0m\n\u001b[1;32m    155\u001b[0m             response = self.session.get(\n\u001b[0;32m--> 156\u001b[0;31m                 \u001b[0murl\u001b[0m\u001b[0;34m,\u001b[0m \u001b[0mparams\u001b[0m\u001b[0;34m=\u001b[0m\u001b[0mparams\u001b[0m\u001b[0;34m,\u001b[0m \u001b[0mheaders\u001b[0m\u001b[0;34m=\u001b[0m\u001b[0mheaders\u001b[0m\u001b[0;34m,\u001b[0m \u001b[0mtimeout\u001b[0m\u001b[0;34m=\u001b[0m\u001b[0mself\u001b[0m\u001b[0;34m.\u001b[0m\u001b[0mtimeout\u001b[0m\u001b[0;34m\u001b[0m\u001b[0;34m\u001b[0m\u001b[0m\n\u001b[0m\u001b[1;32m    157\u001b[0m             )\n\u001b[1;32m    158\u001b[0m             \u001b[0;32mif\u001b[0m \u001b[0mresponse\u001b[0m\u001b[0;34m.\u001b[0m\u001b[0mstatus_code\u001b[0m \u001b[0;34m==\u001b[0m \u001b[0mrequests\u001b[0m\u001b[0;34m.\u001b[0m\u001b[0mcodes\u001b[0m\u001b[0;34m.\u001b[0m\u001b[0mok\u001b[0m\u001b[0;34m:\u001b[0m\u001b[0;34m\u001b[0m\u001b[0;34m\u001b[0m\u001b[0m\n",
      "\u001b[0;32m/Library/Frameworks/Python.framework/Versions/3.6/lib/python3.6/site-packages/requests/sessions.py\u001b[0m in \u001b[0;36mget\u001b[0;34m(self, url, **kwargs)\u001b[0m\n\u001b[1;32m    541\u001b[0m \u001b[0;34m\u001b[0m\u001b[0m\n\u001b[1;32m    542\u001b[0m         \u001b[0mkwargs\u001b[0m\u001b[0;34m.\u001b[0m\u001b[0msetdefault\u001b[0m\u001b[0;34m(\u001b[0m\u001b[0;34m'allow_redirects'\u001b[0m\u001b[0;34m,\u001b[0m \u001b[0;32mTrue\u001b[0m\u001b[0;34m)\u001b[0m\u001b[0;34m\u001b[0m\u001b[0;34m\u001b[0m\u001b[0m\n\u001b[0;32m--> 543\u001b[0;31m         \u001b[0;32mreturn\u001b[0m \u001b[0mself\u001b[0m\u001b[0;34m.\u001b[0m\u001b[0mrequest\u001b[0m\u001b[0;34m(\u001b[0m\u001b[0;34m'GET'\u001b[0m\u001b[0;34m,\u001b[0m \u001b[0murl\u001b[0m\u001b[0;34m,\u001b[0m \u001b[0;34m**\u001b[0m\u001b[0mkwargs\u001b[0m\u001b[0;34m)\u001b[0m\u001b[0;34m\u001b[0m\u001b[0;34m\u001b[0m\u001b[0m\n\u001b[0m\u001b[1;32m    544\u001b[0m \u001b[0;34m\u001b[0m\u001b[0m\n\u001b[1;32m    545\u001b[0m     \u001b[0;32mdef\u001b[0m \u001b[0moptions\u001b[0m\u001b[0;34m(\u001b[0m\u001b[0mself\u001b[0m\u001b[0;34m,\u001b[0m \u001b[0murl\u001b[0m\u001b[0;34m,\u001b[0m \u001b[0;34m**\u001b[0m\u001b[0mkwargs\u001b[0m\u001b[0;34m)\u001b[0m\u001b[0;34m:\u001b[0m\u001b[0;34m\u001b[0m\u001b[0;34m\u001b[0m\u001b[0m\n",
      "\u001b[0;32m/Library/Frameworks/Python.framework/Versions/3.6/lib/python3.6/site-packages/requests/sessions.py\u001b[0m in \u001b[0;36mrequest\u001b[0;34m(self, method, url, params, data, headers, cookies, files, auth, timeout, allow_redirects, proxies, hooks, stream, verify, cert, json)\u001b[0m\n\u001b[1;32m    528\u001b[0m         }\n\u001b[1;32m    529\u001b[0m         \u001b[0msend_kwargs\u001b[0m\u001b[0;34m.\u001b[0m\u001b[0mupdate\u001b[0m\u001b[0;34m(\u001b[0m\u001b[0msettings\u001b[0m\u001b[0;34m)\u001b[0m\u001b[0;34m\u001b[0m\u001b[0;34m\u001b[0m\u001b[0m\n\u001b[0;32m--> 530\u001b[0;31m         \u001b[0mresp\u001b[0m \u001b[0;34m=\u001b[0m \u001b[0mself\u001b[0m\u001b[0;34m.\u001b[0m\u001b[0msend\u001b[0m\u001b[0;34m(\u001b[0m\u001b[0mprep\u001b[0m\u001b[0;34m,\u001b[0m \u001b[0;34m**\u001b[0m\u001b[0msend_kwargs\u001b[0m\u001b[0;34m)\u001b[0m\u001b[0;34m\u001b[0m\u001b[0;34m\u001b[0m\u001b[0m\n\u001b[0m\u001b[1;32m    531\u001b[0m \u001b[0;34m\u001b[0m\u001b[0m\n\u001b[1;32m    532\u001b[0m         \u001b[0;32mreturn\u001b[0m \u001b[0mresp\u001b[0m\u001b[0;34m\u001b[0m\u001b[0;34m\u001b[0m\u001b[0m\n",
      "\u001b[0;32m/Library/Frameworks/Python.framework/Versions/3.6/lib/python3.6/site-packages/requests/sessions.py\u001b[0m in \u001b[0;36msend\u001b[0;34m(self, request, **kwargs)\u001b[0m\n\u001b[1;32m    641\u001b[0m \u001b[0;34m\u001b[0m\u001b[0m\n\u001b[1;32m    642\u001b[0m         \u001b[0;31m# Send the request\u001b[0m\u001b[0;34m\u001b[0m\u001b[0;34m\u001b[0m\u001b[0;34m\u001b[0m\u001b[0m\n\u001b[0;32m--> 643\u001b[0;31m         \u001b[0mr\u001b[0m \u001b[0;34m=\u001b[0m \u001b[0madapter\u001b[0m\u001b[0;34m.\u001b[0m\u001b[0msend\u001b[0m\u001b[0;34m(\u001b[0m\u001b[0mrequest\u001b[0m\u001b[0;34m,\u001b[0m \u001b[0;34m**\u001b[0m\u001b[0mkwargs\u001b[0m\u001b[0;34m)\u001b[0m\u001b[0;34m\u001b[0m\u001b[0;34m\u001b[0m\u001b[0m\n\u001b[0m\u001b[1;32m    644\u001b[0m \u001b[0;34m\u001b[0m\u001b[0m\n\u001b[1;32m    645\u001b[0m         \u001b[0;31m# Total elapsed time of the request (approximately)\u001b[0m\u001b[0;34m\u001b[0m\u001b[0;34m\u001b[0m\u001b[0;34m\u001b[0m\u001b[0m\n",
      "\u001b[0;32m/Library/Frameworks/Python.framework/Versions/3.6/lib/python3.6/site-packages/requests/adapters.py\u001b[0m in \u001b[0;36msend\u001b[0;34m(self, request, stream, timeout, verify, cert, proxies)\u001b[0m\n\u001b[1;32m    447\u001b[0m                     \u001b[0mdecode_content\u001b[0m\u001b[0;34m=\u001b[0m\u001b[0;32mFalse\u001b[0m\u001b[0;34m,\u001b[0m\u001b[0;34m\u001b[0m\u001b[0;34m\u001b[0m\u001b[0m\n\u001b[1;32m    448\u001b[0m                     \u001b[0mretries\u001b[0m\u001b[0;34m=\u001b[0m\u001b[0mself\u001b[0m\u001b[0;34m.\u001b[0m\u001b[0mmax_retries\u001b[0m\u001b[0;34m,\u001b[0m\u001b[0;34m\u001b[0m\u001b[0;34m\u001b[0m\u001b[0m\n\u001b[0;32m--> 449\u001b[0;31m                     \u001b[0mtimeout\u001b[0m\u001b[0;34m=\u001b[0m\u001b[0mtimeout\u001b[0m\u001b[0;34m\u001b[0m\u001b[0;34m\u001b[0m\u001b[0m\n\u001b[0m\u001b[1;32m    450\u001b[0m                 )\n\u001b[1;32m    451\u001b[0m \u001b[0;34m\u001b[0m\u001b[0m\n",
      "\u001b[0;32m/Library/Frameworks/Python.framework/Versions/3.6/lib/python3.6/site-packages/urllib3/connectionpool.py\u001b[0m in \u001b[0;36murlopen\u001b[0;34m(self, method, url, body, headers, retries, redirect, assert_same_host, timeout, pool_timeout, release_conn, chunked, body_pos, **response_kw)\u001b[0m\n\u001b[1;32m    675\u001b[0m                 \u001b[0mbody\u001b[0m\u001b[0;34m=\u001b[0m\u001b[0mbody\u001b[0m\u001b[0;34m,\u001b[0m\u001b[0;34m\u001b[0m\u001b[0;34m\u001b[0m\u001b[0m\n\u001b[1;32m    676\u001b[0m                 \u001b[0mheaders\u001b[0m\u001b[0;34m=\u001b[0m\u001b[0mheaders\u001b[0m\u001b[0;34m,\u001b[0m\u001b[0;34m\u001b[0m\u001b[0;34m\u001b[0m\u001b[0m\n\u001b[0;32m--> 677\u001b[0;31m                 \u001b[0mchunked\u001b[0m\u001b[0;34m=\u001b[0m\u001b[0mchunked\u001b[0m\u001b[0;34m,\u001b[0m\u001b[0;34m\u001b[0m\u001b[0;34m\u001b[0m\u001b[0m\n\u001b[0m\u001b[1;32m    678\u001b[0m             )\n\u001b[1;32m    679\u001b[0m \u001b[0;34m\u001b[0m\u001b[0m\n",
      "\u001b[0;32m/Library/Frameworks/Python.framework/Versions/3.6/lib/python3.6/site-packages/urllib3/connectionpool.py\u001b[0m in \u001b[0;36m_make_request\u001b[0;34m(self, conn, method, url, timeout, chunked, **httplib_request_kw)\u001b[0m\n\u001b[1;32m    379\u001b[0m         \u001b[0;31m# Trigger any extra validation we need to do.\u001b[0m\u001b[0;34m\u001b[0m\u001b[0;34m\u001b[0m\u001b[0;34m\u001b[0m\u001b[0m\n\u001b[1;32m    380\u001b[0m         \u001b[0;32mtry\u001b[0m\u001b[0;34m:\u001b[0m\u001b[0;34m\u001b[0m\u001b[0;34m\u001b[0m\u001b[0m\n\u001b[0;32m--> 381\u001b[0;31m             \u001b[0mself\u001b[0m\u001b[0;34m.\u001b[0m\u001b[0m_validate_conn\u001b[0m\u001b[0;34m(\u001b[0m\u001b[0mconn\u001b[0m\u001b[0;34m)\u001b[0m\u001b[0;34m\u001b[0m\u001b[0;34m\u001b[0m\u001b[0m\n\u001b[0m\u001b[1;32m    382\u001b[0m         \u001b[0;32mexcept\u001b[0m \u001b[0;34m(\u001b[0m\u001b[0mSocketTimeout\u001b[0m\u001b[0;34m,\u001b[0m \u001b[0mBaseSSLError\u001b[0m\u001b[0;34m)\u001b[0m \u001b[0;32mas\u001b[0m \u001b[0me\u001b[0m\u001b[0;34m:\u001b[0m\u001b[0;34m\u001b[0m\u001b[0;34m\u001b[0m\u001b[0m\n\u001b[1;32m    383\u001b[0m             \u001b[0;31m# Py2 raises this as a BaseSSLError, Py3 raises it as socket timeout.\u001b[0m\u001b[0;34m\u001b[0m\u001b[0;34m\u001b[0m\u001b[0;34m\u001b[0m\u001b[0m\n",
      "\u001b[0;32m/Library/Frameworks/Python.framework/Versions/3.6/lib/python3.6/site-packages/urllib3/connectionpool.py\u001b[0m in \u001b[0;36m_validate_conn\u001b[0;34m(self, conn)\u001b[0m\n\u001b[1;32m    976\u001b[0m         \u001b[0;31m# Force connect early to allow us to validate the connection.\u001b[0m\u001b[0;34m\u001b[0m\u001b[0;34m\u001b[0m\u001b[0;34m\u001b[0m\u001b[0m\n\u001b[1;32m    977\u001b[0m         \u001b[0;32mif\u001b[0m \u001b[0;32mnot\u001b[0m \u001b[0mgetattr\u001b[0m\u001b[0;34m(\u001b[0m\u001b[0mconn\u001b[0m\u001b[0;34m,\u001b[0m \u001b[0;34m\"sock\"\u001b[0m\u001b[0;34m,\u001b[0m \u001b[0;32mNone\u001b[0m\u001b[0;34m)\u001b[0m\u001b[0;34m:\u001b[0m  \u001b[0;31m# AppEngine might not have  `.sock`\u001b[0m\u001b[0;34m\u001b[0m\u001b[0;34m\u001b[0m\u001b[0m\n\u001b[0;32m--> 978\u001b[0;31m             \u001b[0mconn\u001b[0m\u001b[0;34m.\u001b[0m\u001b[0mconnect\u001b[0m\u001b[0;34m(\u001b[0m\u001b[0;34m)\u001b[0m\u001b[0;34m\u001b[0m\u001b[0;34m\u001b[0m\u001b[0m\n\u001b[0m\u001b[1;32m    979\u001b[0m \u001b[0;34m\u001b[0m\u001b[0m\n\u001b[1;32m    980\u001b[0m         \u001b[0;32mif\u001b[0m \u001b[0;32mnot\u001b[0m \u001b[0mconn\u001b[0m\u001b[0;34m.\u001b[0m\u001b[0mis_verified\u001b[0m\u001b[0;34m:\u001b[0m\u001b[0;34m\u001b[0m\u001b[0;34m\u001b[0m\u001b[0m\n",
      "\u001b[0;32m/Library/Frameworks/Python.framework/Versions/3.6/lib/python3.6/site-packages/urllib3/connection.py\u001b[0m in \u001b[0;36mconnect\u001b[0;34m(self)\u001b[0m\n\u001b[1;32m    369\u001b[0m             \u001b[0mca_cert_data\u001b[0m\u001b[0;34m=\u001b[0m\u001b[0mself\u001b[0m\u001b[0;34m.\u001b[0m\u001b[0mca_cert_data\u001b[0m\u001b[0;34m,\u001b[0m\u001b[0;34m\u001b[0m\u001b[0;34m\u001b[0m\u001b[0m\n\u001b[1;32m    370\u001b[0m             \u001b[0mserver_hostname\u001b[0m\u001b[0;34m=\u001b[0m\u001b[0mserver_hostname\u001b[0m\u001b[0;34m,\u001b[0m\u001b[0;34m\u001b[0m\u001b[0;34m\u001b[0m\u001b[0m\n\u001b[0;32m--> 371\u001b[0;31m             \u001b[0mssl_context\u001b[0m\u001b[0;34m=\u001b[0m\u001b[0mcontext\u001b[0m\u001b[0;34m,\u001b[0m\u001b[0;34m\u001b[0m\u001b[0;34m\u001b[0m\u001b[0m\n\u001b[0m\u001b[1;32m    372\u001b[0m         )\n\u001b[1;32m    373\u001b[0m \u001b[0;34m\u001b[0m\u001b[0m\n",
      "\u001b[0;32m/Library/Frameworks/Python.framework/Versions/3.6/lib/python3.6/site-packages/urllib3/util/ssl_.py\u001b[0m in \u001b[0;36mssl_wrap_socket\u001b[0;34m(sock, keyfile, certfile, cert_reqs, ca_certs, server_hostname, ssl_version, ciphers, ssl_context, ca_cert_dir, key_password, ca_cert_data)\u001b[0m\n\u001b[1;32m    384\u001b[0m     ) or IS_SECURETRANSPORT:\n\u001b[1;32m    385\u001b[0m         \u001b[0;32mif\u001b[0m \u001b[0mHAS_SNI\u001b[0m \u001b[0;32mand\u001b[0m \u001b[0mserver_hostname\u001b[0m \u001b[0;32mis\u001b[0m \u001b[0;32mnot\u001b[0m \u001b[0;32mNone\u001b[0m\u001b[0;34m:\u001b[0m\u001b[0;34m\u001b[0m\u001b[0;34m\u001b[0m\u001b[0m\n\u001b[0;32m--> 386\u001b[0;31m             \u001b[0;32mreturn\u001b[0m \u001b[0mcontext\u001b[0m\u001b[0;34m.\u001b[0m\u001b[0mwrap_socket\u001b[0m\u001b[0;34m(\u001b[0m\u001b[0msock\u001b[0m\u001b[0;34m,\u001b[0m \u001b[0mserver_hostname\u001b[0m\u001b[0;34m=\u001b[0m\u001b[0mserver_hostname\u001b[0m\u001b[0;34m)\u001b[0m\u001b[0;34m\u001b[0m\u001b[0;34m\u001b[0m\u001b[0m\n\u001b[0m\u001b[1;32m    387\u001b[0m \u001b[0;34m\u001b[0m\u001b[0m\n\u001b[1;32m    388\u001b[0m         warnings.warn(\n",
      "\u001b[0;32m/Library/Frameworks/Python.framework/Versions/3.6/lib/python3.6/ssl.py\u001b[0m in \u001b[0;36mwrap_socket\u001b[0;34m(self, sock, server_side, do_handshake_on_connect, suppress_ragged_eofs, server_hostname, session)\u001b[0m\n\u001b[1;32m    405\u001b[0m                          \u001b[0msuppress_ragged_eofs\u001b[0m\u001b[0;34m=\u001b[0m\u001b[0msuppress_ragged_eofs\u001b[0m\u001b[0;34m,\u001b[0m\u001b[0;34m\u001b[0m\u001b[0;34m\u001b[0m\u001b[0m\n\u001b[1;32m    406\u001b[0m                          \u001b[0mserver_hostname\u001b[0m\u001b[0;34m=\u001b[0m\u001b[0mserver_hostname\u001b[0m\u001b[0;34m,\u001b[0m\u001b[0;34m\u001b[0m\u001b[0;34m\u001b[0m\u001b[0m\n\u001b[0;32m--> 407\u001b[0;31m                          _context=self, _session=session)\n\u001b[0m\u001b[1;32m    408\u001b[0m \u001b[0;34m\u001b[0m\u001b[0m\n\u001b[1;32m    409\u001b[0m     def wrap_bio(self, incoming, outgoing, server_side=False,\n",
      "\u001b[0;32m/Library/Frameworks/Python.framework/Versions/3.6/lib/python3.6/ssl.py\u001b[0m in \u001b[0;36m__init__\u001b[0;34m(self, sock, keyfile, certfile, server_side, cert_reqs, ssl_version, ca_certs, do_handshake_on_connect, family, type, proto, fileno, suppress_ragged_eofs, npn_protocols, ciphers, server_hostname, _context, _session)\u001b[0m\n\u001b[1;32m    815\u001b[0m                         \u001b[0;31m# non-blocking\u001b[0m\u001b[0;34m\u001b[0m\u001b[0;34m\u001b[0m\u001b[0;34m\u001b[0m\u001b[0m\n\u001b[1;32m    816\u001b[0m                         \u001b[0;32mraise\u001b[0m \u001b[0mValueError\u001b[0m\u001b[0;34m(\u001b[0m\u001b[0;34m\"do_handshake_on_connect should not be specified for non-blocking sockets\"\u001b[0m\u001b[0;34m)\u001b[0m\u001b[0;34m\u001b[0m\u001b[0;34m\u001b[0m\u001b[0m\n\u001b[0;32m--> 817\u001b[0;31m                     \u001b[0mself\u001b[0m\u001b[0;34m.\u001b[0m\u001b[0mdo_handshake\u001b[0m\u001b[0;34m(\u001b[0m\u001b[0;34m)\u001b[0m\u001b[0;34m\u001b[0m\u001b[0;34m\u001b[0m\u001b[0m\n\u001b[0m\u001b[1;32m    818\u001b[0m \u001b[0;34m\u001b[0m\u001b[0m\n\u001b[1;32m    819\u001b[0m             \u001b[0;32mexcept\u001b[0m \u001b[0;34m(\u001b[0m\u001b[0mOSError\u001b[0m\u001b[0;34m,\u001b[0m \u001b[0mValueError\u001b[0m\u001b[0;34m)\u001b[0m\u001b[0;34m:\u001b[0m\u001b[0;34m\u001b[0m\u001b[0;34m\u001b[0m\u001b[0m\n",
      "\u001b[0;32m/Library/Frameworks/Python.framework/Versions/3.6/lib/python3.6/ssl.py\u001b[0m in \u001b[0;36mdo_handshake\u001b[0;34m(self, block)\u001b[0m\n\u001b[1;32m   1075\u001b[0m             \u001b[0;32mif\u001b[0m \u001b[0mtimeout\u001b[0m \u001b[0;34m==\u001b[0m \u001b[0;36m0.0\u001b[0m \u001b[0;32mand\u001b[0m \u001b[0mblock\u001b[0m\u001b[0;34m:\u001b[0m\u001b[0;34m\u001b[0m\u001b[0;34m\u001b[0m\u001b[0m\n\u001b[1;32m   1076\u001b[0m                 \u001b[0mself\u001b[0m\u001b[0;34m.\u001b[0m\u001b[0msettimeout\u001b[0m\u001b[0;34m(\u001b[0m\u001b[0;32mNone\u001b[0m\u001b[0;34m)\u001b[0m\u001b[0;34m\u001b[0m\u001b[0;34m\u001b[0m\u001b[0m\n\u001b[0;32m-> 1077\u001b[0;31m             \u001b[0mself\u001b[0m\u001b[0;34m.\u001b[0m\u001b[0m_sslobj\u001b[0m\u001b[0;34m.\u001b[0m\u001b[0mdo_handshake\u001b[0m\u001b[0;34m(\u001b[0m\u001b[0;34m)\u001b[0m\u001b[0;34m\u001b[0m\u001b[0;34m\u001b[0m\u001b[0m\n\u001b[0m\u001b[1;32m   1078\u001b[0m         \u001b[0;32mfinally\u001b[0m\u001b[0;34m:\u001b[0m\u001b[0;34m\u001b[0m\u001b[0;34m\u001b[0m\u001b[0m\n\u001b[1;32m   1079\u001b[0m             \u001b[0mself\u001b[0m\u001b[0;34m.\u001b[0m\u001b[0msettimeout\u001b[0m\u001b[0;34m(\u001b[0m\u001b[0mtimeout\u001b[0m\u001b[0;34m)\u001b[0m\u001b[0;34m\u001b[0m\u001b[0;34m\u001b[0m\u001b[0m\n",
      "\u001b[0;32m/Library/Frameworks/Python.framework/Versions/3.6/lib/python3.6/ssl.py\u001b[0m in \u001b[0;36mdo_handshake\u001b[0;34m(self)\u001b[0m\n\u001b[1;32m    687\u001b[0m     \u001b[0;32mdef\u001b[0m \u001b[0mdo_handshake\u001b[0m\u001b[0;34m(\u001b[0m\u001b[0mself\u001b[0m\u001b[0;34m)\u001b[0m\u001b[0;34m:\u001b[0m\u001b[0;34m\u001b[0m\u001b[0;34m\u001b[0m\u001b[0m\n\u001b[1;32m    688\u001b[0m         \u001b[0;34m\"\"\"Start the SSL/TLS handshake.\"\"\"\u001b[0m\u001b[0;34m\u001b[0m\u001b[0;34m\u001b[0m\u001b[0m\n\u001b[0;32m--> 689\u001b[0;31m         \u001b[0mself\u001b[0m\u001b[0;34m.\u001b[0m\u001b[0m_sslobj\u001b[0m\u001b[0;34m.\u001b[0m\u001b[0mdo_handshake\u001b[0m\u001b[0;34m(\u001b[0m\u001b[0;34m)\u001b[0m\u001b[0;34m\u001b[0m\u001b[0;34m\u001b[0m\u001b[0m\n\u001b[0m\u001b[1;32m    690\u001b[0m         \u001b[0;32mif\u001b[0m \u001b[0mself\u001b[0m\u001b[0;34m.\u001b[0m\u001b[0mcontext\u001b[0m\u001b[0;34m.\u001b[0m\u001b[0mcheck_hostname\u001b[0m\u001b[0;34m:\u001b[0m\u001b[0;34m\u001b[0m\u001b[0;34m\u001b[0m\u001b[0m\n\u001b[1;32m    691\u001b[0m             \u001b[0;32mif\u001b[0m \u001b[0;32mnot\u001b[0m \u001b[0mself\u001b[0m\u001b[0;34m.\u001b[0m\u001b[0mserver_hostname\u001b[0m\u001b[0;34m:\u001b[0m\u001b[0;34m\u001b[0m\u001b[0;34m\u001b[0m\u001b[0m\n",
      "\u001b[0;31mKeyboardInterrupt\u001b[0m: "
     ]
    }
   ],
   "source": [
    "import numpy as np\n",
    "import pandas as pd\n",
    "import matplotlib.pyplot as plt\n",
    "import scipy\n",
    "\n",
    "\n",
    "import pandas_datareader.data as web\n",
    "import datetime\n",
    "\n",
    "\n",
    "# scrapping financial data from the web\n",
    "\n",
    "start = datetime.datetime(2011, 3, 8)\n",
    "end = datetime.datetime(2021, 3, 8)\n",
    "\n",
    "SP500 = web.DataReader(['sp500'], 'fred', start, end)\n",
    "\n"
   ]
  },
  {
   "cell_type": "code",
   "execution_count": 2,
   "metadata": {},
   "outputs": [
    {
     "ename": "NameError",
     "evalue": "name 'SP500' is not defined",
     "output_type": "error",
     "traceback": [
      "\u001b[0;31m---------------------------------------------------------------------------\u001b[0m",
      "\u001b[0;31mNameError\u001b[0m                                 Traceback (most recent call last)",
      "\u001b[0;32m<ipython-input-2-19dee7f17a4d>\u001b[0m in \u001b[0;36m<module>\u001b[0;34m\u001b[0m\n\u001b[0;32m----> 1\u001b[0;31m \u001b[0mSP500\u001b[0m\u001b[0;34m[\u001b[0m\u001b[0;34m'daily return'\u001b[0m\u001b[0;34m]\u001b[0m \u001b[0;34m=\u001b[0m \u001b[0;34m(\u001b[0m\u001b[0mSP500\u001b[0m\u001b[0;34m[\u001b[0m\u001b[0;34m'sp500'\u001b[0m\u001b[0;34m]\u001b[0m\u001b[0;34m/\u001b[0m\u001b[0mSP500\u001b[0m\u001b[0;34m[\u001b[0m\u001b[0;34m'sp500'\u001b[0m\u001b[0;34m]\u001b[0m\u001b[0;34m.\u001b[0m\u001b[0mshift\u001b[0m\u001b[0;34m(\u001b[0m\u001b[0;36m1\u001b[0m\u001b[0;34m)\u001b[0m\u001b[0;34m)\u001b[0m \u001b[0;34m-\u001b[0m\u001b[0;36m1\u001b[0m\u001b[0;34m\u001b[0m\u001b[0;34m\u001b[0m\u001b[0m\n\u001b[0m\u001b[1;32m      2\u001b[0m \u001b[0mSP500\u001b[0m\u001b[0;34m.\u001b[0m\u001b[0mdropna\u001b[0m\u001b[0;34m(\u001b[0m\u001b[0minplace\u001b[0m \u001b[0;34m=\u001b[0m \u001b[0;32mTrue\u001b[0m\u001b[0;34m)\u001b[0m\u001b[0;34m\u001b[0m\u001b[0;34m\u001b[0m\u001b[0m\n\u001b[1;32m      3\u001b[0m \u001b[0;34m\u001b[0m\u001b[0m\n\u001b[1;32m      4\u001b[0m \u001b[0;34m\u001b[0m\u001b[0m\n\u001b[1;32m      5\u001b[0m \u001b[0;34m\u001b[0m\u001b[0m\n",
      "\u001b[0;31mNameError\u001b[0m: name 'SP500' is not defined"
     ]
    }
   ],
   "source": [
    "SP500['daily return'] = (SP500['sp500']/SP500['sp500'].shift(1)) -1\n",
    "SP500.dropna(inplace = True)\n",
    "\n",
    "\n",
    "\n",
    "# shows, plots daily returns of S&P500 Index\n",
    "\n",
    "print(type(SP500))\n",
    "print(type(SP500['daily return']))\n",
    "print(SP500['daily return'])\n",
    "SP500['daily return'].plot(title = \"S&P500 Daily Returns\")\n",
    "\n"
   ]
  },
  {
   "cell_type": "code",
   "execution_count": 3,
   "metadata": {},
   "outputs": [
    {
     "ename": "NameError",
     "evalue": "name 'SP500' is not defined",
     "output_type": "error",
     "traceback": [
      "\u001b[0;31m---------------------------------------------------------------------------\u001b[0m",
      "\u001b[0;31mNameError\u001b[0m                                 Traceback (most recent call last)",
      "\u001b[0;32m<ipython-input-3-5ce2babb1be4>\u001b[0m in \u001b[0;36m<module>\u001b[0;34m\u001b[0m\n\u001b[1;32m      4\u001b[0m \u001b[0;31m# reshape data\u001b[0m\u001b[0;34m\u001b[0m\u001b[0;34m\u001b[0m\u001b[0;34m\u001b[0m\u001b[0m\n\u001b[1;32m      5\u001b[0m \u001b[0;34m\u001b[0m\u001b[0m\n\u001b[0;32m----> 6\u001b[0;31m \u001b[0mx\u001b[0m \u001b[0;34m=\u001b[0m \u001b[0mSP500\u001b[0m\u001b[0;34m[\u001b[0m\u001b[0;34m'daily return'\u001b[0m\u001b[0;34m]\u001b[0m\u001b[0;34m.\u001b[0m\u001b[0marray\u001b[0m\u001b[0;34m\u001b[0m\u001b[0;34m\u001b[0m\u001b[0m\n\u001b[0m\u001b[1;32m      7\u001b[0m \u001b[0mprint\u001b[0m\u001b[0;34m(\u001b[0m\u001b[0;34m\"data type of x is: \"\u001b[0m\u001b[0;34m,\u001b[0m\u001b[0mtype\u001b[0m\u001b[0;34m(\u001b[0m\u001b[0mx\u001b[0m\u001b[0;34m)\u001b[0m\u001b[0;34m)\u001b[0m\u001b[0;34m\u001b[0m\u001b[0;34m\u001b[0m\u001b[0m\n\u001b[1;32m      8\u001b[0m \u001b[0mX\u001b[0m \u001b[0;34m=\u001b[0m \u001b[0mx\u001b[0m\u001b[0;34m.\u001b[0m\u001b[0mto_numpy\u001b[0m\u001b[0;34m(\u001b[0m\u001b[0;34m)\u001b[0m\u001b[0;34m\u001b[0m\u001b[0;34m\u001b[0m\u001b[0m\n",
      "\u001b[0;31mNameError\u001b[0m: name 'SP500' is not defined"
     ]
    }
   ],
   "source": [
    "from sklearn.neighbors import KernelDensity\n",
    "import seaborn as sns\n",
    "\n",
    "# reshape data \n",
    "\n",
    "x = SP500['daily return'].array\n",
    "print(\"data type of x is: \",type(x))\n",
    "X = x.to_numpy()\n",
    "print(\"data type of X is: \",type(X))\n",
    "print(\"The average daily return of the S&P500 is: \", np.average(X))\n",
    "\n",
    "\n",
    "\n",
    "\n",
    "# initialize the kernel density estimation\n",
    "\n",
    "kde = KernelDensity(kernel='gaussian', bandwidth = 0.019).fit(X[:, None])\n",
    "\n",
    "\n",
    "# returns log of probability density\n",
    "\n",
    "logprob = kde.score_samples(X[:, None])\n",
    "\n",
    "\n",
    "# Plotting the kde\n",
    "\n",
    "plt.fill_between(X, np.exp(logprob), alpha  = 0.6)\n",
    "\n",
    "plt.plot(X, np.full_like(X, -0.01), '|k', markeredgewidth=1)\n",
    "plt.ylim(-0.25, 25.25)\n",
    "\n",
    "sns.kdeplot(X, shade = True)"
   ]
  },
  {
   "cell_type": "markdown",
   "metadata": {},
   "source": [
    "# New dataset"
   ]
  },
  {
   "cell_type": "code",
   "execution_count": 4,
   "metadata": {},
   "outputs": [],
   "source": [
    "import numpy as np\n",
    "\n",
    "\n",
    "\n",
    "def is_pos_def(x):\n",
    "    return np.all(np.linalg.eigvals(x) > 0)\n",
    "\n",
    "\n",
    "def check_symmetric(a, rtol=1e-05, atol=1e-08):\n",
    "    return np.allclose(a, a.T, rtol=rtol, atol=atol)\n"
   ]
  },
  {
   "cell_type": "code",
   "execution_count": 3,
   "metadata": {
    "scrolled": true
   },
   "outputs": [
    {
     "name": "stdout",
     "output_type": "stream",
     "text": [
      "[*********************100%***********************]  1 of 1 completed\n",
      "<class 'pandas.core.frame.DataFrame'>\n"
     ]
    },
    {
     "ename": "NameError",
     "evalue": "name 'plt' is not defined",
     "output_type": "error",
     "traceback": [
      "\u001b[1;31m---------------------------------------------------------------------------\u001b[0m",
      "\u001b[1;31mNameError\u001b[0m                                 Traceback (most recent call last)",
      "\u001b[1;32m<ipython-input-3-617507bd7a59>\u001b[0m in \u001b[0;36m<module>\u001b[1;34m\u001b[0m\n\u001b[0;32m     21\u001b[0m \u001b[1;33m\u001b[0m\u001b[0m\n\u001b[0;32m     22\u001b[0m \u001b[1;31m# plot of Apple Price\u001b[0m\u001b[1;33m\u001b[0m\u001b[1;33m\u001b[0m\u001b[1;33m\u001b[0m\u001b[0m\n\u001b[1;32m---> 23\u001b[1;33m \u001b[0mplt\u001b[0m\u001b[1;33m.\u001b[0m\u001b[0mplot\u001b[0m\u001b[1;33m(\u001b[0m\u001b[0mApple\u001b[0m\u001b[1;33m)\u001b[0m\u001b[1;33m\u001b[0m\u001b[1;33m\u001b[0m\u001b[0m\n\u001b[0m\u001b[0;32m     24\u001b[0m \u001b[0mplt\u001b[0m\u001b[1;33m.\u001b[0m\u001b[0mtitle\u001b[0m\u001b[1;33m(\u001b[0m\u001b[1;34m\"Apple Price\"\u001b[0m\u001b[1;33m)\u001b[0m\u001b[1;33m\u001b[0m\u001b[1;33m\u001b[0m\u001b[0m\n\u001b[0;32m     25\u001b[0m \u001b[0mplt\u001b[0m\u001b[1;33m.\u001b[0m\u001b[0mxlabel\u001b[0m\u001b[1;33m(\u001b[0m\u001b[1;34m\"Days Elapsed\"\u001b[0m\u001b[1;33m)\u001b[0m\u001b[1;33m\u001b[0m\u001b[1;33m\u001b[0m\u001b[0m\n",
      "\u001b[1;31mNameError\u001b[0m: name 'plt' is not defined"
     ]
    }
   ],
   "source": [
    "import pandas as pd\n",
    "import yfinance as yf\n",
    "import plotly.graph_objs as go\n",
    "\n",
    "\n",
    "data = yf.download(\"AAPL\", period = \"10y\")\n",
    "\n",
    "print(type(data))\n",
    "\n",
    "data.head()\n",
    "\n",
    "\n",
    "# slicing data to just look at closing prices\n",
    "apple = data[\"Close\"]\n",
    "apple.head()\n",
    "\n",
    "# changing data from pandas data series to numpy array\n",
    "Apple = np.array(apple)\n",
    "\n",
    "\n",
    "\n",
    "# plot of Apple Price\n",
    "plt.plot(Apple)\n",
    "plt.title(\"Apple Price\")\n",
    "plt.xlabel(\"Days Elapsed\")\n",
    "plt.ylabel(\"Price in $\")\n",
    "plt.show()\n",
    "\n",
    "\n",
    "\n",
    "\n",
    "\n",
    "# converting prices to returns\n",
    "\n",
    "def financial_returns(x):\n",
    "    return np.diff(x) / x[ : -1]\n",
    "\n",
    "\n",
    "financial_returns(Apple)\n",
    "\n",
    "\n",
    "# graph of returns\n",
    "\n",
    "apple_returns = financial_returns(Apple)\n",
    "plt.plot(apple_returns, \"g\")\n",
    "plt.title(\"Apple Returns\")\n",
    "plt.xlabel(\"Time\")\n",
    "plt.ylabel(\" % Return\")\n",
    "plt.show()\n",
    "\n",
    "\n",
    "\n",
    "\n",
    "\n",
    "\n",
    "\n",
    "\n",
    "\n",
    "fig = plt.figure()\n",
    "ax1 = fig.add_axes([0.1,0.1,0.8,0.8])\n",
    "ax1.set_xlabel(\"Daily returns %\")\n",
    "ax1.set_ylabel(\"Percent\")\n",
    "ax1.set_title(\"Apple daily returns\")\n",
    "ax1.text(-0.075,50,\"Extreme Low returns\")\n",
    "ax1.text(0.05,50,\"Extreme High returns\")\n",
    "plt.show()\n",
    "\n",
    "\n",
    "\n",
    "\n",
    "\n",
    "\n",
    "\n",
    "\n",
    "\n",
    "# Gaussian Kernel function\n",
    "\n",
    "def Gaussian_Kernel(x, h):\n",
    "    return np.exp(-x**2/ 2 * h**2)\n",
    "\n",
    "\n",
    "Gaussian_Kernel(1, 1)\n",
    "\n",
    "\n",
    "Gaussian_Kernel(apple_returns, h = 0.1)\n",
    " \n",
    "\n",
    "\n",
    "print(apple_returns.shape)\n",
    "\n",
    "\n",
    "\n",
    "\n",
    "\n",
    "\n",
    "\n",
    "\n",
    "\n",
    "difference_matrix = []\n",
    "for i in range(len(apple_returns)):\n",
    "    for k in range(len(apple_returns)):\n",
    "        difference_matrix.append(apple_returns[k] - apple_returns[i])\n",
    "        M = np.mat(difference_matrix)\n",
    "\n",
    "\n",
    "print(type(M))\n",
    "\n",
    "\n",
    "GKM = Gaussian_Kernel(M, h=0.1)\n",
    "\n",
    "GKM1 = GKM/GKM.sum(axis = 1)\n",
    "\n",
    "plt.plot(GKM1)\n",
    "plt.show()\n",
    "\n",
    "\n",
    "\n"
   ]
  },
  {
   "cell_type": "code",
   "execution_count": 7,
   "metadata": {},
   "outputs": [
    {
     "name": "stdout",
     "output_type": "stream",
     "text": [
      "[*********************100%***********************]  1 of 1 completed\n",
      "[*********************100%***********************]  1 of 1 completed\n",
      "<class 'pandas.core.frame.DataFrame'>\n"
     ]
    },
    {
     "data": {
      "image/png": "[encoded data removed]",
      "text/plain": [
       "<Figure size 432x288 with 1 Axes>"
      ]
     },
     "metadata": {
      "needs_background": "light"
     },
     "output_type": "display_data"
    },
    {
     "data": {
      "image/png": "[encoded data removed]",
      "text/plain": [
       "<Figure size 432x288 with 1 Axes>"
      ]
     },
     "metadata": {
      "needs_background": "light"
     },
     "output_type": "display_data"
    },
    {
     "data": {
      "image/png": "[encoded data removed]",
      "text/plain": [
       "<Figure size 432x288 with 1 Axes>"
      ]
     },
     "metadata": {
      "needs_background": "light"
     },
     "output_type": "display_data"
    },
    {
     "name": "stdout",
     "output_type": "stream",
     "text": [
      "The std of Z is:  0.01810829667622595\n"
     ]
    },
    {
     "data": {
      "image/png": "[encoded data removed]",
      "text/plain": [
       "<Figure size 432x288 with 1 Axes>"
      ]
     },
     "metadata": {
      "needs_background": "light"
     },
     "output_type": "display_data"
    },
    {
     "data": {
      "image/png": "[encoded data removed]",
      "text/plain": [
       "<Figure size 432x288 with 1 Axes>"
      ]
     },
     "metadata": {
      "needs_background": "light"
     },
     "output_type": "display_data"
    },
    {
     "name": "stdout",
     "output_type": "stream",
     "text": [
      "The std of X is:  0.018110034973475502\n"
     ]
    },
    {
     "data": {
      "image/png": "[encoded data removed]",
      "text/plain": [
       "<Figure size 432x288 with 1 Axes>"
      ]
     },
     "metadata": {
      "needs_background": "light"
     },
     "output_type": "display_data"
    },
    {
     "name": "stdout",
     "output_type": "stream",
     "text": [
      "2514\n"
     ]
    },
    {
     "name": "stderr",
     "output_type": "stream",
     "text": [
      "/Library/Frameworks/Python.framework/Versions/3.6/lib/python3.6/site-packages/ipykernel_launcher.py:125: DeprecationWarning:\n",
      "\n",
      "scipy.exp is deprecated and will be removed in SciPy 2.0.0, use numpy.exp instead\n",
      "\n"
     ]
    },
    {
     "data": {
      "image/png": "[encoded data removed]",
      "text/plain": [
       "<Figure size 432x288 with 1 Axes>"
      ]
     },
     "metadata": {
      "needs_background": "light"
     },
     "output_type": "display_data"
    }
   ],
   "source": [
    "data = yf.download(\"AAPL\", start = \"2011-04-15\", end = \"2021-04-15\")\n",
    "data1 = yf.download(\"AAPL\", start = \"2011-04-16\", end = \"2021-04-16\")\n",
    "from scipy.spatial.distance import pdist, squareform\n",
    "from scipy.spatial import distance_matrix\n",
    "from scipy import stats\n",
    "import seaborn as sns\n",
    "\n",
    "\n",
    "print(type(data))\n",
    "\n",
    "data.head()\n",
    "\n",
    "\n",
    "# slicing data to just look at closing prices for Z\n",
    "apple = data[\"Close\"]\n",
    "Time = data.copy()\n",
    "Time['year'], Time['month'], Time['day'] = data.index.year, data.index.month, data.index.day\n",
    "time_pandas = Time.iloc[:,[-1]]\n",
    "\n",
    "apple.head()\n",
    "\n",
    "\n",
    "# slicing data to just look at closing prices for X, changing to numpy array\n",
    "apple1 = data1[\"Close\"]\n",
    "Apple1 = np.array(apple1)\n",
    "\n",
    "\n",
    "\n",
    "\n",
    "\n",
    "# changing data from pandas data series to numpy array\n",
    "Apple = np.array(apple)\n",
    "time = np.array(time_pandas)\n",
    "\n",
    "\n",
    "# plot of Apple Price\n",
    "plt.plot(Apple)\n",
    "plt.title(\"Apple Price (2011-04-15 - 2021-04-15)\")\n",
    "plt.xlabel(\"Time\")\n",
    "plt.ylabel(\"Price in $\")\n",
    "plt.show()\n",
    "\n",
    "\n",
    "\n",
    "plt.plot(Apple1)\n",
    "plt.title(\"Apple Price (2011-04-16 - 2021-04-16)\")\n",
    "plt.xlabel(\"Time\")\n",
    "plt.ylabel(\"Price in $\")\n",
    "plt.show()\n",
    "\n",
    "\n",
    "\n",
    "\n",
    "\n",
    "\n",
    "\n",
    "# converting prices to returns\n",
    "\n",
    "def financial_returns(x):\n",
    "    return np.diff(x) / x[ : -1]\n",
    "\n",
    "\n",
    "\n",
    "\n",
    "\n",
    "financial_returns(Apple)\n",
    "financial_returns(Apple1)\n",
    "\n",
    "# graph of returns Z\n",
    "\n",
    "apple_returns = financial_returns(Apple)\n",
    "plt.plot(apple_returns, \"g\")\n",
    "plt.title(\"Z variable ~ Apple Returns (2011-04-15 - 2021-04-15)\")\n",
    "plt.xlabel(\"Time\")\n",
    "plt.ylabel(\" % Return\")\n",
    "plt.show()\n",
    "print(\"The std of Z is: \", np.std(apple_returns))\n",
    "\n",
    "\n",
    "plt.hist(apple_returns, bins='auto')\n",
    "plt.title(\"Z variable ~ Apple Returns (2011-04-15 - 2021-04-15)\")\n",
    "plt.ylabel(\"Frequency\")\n",
    "plt.xlabel(\"% Return\")\n",
    "plt.show()\n",
    "\n",
    "\n",
    "# Graph of returns for X\n",
    "\n",
    "apple1_returns = financial_returns(Apple1)\n",
    "plt.plot(apple1_returns, \"b\")\n",
    "plt.title(\"X variable ~ Apple Returns (2011-04-16 - 2021-04-16)\")\n",
    "plt.xlabel(\"Time\")\n",
    "plt.ylabel(\" % Return\")\n",
    "plt.show()\n",
    "print(\"The std of X is: \", np.std(apple1_returns))\n",
    "\n",
    "\n",
    "plt.hist(apple1_returns, bins='auto')\n",
    "plt.title(\"X variable ~ Apple Returns (2011-04-16 - 2021-04-16)\")\n",
    "plt.ylabel(\"Frequency\")\n",
    "plt.xlabel(\"% Return\")\n",
    "plt.show()\n",
    "\n",
    "\n",
    "\n",
    "\n",
    "plt.hist(apple1_returns, bins = 'auto')\n",
    "plt.show\n",
    "sns.kdeplot(apple1_returns)\n",
    "\n",
    "\n",
    "    \n",
    "    \n",
    "    \n",
    "    \n",
    "# Scotts factor rule of thumb bandwidth (n**(-1/(d+4)))\n",
    "s = 25**(-1/5)\n",
    "\n",
    "t1 = np.arange(2516)\n",
    "t = np.array(t1)\n",
    "at1 = ((apple_returns), (apple1_returns))\n",
    "at = np.array(at1)\n",
    "from scipy.spatial.distance import pdist, squareform\n",
    "pairwise_dists = squareform(pdist(at, 'euclidean'))\n",
    "K = scipy.exp(-pairwise_dists ** 2 / s ** 2)\n",
    "\n",
    "# Gaussian Kernel function\n",
    "\n",
    "def Gaussian_Kernel(x, h):\n",
    "    return np.exp(-x**2/ 2 * h**2)\n",
    "\n",
    "\n",
    "\n",
    "Gaussian_Kernel(1, 1)\n",
    "\n",
    "\n",
    "Gaussian_Kernel(apple_returns, h = 0.1)\n",
    " \n",
    "\n",
    "\n",
    "print(len(apple_returns))\n",
    "\n",
    "\n",
    "\n",
    "\n",
    "\n",
    "\n",
    "\n",
    "\n"
   ]
  },
  {
   "cell_type": "code",
   "execution_count": 8,
   "metadata": {
    "scrolled": false
   },
   "outputs": [
    {
     "name": "stdout",
     "output_type": "stream",
     "text": [
      "The shape of q is:  (25, 25) [[0.04000006 0.04000008 0.04000006 0.04000011 0.04000002 0.03999995\n",
      "  0.03999998 0.03999994 0.04000004 0.03999993 0.04000002 0.04000001\n",
      "  0.03999995 0.03999999 0.04       0.04000002 0.03999996 0.03999998\n",
      "  0.0399999  0.03999988 0.04000003 0.04000004 0.04       0.03999991\n",
      "  0.03999998]\n",
      " [0.04000005 0.04000008 0.04000005 0.04000013 0.04       0.03999991\n",
      "  0.03999995 0.03999989 0.04000003 0.03999988 0.04       0.03999999\n",
      "  0.0399999  0.03999996 0.03999998 0.04       0.03999992 0.03999995\n",
      "  0.03999984 0.03999981 0.04000002 0.04000004 0.03999997 0.03999985\n",
      "  0.03999994]\n",
      " [0.04000006 0.04000008 0.04000006 0.04000011 0.04000002 0.03999995\n",
      "  0.03999998 0.03999994 0.04000004 0.03999993 0.04000002 0.04000001\n",
      "  0.03999995 0.03999999 0.04       0.04000002 0.03999996 0.03999998\n",
      "  0.0399999  0.03999988 0.04000003 0.04000004 0.04       0.03999991\n",
      "  0.03999998]\n",
      " [0.04000003 0.04000008 0.04000003 0.04000013 0.03999997 0.03999984\n",
      "  0.0399999  0.03999982 0.04       0.0399998  0.03999996 0.03999994\n",
      "  0.03999983 0.0399999  0.03999993 0.03999996 0.03999985 0.03999989\n",
      "  0.03999974 0.03999971 0.03999999 0.04000001 0.03999993 0.03999976\n",
      "  0.03999988]\n",
      " [0.04000005 0.04000006 0.04000005 0.04000007 0.04000003 0.04\n",
      "  0.04000001 0.03999999 0.04000004 0.03999999 0.04000003 0.04000002\n",
      "  0.04       0.04000002 0.04000002 0.04000003 0.04       0.04000001\n",
      "  0.03999998 0.03999997 0.04000004 0.04000004 0.04000002 0.03999998\n",
      "  0.04000001]\n",
      " [0.03999997 0.03999995 0.03999997 0.03999993 0.03999999 0.04000004\n",
      "  0.04000002 0.04000005 0.03999998 0.04000005 0.04       0.04\n",
      "  0.04000004 0.04000001 0.04       0.04       0.04000003 0.04000002\n",
      "  0.04000007 0.04000008 0.03999999 0.03999998 0.04000001 0.04000007\n",
      "  0.04000002]\n",
      " [0.04000002 0.04000001 0.04000002 0.04000001 0.04000002 0.04000003\n",
      "  0.04000003 0.04000003 0.04000002 0.04000003 0.04000002 0.04000002\n",
      "  0.04000003 0.04000002 0.04000002 0.04000002 0.04000003 0.04000003\n",
      "  0.04000004 0.04000004 0.04000002 0.04000002 0.04000002 0.04000003\n",
      "  0.04000003]\n",
      " [0.03999995 0.03999993 0.03999995 0.0399999  0.03999998 0.04000004\n",
      "  0.04000001 0.04000005 0.03999996 0.04000005 0.03999998 0.03999999\n",
      "  0.04000004 0.04000001 0.03999999 0.03999998 0.04000003 0.04000001\n",
      "  0.04000008 0.0400001  0.03999997 0.03999996 0.04       0.04000007\n",
      "  0.04000002]\n",
      " [0.04000005 0.04000007 0.04000005 0.04000009 0.04000003 0.03999998\n",
      "  0.04       0.03999997 0.04000004 0.03999997 0.04000003 0.04000002\n",
      "  0.03999998 0.04       0.04000002 0.04000002 0.03999998 0.04\n",
      "  0.03999994 0.03999993 0.04000004 0.04000004 0.04000001 0.03999995\n",
      "  0.04      ]\n",
      " [0.03999994 0.03999991 0.03999994 0.03999989 0.03999997 0.04000004\n",
      "  0.04       0.04000005 0.03999995 0.04000005 0.03999997 0.03999998\n",
      "  0.04000004 0.04       0.03999999 0.03999998 0.04000003 0.04000001\n",
      "  0.04000008 0.0400001  0.03999996 0.03999995 0.03999999 0.04000007\n",
      "  0.04000001]\n",
      " [0.04000004 0.04000005 0.04000004 0.04000006 0.04000003 0.04\n",
      "  0.04000002 0.04       0.04000004 0.04       0.04000003 0.04000003\n",
      "  0.04       0.04000002 0.04000002 0.04000003 0.04000001 0.04000001\n",
      "  0.03999999 0.03999998 0.04000003 0.04000004 0.04000002 0.03999999\n",
      "  0.04000001]\n",
      " [0.04000004 0.04000004 0.04000004 0.04000005 0.04000003 0.04000001\n",
      "  0.04000002 0.04000001 0.04000003 0.04000001 0.04000003 0.04000003\n",
      "  0.04000001 0.04000002 0.04000002 0.04000003 0.04000001 0.04000002\n",
      "  0.04       0.04       0.04000003 0.04000003 0.04000002 0.04\n",
      "  0.04000002]\n",
      " [0.03999996 0.03999995 0.03999996 0.03999992 0.03999999 0.04000004\n",
      "  0.04000001 0.04000005 0.03999998 0.04000005 0.03999999 0.04\n",
      "  0.04000004 0.04000001 0.04       0.03999999 0.04000003 0.04000002\n",
      "  0.04000007 0.04000009 0.03999998 0.03999997 0.04       0.04000007\n",
      "  0.04000002]\n",
      " [0.04000002 0.04000002 0.04000002 0.04000001 0.04000002 0.04000003\n",
      "  0.04000002 0.04000003 0.04000002 0.04000003 0.04000002 0.04000002\n",
      "  0.04000003 0.04000002 0.04000002 0.04000002 0.04000003 0.04000003\n",
      "  0.04000003 0.04000003 0.04000002 0.04000002 0.04000002 0.04000003\n",
      "  0.04000003]\n",
      " [0.04000003 0.04000004 0.04000003 0.04000004 0.04000003 0.04000002\n",
      "  0.04000002 0.04000002 0.04000003 0.04000002 0.04000003 0.04000003\n",
      "  0.04000002 0.04000002 0.04000003 0.04000003 0.04000002 0.04000002\n",
      "  0.04000001 0.04000001 0.04000003 0.04000003 0.04000002 0.04000001\n",
      "  0.04000002]\n",
      " [0.04000004 0.04000005 0.04000004 0.04000006 0.04000003 0.04000001\n",
      "  0.04000002 0.04       0.04000004 0.04       0.04000003 0.04000003\n",
      "  0.04       0.04000002 0.04000002 0.04000003 0.04000001 0.04000002\n",
      "  0.03999999 0.03999998 0.04000003 0.04000004 0.04000002 0.03999999\n",
      "  0.04000001]\n",
      " [0.03999998 0.03999996 0.03999998 0.03999995 0.04       0.04000004\n",
      "  0.04000002 0.04000004 0.03999999 0.04000005 0.04       0.04000001\n",
      "  0.04000004 0.04000002 0.04000001 0.04       0.04000003 0.04000002\n",
      "  0.04000007 0.04000008 0.03999999 0.03999998 0.04000001 0.04000006\n",
      "  0.04000002]\n",
      " [0.04000001 0.04       0.04000001 0.04       0.04000002 0.04000003\n",
      "  0.04000002 0.04000003 0.04000001 0.04000004 0.04000002 0.04000002\n",
      "  0.04000003 0.04000002 0.04000002 0.04000002 0.04000003 0.04000003\n",
      "  0.04000004 0.04000005 0.04000001 0.04000001 0.04000002 0.04000004\n",
      "  0.04000003]\n",
      " [0.03999986 0.03999983 0.03999986 0.03999978 0.03999991 0.04000002\n",
      "  0.03999997 0.04000003 0.03999989 0.04000004 0.03999992 0.03999993\n",
      "  0.04000002 0.03999997 0.03999994 0.03999992 0.04000001 0.03999998\n",
      "  0.04000009 0.04000012 0.0399999  0.03999988 0.03999995 0.04000008\n",
      "  0.03999998]\n",
      " [0.03999982 0.03999978 0.03999982 0.03999972 0.03999988 0.04\n",
      "  0.03999994 0.04000002 0.03999985 0.04000003 0.03999989 0.0399999\n",
      "  0.04000001 0.03999994 0.03999991 0.03999989 0.03999999 0.03999995\n",
      "  0.04000009 0.04000012 0.03999986 0.03999984 0.03999992 0.04000007\n",
      "  0.03999996]\n",
      " [0.04000005 0.04000007 0.04000005 0.04000008 0.04000003 0.03999999\n",
      "  0.04000001 0.03999998 0.04000004 0.03999998 0.04000003 0.04000002\n",
      "  0.03999999 0.04000001 0.04000002 0.04000003 0.03999999 0.04\n",
      "  0.03999996 0.03999995 0.04000004 0.04000004 0.04000002 0.03999996\n",
      "  0.04      ]\n",
      " [0.04000005 0.04000007 0.04000005 0.0400001  0.04000003 0.03999997\n",
      "  0.04       0.03999996 0.04000004 0.03999996 0.04000002 0.04000002\n",
      "  0.03999997 0.04       0.04000001 0.04000002 0.03999997 0.03999999\n",
      "  0.03999993 0.03999991 0.04000003 0.04000005 0.04000001 0.03999994\n",
      "  0.03999999]\n",
      " [0.04000003 0.04000003 0.04000003 0.04000003 0.04000003 0.04000002\n",
      "  0.04000002 0.04000002 0.04000003 0.04000002 0.04000003 0.04000003\n",
      "  0.04000002 0.04000002 0.04000002 0.04000003 0.04000002 0.04000002\n",
      "  0.04000002 0.04000002 0.04000003 0.04000003 0.04000002 0.04000002\n",
      "  0.04000002]\n",
      " [0.03999989 0.03999986 0.03999989 0.03999982 0.03999993 0.04000002\n",
      "  0.03999998 0.04000004 0.03999991 0.04000005 0.03999994 0.03999995\n",
      "  0.04000003 0.03999998 0.03999996 0.03999994 0.04000002 0.03999999\n",
      "  0.04000009 0.04000012 0.03999992 0.0399999  0.03999996 0.04000008\n",
      "  0.03999999]\n",
      " [0.04000001 0.04       0.04000001 0.03999999 0.04000001 0.04000003\n",
      "  0.04000002 0.04000004 0.04000001 0.04000004 0.04000002 0.04000002\n",
      "  0.04000003 0.04000002 0.04000002 0.04000002 0.04000003 0.04000003\n",
      "  0.04000005 0.04000005 0.04000001 0.04000001 0.04000002 0.04000004\n",
      "  0.04000003]]\n"
     ]
    }
   ],
   "source": [
    "q = []\n",
    "i=0\n",
    "while(i<25):\n",
    "    j=0\n",
    "    while(j<25):\n",
    "        q.append(Gaussian_Kernel(np.absolute(apple_returns[j]-apple_returns[i]), h=0.1))\n",
    "        j=j+1\n",
    "    i=i+1\n",
    "matrix_qq = np.reshape(q, (25,25))\n",
    "matrix_q = matrix_qq/np.sum(matrix_qq, axis = 1)\n",
    "print(\"The shape of q is: \", np.shape(matrix_q), matrix_q)\n",
    "\n"
   ]
  },
  {
   "cell_type": "code",
   "execution_count": 9,
   "metadata": {},
   "outputs": [
    {
     "ename": "IndentationError",
     "evalue": "expected an indented block (<ipython-input-9-6f15f3b4be63>, line 2)",
     "output_type": "error",
     "traceback": [
      "\u001b[0;36m  File \u001b[0;32m\"<ipython-input-9-6f15f3b4be63>\"\u001b[0;36m, line \u001b[0;32m2\u001b[0m\n\u001b[0;31m    for k in range(len(GKM1)):\u001b[0m\n\u001b[0m      ^\u001b[0m\n\u001b[0;31mIndentationError\u001b[0m\u001b[0;31m:\u001b[0m expected an indented block\n"
     ]
    }
   ],
   "source": [
    "\n",
    "for i in range(len(GKM1)):\n",
    "for k in range(len(GKM1)):\n",
    "C = C_matrix.append(GKM1[i,k]-1/(2515*GKM1.sum(axis = 0))) \n",
    "C = matrix_q    \n",
    "var = np.var(matrix_q)\n",
    "y = matrix_qq\n",
    "\n",
    "def gradient_kernel_y(y, var):\n",
    "   return (-2*y / var) * np.exp(-y**2 / 2 * var)\n",
    "\n",
    "\n",
    "def derivative_kernel(y, var):\n",
    "    return (-2*y/var) * np.exp((-y**2 ) / (2*var))\n",
    "\n",
    "\n",
    "\n",
    "print(derivative_kernel(y, var))\n",
    "\n",
    "\n",
    "\n",
    "\n",
    "# set parameters\n",
    "\n",
    "\n",
    "\n",
    "lamb = 2\n",
    "x = y\n",
    "\n",
    " \n",
    "    \n",
    "    \n",
    "plt.plot(Gaussian_Kernel(matrix_q, h=0.1),'g')\n",
    "plt.title(\"Gaussian Difference matrix\")\n",
    "plt.show()\n",
    "\n",
    "do = 2*np.absolute(x-y)\n",
    "o = np.absolute(x - y) ** 2 + lamb * np.sum(Gaussian_Kernel(y, var) * C)\n",
    "\n",
    "## end of small size test data\n",
    "\n",
    "\n",
    "\n",
    "\n",
    "\n",
    "print(\"The shape of C is: \", np.shape(C), \"The shape of y is: \", np.shape(y))\n",
    "\n",
    "diff_L_F = lamb * np.sum(gradient_kernel_y(y, var) * C)\n",
    "diff_L_C = 2 * np.absolute(x-y) * y\n",
    "diff_obj = diff_L_C + diff_L_F\n",
    "L_F = lamb * np.sum(Gaussian_Kernel(y, var) * C)\n",
    "L_C = np.absolute(x - y)**2\n",
    "obj = L_F + L_C\n",
    "\n",
    "    \n",
    "    \n",
    "    \n",
    "# Gradient Descent function \n",
    "   \n",
    "def simple_gradient_descent(learning_rate, lam):\n",
    "    \n",
    "    Beta = (learning_rate * diff_obj)\n",
    "    y_new = y - Beta\n",
    "    return y_new\n",
    "\n",
    "print(\"Updated Y after simple gradient descent using learning rate = 0.1, lambda = 0.2 = \", simple_gradient_descent(learning_rate=0.1, lam=0.2))    \n",
    "    \n",
    "    \n",
    "# different values for learning rate and lambda \n",
    "\n",
    "    \n",
    "    \n",
    "    \n",
    "    \n",
    "    \n",
    "    \n",
    "    \n",
    "\n",
    "def gradient_descent(max_iterations,threshold,w_init,\n",
    "                     obj_func,grad_func,extra_param = [],\n",
    "                     learning_rate=0.05,momentum=0.8):\n",
    "    \n",
    "    w = w_init\n",
    "    w_history = w\n",
    "    f_history = obj_func(w,extra_param)\n",
    "    delta_w = np.zeros(w.shape)\n",
    "    i = 0\n",
    "    diff = 1.0\n",
    "    \n",
    "    while  i<max_iterations and diff>threshold:\n",
    "        delta_w = -learning_rate*grad_func(w,extra_param) + momentum*delta_w\n",
    "        w = w+delta_w\n",
    "        \n",
    "        # store the history of w and f\n",
    "        w_history = np.vstack((w_history,w))\n",
    "        f_history = np.vstack((f_history,obj_func(w,extra_param)))\n",
    "        \n",
    "        # update iteration number and diff between successive values\n",
    "        # of objective function\n",
    "        i+=1\n",
    "        diff = np.absolute(f_history[-1]-f_history[-2])\n",
    "    \n",
    "    return w_history,f_history   \n",
    "    \n",
    "\n",
    "    \n",
    "gradient_descent(1, 0, y, o, do, extra_param=[Time], learning_rate=0.5, momentum=0.8)\n",
    "\n",
    "\n",
    "    \n",
    "gradient_descent(max_iterations=1, threshold=0, w_init=y, obj_func=obj, grad_func=diff_obj, extra_param=[Time], learning_rate=0.05, momentum=0.8)\n",
    "    \n",
    "    \n",
    "\n",
    "\n",
    "\n",
    "def visualize_fw():\n",
    "    xcoord = np.linspace(-10.0,10.0,50)\n",
    "    ycoord = np.linspace(-10.0,10.0,50)\n",
    "    w1,w2 = np.meshgrid(xcoord,ycoord)\n",
    "    pts = np.vstack((w1.flatten(),w2.flatten()))\n",
    "    \n",
    "    # All 2D points on the grid\n",
    "    pts = pts.transpose()\n",
    "    \n",
    "    # Function value at each point\n",
    "    f_vals = np.sum(pts*pts,axis=1)\n",
    "    function_plot(pts,f_vals)\n",
    "    plt.title('Objective Function Shown in Color')\n",
    "    plt.show()\n",
    "    return pts,f_vals\n",
    "\n",
    "# Helper function to annotate a single point\n",
    "def annotate_pt(text,xy,xytext,color):\n",
    "    plt.plot(xy[0],xy[1],marker='P',markersize=10,c=color)\n",
    "    plt.annotate(text,xy=xy,xytext=xytext,\n",
    "                 # color=color,\n",
    "                 arrowprops=dict(arrowstyle=\"->\",\n",
    "                 color = color,\n",
    "                 connectionstyle='arc3'))\n",
    "\n",
    "# Plot the function\n",
    "# Pts are 2D points and f_val is the corresponding function value\n",
    "def function_plot(pts,f_val):\n",
    "    f_plot = plt.scatter(pts[:,0],pts[:,1],\n",
    "                         c=f_val,vmin=min(f_val),vmax=max(f_val),\n",
    "                         cmap='RdBu_r')\n",
    "    plt.colorbar(f_plot)\n",
    "    # Show the optimal point\n",
    "    annotate_pt('global minimum',(0,0),(-5,-7),'yellow')    \n",
    "\n",
    "pts,f_vals = visualize_fw()\n",
    "\n",
    "\n",
    "\n",
    "\n",
    "\n"
   ]
  },
  {
   "cell_type": "code",
   "execution_count": 9,
   "metadata": {
    "scrolled": false
   },
   "outputs": [],
   "source": [
    "# update of y's\n",
    "\n",
    "\n"
   ]
  },
  {
   "cell_type": "code",
   "execution_count": 10,
   "metadata": {},
   "outputs": [
    {
     "ename": "SyntaxError",
     "evalue": "invalid syntax (<ipython-input-10-ec9a856b215c>, line 18)",
     "output_type": "error",
     "traceback": [
      "\u001b[0;36m  File \u001b[0;32m\"<ipython-input-10-ec9a856b215c>\"\u001b[0;36m, line \u001b[0;32m18\u001b[0m\n\u001b[0;31m    print(\"the small data matrix m3: \", m3, \"end of small data matrix\")\u001b[0m\n\u001b[0m        ^\u001b[0m\n\u001b[0;31mSyntaxError\u001b[0m\u001b[0;31m:\u001b[0m invalid syntax\n"
     ]
    }
   ],
   "source": [
    "\n",
    "# Loop to create distance matrix\n",
    "\n",
    "\n",
    "m1 = []\n",
    "j=0\n",
    "while j < 10:\n",
    "    m=[]\n",
    "    i=0\n",
    "    while i < 10:\n",
    "        m.append(np.absolute(apple2_returns[j]-apple22_returns[i]))\n",
    "        i=i+1\n",
    "    m1 = np.array(m)\n",
    "    m2 = np.hstack(m1)\n",
    "    j=j+1\n",
    "    m3 = np.vstack(m2)\n",
    "print(np.reshape(m3,(1,10)), np.reshape(m3,(1,10))\n",
    "\n",
    "print(\"the small data matrix m3: \", m3, \"end of small data matrix\")\n",
    "\n",
    "          # End of test data\n",
    "       \n",
    "          \n",
    "          \n",
    "# Full Data Set         \n",
    "\n",
    "m1 = []\n",
    "j=0\n",
    "while j < 2514:\n",
    "    m=[]\n",
    "    i=0\n",
    "    while i < 2514:\n",
    "        m.append(np.absolute(apple_returns[j]-apple1_returns[i]))\n",
    "        i=i+1\n",
    "        print(m)\n",
    "    m1 = np.array(m)\n",
    "    m2 = np.vstack(m1)\n",
    "    j=j+1\n",
    "    print(m2)\n",
    "    \n",
    "      \n",
    "      \n",
    "      \n",
    "      \n",
    "# Another method\n",
    "      \n",
    "t1 = np.arange(2516)\n",
    "t = np.array(t1)\n",
    "at1 = ((apple_returns), (apple1_returns))\n",
    "at = np.array(at1)\n",
    "from scipy.spatial.distance import pdist, squareform\n",
    "pairwise_dists = squareform(pdist(at, 'euclidean'))\n",
    "K = scipy.exp(-pairwise_dists ** 2 / s ** 2)\n",
    "\n",
    "      \n",
    "# Gaussian Kernel function\n",
    "\n",
    "def Gaussian_Kernel(x, h):\n",
    "    return np.exp(-x**2/ 2 * h**2)\n",
    "\n",
    "\n",
    "Gaussian_Kernel(1, 1)\n",
    "\n",
    "\n",
    "Gaussian_Kernel(apple_returns, h = 0.1)\n",
    " \n",
    "\n",
    "\n",
    "print(len(apple_returns))\n",
    "\n",
    "\n",
    "\n",
    "# Guassian Kernel Matrix attempt\n",
    "from scipy import stats\n",
    "def measure(n):\n",
    "    m1 = apple_returns\n",
    "    m2 = t\n",
    "    return m1+m2, m1-m2\n",
    "m1, m2 = measure(2000)\n",
    "xmin = m1.min()\n",
    "xmax = m1.max()\n",
    "ymin = m2.min()\n",
    "ymax = m2.max()\n",
    "\n",
    "\n",
    "X, Y = np.mgrid[xmin:xmax:100j, ymin:ymax:100j]\n",
    "positions = np.vstack([X.ravel(), Y.ravel()])\n",
    "values = np.vstack([apple_returns, apple_returns])\n",
    "kernel = stats.gaussian_kde(values)\n",
    "Z = np.reshape(kernel(positions).T, X.shape)\n",
    "\n",
    "# Guassian Kernel Matrix\n",
    "\n",
    "distance_matrix(apple_returns, apple_returns)\n",
    "\n",
    "diff_matrix =[]\n",
    "i=0\n",
    "k=0\n",
    "while i < len(apple_returns):\n",
    "    diff_matrix[i][k] = (np.absolute(apple_returns[k] - apple_returns[i]))\n",
    "    i=i+1\n",
    "    while k < len(apple_returns):\n",
    "        diff_matrix.append(np.absolute(apple_returns[k]-apple_returns[i]))\n",
    "        k=k+1\n",
    "    \n",
    "M1 = np.array(diff_matrix).reshape(2514,2514)\n",
    "        \n",
    "        \n",
    "        \n",
    "\n",
    "\n",
    "Gaussian_Kernel(M1, h=0.1)\n",
    "\n",
    "GKM = Gaussian_Kernel(M1, h=0.1)\n",
    "\n",
    "print(GKM.shape)\n",
    "\n",
    "GKM1 = GKM/GKM.sum(axis = 1)\n",
    "\n",
    "\n",
    "\n"
   ]
  },
  {
   "cell_type": "markdown",
   "metadata": {},
   "source": [
    "Smaller Data set to run code (Apple 2/12/21- 4/15/21)"
   ]
  },
  {
   "cell_type": "code",
   "execution_count": 12,
   "metadata": {},
   "outputs": [
    {
     "name": "stdout",
     "output_type": "stream",
     "text": [
      "[*********************100%***********************]  1 of 1 completed\n",
      "[*********************100%***********************]  1 of 1 completed\n",
      "[*********************100%***********************]  1 of 1 completed\n",
      "-6.331792040665651e-06\n"
     ]
    },
    {
     "data": {
      "image/png": "[encoded data removed]",
      "text/plain": [
       "<Figure size 432x288 with 1 Axes>"
      ]
     },
     "metadata": {
      "needs_background": "light"
     },
     "output_type": "display_data"
    },
    {
     "name": "stdout",
     "output_type": "stream",
     "text": [
      "The std of Z is:  0.020637616470194325\n"
     ]
    },
    {
     "data": {
      "image/png": "[encoded data removed]",
      "text/plain": [
       "<Figure size 432x288 with 1 Axes>"
      ]
     },
     "metadata": {
      "needs_background": "light"
     },
     "output_type": "display_data"
    },
    {
     "data": {
      "image/png": "[encoded data removed]",
      "text/plain": [
       "<Figure size 432x288 with 1 Axes>"
      ]
     },
     "metadata": {
      "needs_background": "light"
     },
     "output_type": "display_data"
    },
    {
     "name": "stdout",
     "output_type": "stream",
     "text": [
      "The std of X is:  0.020637616470194325\n"
     ]
    },
    {
     "data": {
      "image/png": "[encoded data removed]",
      "text/plain": [
       "<Figure size 432x288 with 1 Axes>"
      ]
     },
     "metadata": {
      "needs_background": "light"
     },
     "output_type": "display_data"
    },
    {
     "name": "stdout",
     "output_type": "stream",
     "text": [
      "(40,)\n",
      "The shape of q is:  (40, 40) [[0.02500842 0.02500479 0.02500081 ... 0.02500665 0.02499151 0.02500851]\n",
      " [0.0250075  0.02500572 0.02500377 ... 0.02500663 0.02499922 0.02500754]\n",
      " [0.02500435 0.02500461 0.02500489 ... 0.02500448 0.02500554 0.02500434]\n",
      " ...\n",
      " [0.0250082  0.02500548 0.02500249 ... 0.02500687 0.02499551 0.02500827]\n",
      " [0.02498831 0.02499331 0.0249988  ... 0.02499076 0.02501163 0.02498819]\n",
      " [0.02500842 0.02500475 0.02500072 ... 0.02500662 0.02499131 0.02500851]]\n",
      "The size of vector y is:  (40,) The size of vector z is:  (40,)\n"
     ]
    },
    {
     "ename": "NameError",
     "evalue": "name 'lamb' is not defined",
     "output_type": "error",
     "traceback": [
      "\u001b[0;31m---------------------------------------------------------------------------\u001b[0m",
      "\u001b[0;31mNameError\u001b[0m                                 Traceback (most recent call last)",
      "\u001b[0;32m<ipython-input-12-e1d66963d325>\u001b[0m in \u001b[0;36m<module>\u001b[0;34m\u001b[0m\n\u001b[1;32m     84\u001b[0m \u001b[0my\u001b[0m \u001b[0;34m=\u001b[0m \u001b[0mapple22_returns\u001b[0m\u001b[0;34m\u001b[0m\u001b[0;34m\u001b[0m\u001b[0m\n\u001b[1;32m     85\u001b[0m \u001b[0;34m\u001b[0m\u001b[0m\n\u001b[0;32m---> 86\u001b[0;31m \u001b[0mdiff_L_F1\u001b[0m \u001b[0;34m=\u001b[0m \u001b[0mlamb\u001b[0m \u001b[0;34m*\u001b[0m \u001b[0mnp\u001b[0m\u001b[0;34m.\u001b[0m\u001b[0msum\u001b[0m\u001b[0;34m(\u001b[0m\u001b[0mgradient_kernel_y\u001b[0m\u001b[0;34m(\u001b[0m\u001b[0;34m(\u001b[0m\u001b[0my_avg\u001b[0m\u001b[0;34m-\u001b[0m\u001b[0my\u001b[0m\u001b[0;34m)\u001b[0m\u001b[0;34m,\u001b[0m \u001b[0ms\u001b[0m\u001b[0;34m)\u001b[0m \u001b[0;34m*\u001b[0m \u001b[0mmatrix_R\u001b[0m\u001b[0;34m)\u001b[0m\u001b[0;34m\u001b[0m\u001b[0;34m\u001b[0m\u001b[0m\n\u001b[0m\u001b[1;32m     87\u001b[0m \u001b[0mdiff_L_C1\u001b[0m \u001b[0;34m=\u001b[0m \u001b[0;36m2\u001b[0m \u001b[0;34m*\u001b[0m \u001b[0mnp\u001b[0m\u001b[0;34m.\u001b[0m\u001b[0mabsolute\u001b[0m\u001b[0;34m(\u001b[0m\u001b[0mapple22_returns\u001b[0m \u001b[0;34m-\u001b[0m \u001b[0my\u001b[0m\u001b[0;34m)\u001b[0m \u001b[0;34m*\u001b[0m \u001b[0my\u001b[0m\u001b[0;34m\u001b[0m\u001b[0;34m\u001b[0m\u001b[0m\n\u001b[1;32m     88\u001b[0m \u001b[0mdiff_obj1\u001b[0m \u001b[0;34m=\u001b[0m \u001b[0mdiff_L_C1\u001b[0m \u001b[0;34m+\u001b[0m \u001b[0mdiff_L_F1\u001b[0m\u001b[0;34m\u001b[0m\u001b[0;34m\u001b[0m\u001b[0m\n",
      "\u001b[0;31mNameError\u001b[0m: name 'lamb' is not defined"
     ]
    }
   ],
   "source": [
    "# Test to compute with smaller data set\n",
    "import scipy as sp\n",
    "import seaborn as sns\n",
    "\n",
    "\n",
    "\n",
    "data2 = yf.download(\"AAPL\", start = \"2021-02-12\", end = \"2021-04-14\")\n",
    "data22 = yf.download(\"AAPL\", start = \"2021-02-13\", end = \"2021-04-15\")\n",
    "data_test = yf.download(\"AAPL\", start=\"2021-04-16\", end=\"2021-07-30\")\n",
    "\n",
    "apple22 = data22[\"Close\"]\n",
    "Apple22 = np.array(apple22)\n",
    "apple22_returns = financial_returns(Apple22)\n",
    "apple2 = data2[\"Close\"]\n",
    "Apple2 = np.array(apple2)\n",
    "apple2_returns = financial_returns(Apple2)\n",
    "apple_test = data_test[\"Close\"]\n",
    "Apple_test = np.array(apple_test)\n",
    "apple_test_returns = financial_returns(Apple_test)\n",
    "\n",
    "\n",
    "\n",
    "y_avg = np.average(apple22_returns)\n",
    "print(y_avg)\n",
    "\n",
    "\n",
    "\n",
    "# Fix Dates for graphs, changed them multiple times to make data fit correctly\n",
    "\n",
    "plt.plot(apple2_returns, \"g\")\n",
    "plt.title(\"Z variable ~ Apple Returns (2021-02-12 - 2021-04-14)\")\n",
    "plt.xlabel(\"Time\")\n",
    "plt.ylabel(\" % Return\")\n",
    "plt.show()\n",
    "print(\"The std of Z is: \", np.std(apple2_returns))\n",
    "\n",
    "\n",
    "plt.hist(apple2_returns, bins='auto')\n",
    "plt.title(\"Z variable ~ Apple Returns (2021-02-12 - 2021-04-14)\")\n",
    "plt.ylabel(\"Frequency\")\n",
    "plt.xlabel(\"% Return\")\n",
    "plt.show()\n",
    "\n",
    "\n",
    "# Graph of returns for X\n",
    "\n",
    "plt.plot(apple22_returns, \"b\")\n",
    "plt.title(\"X variable ~ Apple Returns (2021-02-13 - 2021-04-15)\")\n",
    "plt.xlabel(\"Time\")\n",
    "plt.ylabel(\" % Return\")\n",
    "plt.show()\n",
    "print(\"The std of X is: \", np.std(apple22_returns))\n",
    "\n",
    "\n",
    "plt.hist(apple22_returns, bins='auto')\n",
    "plt.title(\"X variable ~ Apple Returns (2021-02-13 - 2021-04-15)\")\n",
    "plt.ylabel(\"Frequency\")\n",
    "plt.xlabel(\"% Return\")\n",
    "plt.show()\n",
    "\n",
    "\n",
    "\n",
    "\n",
    "print(np.shape(apple2_returns))\n",
    "\n",
    "s = 2 * (40**(-1/5))\n",
    "\n",
    "R = []\n",
    "i=0\n",
    "while(i<40):\n",
    "    j=0\n",
    "    while(j<40):\n",
    "        R.append(Gaussian_Kernel(np.absolute(apple2_returns[j]-apple2_returns[i]), h=s))\n",
    "        j=j+1\n",
    "    i=i+1\n",
    "matrix_RR = np.reshape(R, (40,40))\n",
    "matrix_R = matrix_RR/np.sum(matrix_RR, axis = 1)\n",
    "print(\"The shape of q is: \", np.shape(matrix_R), matrix_R)\n",
    "\n",
    "\n",
    "print(\"The size of vector y is: \",np.shape(apple22_returns), \"The size of vector z is: \", np.shape(apple2_returns))\n",
    "\n",
    "\n",
    "y = apple22_returns\n",
    "\n",
    "diff_L_F1 = lamb * np.sum(gradient_kernel_y((y_avg-y), s) * matrix_R)\n",
    "diff_L_C1 = 2 * np.absolute(apple22_returns - y) * y\n",
    "diff_obj1 = diff_L_C1 + diff_L_F1\n",
    "L_F1 = lamb * np.sum(Gaussian_Kernel((y_avg-y), s) * matrix_R)\n",
    "L_C1 = np.absolute(apple22_returns - y)**2\n",
    "obj1 = L_F1 + L_C1\n",
    "\n",
    "    \n",
    "    \n",
    "    \n",
    "# Gradient Descent function \n",
    "   \n",
    "def simple_gradient_descent1(learning_rate, lam):\n",
    "    \n",
    "    Beta = (learning_rate * diff_obj1)\n",
    "    y_new = y - Beta\n",
    "    return y_new\n",
    "\n",
    "\n",
    "def gradient_descent1(learning_rate, lam, iterations):\n",
    "    i = 0\n",
    "    y = apple22_returns\n",
    "    while i < iterations:\n",
    "        Beta = (learning_rate * diff_obj1)\n",
    "        y = y - Beta\n",
    "        i = i+1\n",
    "    return y\n",
    "\n",
    "\n",
    "\n",
    "\n",
    "print(\"Updated Y after simple gradient descent using learning rate = 0.1, lambda = 0.2 = \", simple_gradient_descent1(learning_rate=0.1, lam=0.2))    \n",
    "    \n",
    "    \n",
    "    \n",
    "plt.plot(simple_gradient_descent1(learning_rate=0.1, lam=0.02))\n",
    "plt.title(\"Predictions of Apple Returns for (2021-02-16 - 2021-04-16) based on Optimal Transport Algorithm\")\n",
    "plt.xlabel(\"Time\")\n",
    "plt.ylabel(\" % Return\")\n",
    "plt.show()\n",
    "\n",
    "\n",
    "\n",
    "\n",
    "plt.plot(simple_gradient_descent1(learning_rate=0.1, lam=0.02), \"b\")\n",
    "plt.plot(apple22_returns, \"g\")\n",
    "plt.plot(apple2_returns, \"o\")\n",
    "plt.title(\"Predictions of Apple Returns for (2021-02-16 - 2021-04-16) based on Optimal Transport Algorithm\")\n",
    "plt.xlabel(\"Time\")\n",
    "plt.ylabel(\" % Return\")\n",
    "plt.legend([\"Predicted returns\", \"Actual returns\", \"Lagged Returns\"])\n",
    "plt.show()\n",
    "\n",
    "\n",
    "\n",
    "\n",
    "# Error Plot\n",
    "plt.plot(simple_gradient_descent1(learning_rate=0.1, lam=0.02) - apple22_returns, \"r\")\n",
    "plt.title(\"Error of Predictions of Apple Returns for (2021-02-16 - 2021-04-16) based on Optimal Transport Algorithm\")\n",
    "plt.xlabel(\"Time\")\n",
    "plt.ylabel(\" % Return\")\n",
    "plt.legend([\"Predicted returns\", \"Actual returns\"])\n",
    "plt.show()\n",
    "\n",
    "\n",
    "\n",
    "\n",
    "plt.plot(apple2_returns, \"b\")\n",
    "plt.plot(apple22_returns, \"g\")\n",
    "plt.legend([\"1-Day lagged returns\", \"returns\"])\n",
    "plt.show()\n",
    "\n",
    "\n",
    "\n",
    "print(diff_L_F1)\n",
    "\n",
    "print(\"The x and z arrays are equal\", np.array_equal(apple2_returns, apple22_returns))\n",
    "\n",
    "print(\"updates y is the same as x\", np.array_equal(simple_gradient_descent1(learning_rate=0.1, lam=0.02), apple22_returns))\n",
    "\n",
    "\n",
    "Y_updated = simple_gradient_descent1(learning_rate=0.1, lam=0.02)\n",
    "\n",
    "\n",
    "plt.plot(apple22_returns, Y_updated)\n",
    "plt.legend([\"actual returns\", \"predicted returns\"])\n",
    "plt.show()\n",
    "\n",
    "print(apple22_returns - Y_updated, Y_updated)\n",
    "\n",
    "print('The shape of diff_obj is : ', np.shape(diff_obj))\n",
    "\n",
    "print(\"gradient descent using 1000 iterations\", \n",
    "gradient_descent1(learning_rate=0.1, lam=0.02, iterations=1000))\n",
    "\n",
    "plt.plot(gradient_descent1(learning_rate=0.1, lam=0.02, iterations=1000))\n",
    "plt.plot(apple22_returns)\n",
    "plt.title('Y Predicted vs Actual')\n",
    "plt.xlabel('Time')\n",
    "plt.ylabel('Returns')\n",
    "plt.legend([\"Y Predicted after 1000 iterations\", \"Y Actual\"])\n",
    "plt.show()\n",
    "\n",
    "\n",
    "\n",
    "\n",
    "\n",
    "print(np.shape(apple22_returns))\n",
    "\n",
    "def time_loop(days):\n",
    "    i=1\n",
    "    time = np.array(0)\n",
    "    while i < days:\n",
    "        time = np.append(time, i)\n",
    "        i=i+1\n",
    "    return time\n",
    "\n",
    "print(time_loop(40))\n",
    "t = time_loop(40)\n",
    "\n",
    "XX = np.concatenate((apple22_returns, t), axis = 0)\n",
    "\n",
    "kde_y = sp.stats.gaussian_kde(XX, None, None)\n",
    "\n",
    "\n",
    "plt.plot(kde_y)\n",
    "plt.hist(apple22_returns, bins = 'auto')\n",
    "plt.title('Gaussian KDE')\n",
    "plt.show()"
   ]
  },
  {
   "cell_type": "code",
   "execution_count": null,
   "metadata": {},
   "outputs": [],
   "source": [
    "# 361 Lines of Code Total"
   ]
  },
  {
   "cell_type": "code",
   "execution_count": null,
   "metadata": {},
   "outputs": [],
   "source": [
    "plt.plot(Gaussian_Kernel((y_avg-y), h=0.1))\n",
    "plt.show()"
   ]
  },
  {
   "cell_type": "code",
   "execution_count": 13,
   "metadata": {},
   "outputs": [
    {
     "data": {
      "image/png": "[encoded data removed]",
      "text/plain": [
       "<Figure size 432x288 with 1 Axes>"
      ]
     },
     "metadata": {
      "needs_background": "light"
     },
     "output_type": "display_data"
    }
   ],
   "source": [
    "import statsmodels as sm\n",
    "from sklearn.neighbors import KernelDensity\n",
    "import math\n",
    "\n",
    "\n",
    "\n",
    "kde = KernelDensity(kernel='gaussian', bandwidth=0.2).fit(apple22_returns.reshape(-1,1))\n",
    "kde.score_samples(apple22_returns.reshape(-1,1))\n",
    "\n",
    "\n",
    "plt.plot(kde = KernelDensity(kernel='gaussian', bandwidth=0.2).fit(apple22_returns.reshape(-1,1)))\n",
    "plt.plot(kde.score_samples(apple22_returns.reshape(-1,1)))\n",
    "plt.plot(apple22_returns, 'r')\n",
    "plt.show()"
   ]
  },
  {
   "cell_type": "code",
   "execution_count": 14,
   "metadata": {},
   "outputs": [
    {
     "data": {
      "image/png": "[encoded data removed]",
      "text/plain": [
       "<Figure size 432x288 with 1 Axes>"
      ]
     },
     "metadata": {
      "needs_background": "light"
     },
     "output_type": "display_data"
    }
   ],
   "source": [
    "a = np.array([[t], [apple22_returns]])\n",
    "np.shape(a)\n",
    "\n",
    "plt.plot(apple22_returns)\n",
    "plt.show()\n",
    "\n"
   ]
  },
  {
   "cell_type": "code",
   "execution_count": 15,
   "metadata": {},
   "outputs": [
    {
     "ename": "TypeError",
     "evalue": "unsupported operand type(s) for *: 'KernelDensity' and 'float'",
     "output_type": "error",
     "traceback": [
      "\u001b[0;31m---------------------------------------------------------------------------\u001b[0m",
      "\u001b[0;31mTypeError\u001b[0m                                 Traceback (most recent call last)",
      "\u001b[0;32m<ipython-input-15-ef0d29facb3e>\u001b[0m in \u001b[0;36m<module>\u001b[0;34m\u001b[0m\n\u001b[1;32m      3\u001b[0m \u001b[0mlamb\u001b[0m \u001b[0;34m=\u001b[0m \u001b[0;36m0.1\u001b[0m\u001b[0;34m\u001b[0m\u001b[0;34m\u001b[0m\u001b[0m\n\u001b[1;32m      4\u001b[0m \u001b[0ma\u001b[0m \u001b[0;34m=\u001b[0m \u001b[0;34m(\u001b[0m\u001b[0my_avg\u001b[0m \u001b[0;34m-\u001b[0m \u001b[0my\u001b[0m\u001b[0;34m)\u001b[0m\u001b[0;34m.\u001b[0m\u001b[0mreshape\u001b[0m\u001b[0;34m(\u001b[0m\u001b[0;34m-\u001b[0m\u001b[0;36m1\u001b[0m\u001b[0;34m,\u001b[0m\u001b[0;36m1\u001b[0m\u001b[0;34m)\u001b[0m\u001b[0;34m\u001b[0m\u001b[0;34m\u001b[0m\u001b[0m\n\u001b[0;32m----> 5\u001b[0;31m \u001b[0mdiff_L_F1\u001b[0m \u001b[0;34m=\u001b[0m \u001b[0mlamb\u001b[0m \u001b[0;34m*\u001b[0m \u001b[0mnp\u001b[0m\u001b[0;34m.\u001b[0m\u001b[0msum\u001b[0m\u001b[0;34m(\u001b[0m\u001b[0mKernelDensity\u001b[0m\u001b[0;34m(\u001b[0m\u001b[0mkernel\u001b[0m\u001b[0;34m=\u001b[0m\u001b[0;34m'gaussian'\u001b[0m\u001b[0;34m,\u001b[0m \u001b[0mbandwidth\u001b[0m\u001b[0;34m=\u001b[0m\u001b[0;36m0.01\u001b[0m\u001b[0;34m)\u001b[0m\u001b[0;34m.\u001b[0m\u001b[0mfit\u001b[0m\u001b[0;34m(\u001b[0m\u001b[0ma\u001b[0m\u001b[0;34m)\u001b[0m \u001b[0;34m*\u001b[0m \u001b[0mmatrix_R\u001b[0m\u001b[0;34m)\u001b[0m\u001b[0;34m\u001b[0m\u001b[0;34m\u001b[0m\u001b[0m\n\u001b[0m\u001b[1;32m      6\u001b[0m \u001b[0mdiff_L_C1\u001b[0m \u001b[0;34m=\u001b[0m \u001b[0;36m2\u001b[0m \u001b[0;34m*\u001b[0m \u001b[0mnp\u001b[0m\u001b[0;34m.\u001b[0m\u001b[0mabsolute\u001b[0m\u001b[0;34m(\u001b[0m\u001b[0mapple22_returns\u001b[0m \u001b[0;34m-\u001b[0m \u001b[0my\u001b[0m\u001b[0;34m)\u001b[0m \u001b[0;34m*\u001b[0m \u001b[0my\u001b[0m\u001b[0;34m\u001b[0m\u001b[0;34m\u001b[0m\u001b[0m\n\u001b[1;32m      7\u001b[0m \u001b[0mdiff_obj1\u001b[0m \u001b[0;34m=\u001b[0m \u001b[0mdiff_L_C1\u001b[0m \u001b[0;34m+\u001b[0m \u001b[0mdiff_L_F1\u001b[0m\u001b[0;34m\u001b[0m\u001b[0;34m\u001b[0m\u001b[0m\n",
      "\u001b[0;31mTypeError\u001b[0m: unsupported operand type(s) for *: 'KernelDensity' and 'float'"
     ]
    }
   ],
   "source": [
    "y = apple22_returns\n",
    "y_avg = np.average(y)\n",
    "lamb = 0.1\n",
    "a = (y_avg - y).reshape(-1,1)\n",
    "diff_L_F1 = lamb * np.sum(KernelDensity(kernel='gaussian', bandwidth=0.01).fit(a) * matrix_R)\n",
    "diff_L_C1 = 2 * np.absolute(apple22_returns - y) * y\n",
    "diff_obj1 = diff_L_C1 + diff_L_F1\n",
    "L_F1 = lamb * np.sum(KernelDensity(kernel='gaussian', bandwidth=0.01).fit(a) * matrix_R)\n",
    "L_C1 = np.absolute(apple22_returns - y)**2\n",
    "obj1 = L_F1 + L_C1\n",
    "\n",
    "    "
   ]
  },
  {
   "cell_type": "code",
   "execution_count": 16,
   "metadata": {},
   "outputs": [
    {
     "name": "stderr",
     "output_type": "stream",
     "text": [
      "/Library/Frameworks/Python.framework/Versions/3.6/lib/python3.6/site-packages/seaborn/distributions.py:1657: FutureWarning:\n",
      "\n",
      "The `bw` parameter is deprecated in favor of `bw_method` and `bw_adjust`. Using 0.25 for `bw_method`, but please see the docs for the new parameters and update your code.\n",
      "\n"
     ]
    },
    {
     "data": {
      "image/png": "[encoded data removed]",
      "text/plain": [
       "<Figure size 432x288 with 1 Axes>"
      ]
     },
     "metadata": {
      "needs_background": "light"
     },
     "output_type": "display_data"
    }
   ],
   "source": [
    "sns.kdeplot(y, shade = 'True', bw=0.25)\n",
    "plt.hist(y, bins='auto')\n",
    "plt.show()\n"
   ]
  },
  {
   "cell_type": "code",
   "execution_count": 17,
   "metadata": {},
   "outputs": [
    {
     "name": "stderr",
     "output_type": "stream",
     "text": [
      "/Library/Frameworks/Python.framework/Versions/3.6/lib/python3.6/site-packages/seaborn/distributions.py:1657: FutureWarning:\n",
      "\n",
      "The `bw` parameter is deprecated in favor of `bw_method` and `bw_adjust`. Using 0.08 for `bw_method`, but please see the docs for the new parameters and update your code.\n",
      "\n"
     ]
    },
    {
     "data": {
      "text/plain": [
       "<AxesSubplot:ylabel='Density'>"
      ]
     },
     "execution_count": 17,
     "metadata": {},
     "output_type": "execute_result"
    },
    {
     "data": {
      "image/png": "[encoded data removed]",
      "text/plain": [
       "<Figure size 432x288 with 1 Axes>"
      ]
     },
     "metadata": {
      "needs_background": "light"
     },
     "output_type": "display_data"
    }
   ],
   "source": [
    "sns.kdeplot(apple_returns, shade=True, bw=0.08)"
   ]
  },
  {
   "cell_type": "code",
   "execution_count": 18,
   "metadata": {},
   "outputs": [
    {
     "ename": "TypeError",
     "evalue": "unsupported operand type(s) for *: 'AxesSubplot' and 'float'",
     "output_type": "error",
     "traceback": [
      "\u001b[0;31m---------------------------------------------------------------------------\u001b[0m",
      "\u001b[0;31mTypeError\u001b[0m                                 Traceback (most recent call last)",
      "\u001b[0;32m<ipython-input-18-921052b8eeb8>\u001b[0m in \u001b[0;36m<module>\u001b[0;34m\u001b[0m\n\u001b[1;32m      3\u001b[0m \u001b[0mlamb\u001b[0m \u001b[0;34m=\u001b[0m \u001b[0;36m0.1\u001b[0m\u001b[0;34m\u001b[0m\u001b[0;34m\u001b[0m\u001b[0m\n\u001b[1;32m      4\u001b[0m \u001b[0ma\u001b[0m \u001b[0;34m=\u001b[0m \u001b[0;34m(\u001b[0m\u001b[0my_avg\u001b[0m \u001b[0;34m-\u001b[0m \u001b[0my\u001b[0m\u001b[0;34m)\u001b[0m\u001b[0;34m.\u001b[0m\u001b[0mreshape\u001b[0m\u001b[0;34m(\u001b[0m\u001b[0;34m-\u001b[0m\u001b[0;36m1\u001b[0m\u001b[0;34m,\u001b[0m\u001b[0;36m1\u001b[0m\u001b[0;34m)\u001b[0m\u001b[0;34m\u001b[0m\u001b[0;34m\u001b[0m\u001b[0m\n\u001b[0;32m----> 5\u001b[0;31m \u001b[0mdiff_L_F1\u001b[0m \u001b[0;34m=\u001b[0m \u001b[0mlamb\u001b[0m \u001b[0;34m*\u001b[0m \u001b[0mnp\u001b[0m\u001b[0;34m.\u001b[0m\u001b[0msum\u001b[0m\u001b[0;34m(\u001b[0m\u001b[0msns\u001b[0m\u001b[0;34m.\u001b[0m\u001b[0mkdeplot\u001b[0m\u001b[0;34m(\u001b[0m\u001b[0my\u001b[0m\u001b[0;34m)\u001b[0m \u001b[0;34m*\u001b[0m \u001b[0mmatrix_R\u001b[0m\u001b[0;34m)\u001b[0m\u001b[0;34m\u001b[0m\u001b[0;34m\u001b[0m\u001b[0m\n\u001b[0m\u001b[1;32m      6\u001b[0m \u001b[0mdiff_L_C1\u001b[0m \u001b[0;34m=\u001b[0m \u001b[0;36m2\u001b[0m \u001b[0;34m*\u001b[0m \u001b[0mnp\u001b[0m\u001b[0;34m.\u001b[0m\u001b[0mabsolute\u001b[0m\u001b[0;34m(\u001b[0m\u001b[0mapple22_returns\u001b[0m \u001b[0;34m-\u001b[0m \u001b[0my\u001b[0m\u001b[0;34m)\u001b[0m \u001b[0;34m*\u001b[0m \u001b[0my\u001b[0m\u001b[0;34m\u001b[0m\u001b[0;34m\u001b[0m\u001b[0m\n\u001b[1;32m      7\u001b[0m \u001b[0mdiff_obj1\u001b[0m \u001b[0;34m=\u001b[0m \u001b[0mdiff_L_C1\u001b[0m \u001b[0;34m+\u001b[0m \u001b[0mdiff_L_F1\u001b[0m\u001b[0;34m\u001b[0m\u001b[0;34m\u001b[0m\u001b[0m\n",
      "\u001b[0;31mTypeError\u001b[0m: unsupported operand type(s) for *: 'AxesSubplot' and 'float'"
     ]
    },
    {
     "data": {
      "image/png": "[encoded data removed]",
      "text/plain": [
       "<Figure size 432x288 with 1 Axes>"
      ]
     },
     "metadata": {
      "needs_background": "light"
     },
     "output_type": "display_data"
    }
   ],
   "source": [
    "y = apple22_returns\n",
    "y_avg = np.average(y)\n",
    "lamb = 0.1\n",
    "a = (y_avg - y).reshape(-1,1)\n",
    "diff_L_F1 = lamb * np.sum(sns.kdeplot(y) * matrix_R)\n",
    "diff_L_C1 = 2 * np.absolute(apple22_returns - y) * y\n",
    "diff_obj1 = diff_L_C1 + diff_L_F1\n",
    "L_F1 = lamb * np.sum(sns.kdeplot(y) * matrix_R)\n",
    "L_C1 = np.absolute(apple22_returns - y)**2\n",
    "obj1 = L_F1 + L_C1"
   ]
  },
  {
   "cell_type": "code",
   "execution_count": 19,
   "metadata": {},
   "outputs": [
    {
     "ename": "SyntaxError",
     "evalue": "invalid syntax (<ipython-input-19-04e8ca4126ec>, line 6)",
     "output_type": "error",
     "traceback": [
      "\u001b[0;36m  File \u001b[0;32m\"<ipython-input-19-04e8ca4126ec>\"\u001b[0;36m, line \u001b[0;32m6\u001b[0m\n\u001b[0;31m    for j in range apple22_returns:\u001b[0m\n\u001b[0m                                 ^\u001b[0m\n\u001b[0;31mSyntaxError\u001b[0m\u001b[0;31m:\u001b[0m invalid syntax\n"
     ]
    }
   ],
   "source": [
    "y_avg = np.average(apple22_returns)\n",
    "sigma = np.std(apple22_returns)\n",
    "def G_K(one_d_data, sigma):\n",
    "    i=1\n",
    "    j=1\n",
    "    for j in range apple22_returns:\n",
    "        for i in range apple22_returns:\n",
    "            (1/(2*math.pi*sigma)) * (np.exp((-(one_d_data[j] - one_d_data[i])**2)/(2*(sigma**2)))\n",
    "            i = i+1\n",
    "        \n",
    "    \n",
    "                            "
   ]
  },
  {
   "cell_type": "markdown",
   "metadata": {},
   "source": [
    "Kernel Density of y"
   ]
  },
  {
   "cell_type": "code",
   "execution_count": 25,
   "metadata": {},
   "outputs": [
    {
     "name": "stdout",
     "output_type": "stream",
     "text": [
      "<class 'scipy.stats.kde.gaussian_kde'>\n",
      "0.009868418050489191\n",
      "500\n"
     ]
    },
    {
     "data": {
      "image/png": "[encoded data removed]",
      "text/plain": [
       "<Figure size 432x288 with 1 Axes>"
      ]
     },
     "metadata": {
      "needs_background": "light"
     },
     "output_type": "display_data"
    }
   ],
   "source": [
    "from scipy.stats import norm, gaussian_kde \n",
    "from sklearn.neighbors import KernelDensity\n",
    "\n",
    "\n",
    "\n",
    "scipy_kernel = gaussian_kde(apple22_returns, 'scott')\n",
    "print (type(scipy_kernel))\n",
    "bw = scipy_kernel.factor * np.std(apple22_returns)\n",
    "print(bw)\n",
    "\n",
    "\n",
    "\n",
    "u = np.linspace(-0.45, 0.45, 500)\n",
    "v = scipy_kernel.evaluate(u)\n",
    "\n",
    "\n",
    "count, bins, patches = plt.hist(apple22_returns, bins = 'auto', density = True, edgecolor = 'Black')\n",
    "plt.plot(u, v, 'r')\n",
    "plt.xlim([-0.15,0.15])\n",
    "plt.title('Kernel Density of y')\n",
    "\n",
    "print(len(v))"
   ]
  },
  {
   "cell_type": "markdown",
   "metadata": {},
   "source": [
    "Kernel Density of z"
   ]
  },
  {
   "cell_type": "code",
   "execution_count": 27,
   "metadata": {},
   "outputs": [
    {
     "name": "stdout",
     "output_type": "stream",
     "text": [
      "[0.00000000e+000 0.00000000e+000 0.00000000e+000 0.00000000e+000\n",
      " 0.00000000e+000 0.00000000e+000 0.00000000e+000 0.00000000e+000\n",
      " 0.00000000e+000 0.00000000e+000 0.00000000e+000 0.00000000e+000\n",
      " 0.00000000e+000 8.89318163e-323 9.27855283e-320 9.21651795e-317\n",
      " 8.86124174e-314 8.24666054e-311 7.42877956e-308 6.47757790e-305\n",
      " 5.46718334e-302 4.46653201e-299 3.53210076e-296 2.70365665e-293\n",
      " 2.00320691e-290 1.43666630e-287 9.97336736e-285 6.70167787e-282\n",
      " 4.35894211e-279 2.74431825e-276 1.67241351e-273 9.86526326e-271\n",
      " 5.63286719e-268 3.11319385e-265 1.66547699e-262 8.62436104e-260\n",
      " 4.32285871e-257 2.09735030e-254 9.84978442e-252 4.47752786e-249\n",
      " 1.97017902e-246 8.39129329e-244 3.45945697e-241 1.38052026e-238\n",
      " 5.33253183e-236 1.99379245e-233 7.21576298e-231 2.52778650e-228\n",
      " 8.57145091e-226 2.81335226e-223 8.93819252e-221 2.74872388e-218\n",
      " 8.18216714e-216 2.35755264e-213 6.57521970e-211 1.77506786e-208\n",
      " 4.63847767e-206 1.17325335e-203 2.87252589e-201 6.80756698e-199\n",
      " 1.56162126e-196 3.46749085e-194 7.45265049e-192 1.55046514e-189\n",
      " 3.12226007e-187 6.08600025e-185 1.14828760e-182 2.09712929e-180\n",
      " 3.70728143e-178 6.34368670e-176 1.05071206e-173 1.68454077e-171\n",
      " 2.61417800e-169 3.92685266e-167 5.70965512e-165 8.03583417e-163\n",
      " 1.09473216e-160 1.44357917e-158 1.84259189e-156 2.27653077e-154\n",
      " 2.72253652e-152 3.15159008e-150 3.53135643e-148 3.83009198e-146\n",
      " 4.02098704e-144 4.08612797e-142 4.01926900e-140 3.82681972e-138\n",
      " 3.52683185e-136 3.14620723e-134 2.71672522e-132 2.27070086e-130\n",
      " 1.83708798e-128 1.43865218e-126 1.09052965e-124 8.00156561e-123\n",
      " 5.68287735e-121 3.90676614e-119 2.59969482e-117 1.67449225e-115\n",
      " 1.04399817e-113 6.30045846e-112 3.68044548e-110 2.08105926e-108\n",
      " 1.13900158e-106 6.03420452e-105 3.09436505e-103 1.53595641e-101\n",
      " 7.37975692e-100 3.43210879e-098 1.54502623e-096 6.73234698e-095\n",
      " 2.83957242e-093 1.15929838e-091 4.58134858e-090 1.75245659e-088\n",
      " 6.48869002e-087 2.32553357e-085 8.06759383e-084 2.70907649e-082\n",
      " 8.80550643e-081 2.77040487e-079 8.43699862e-078 2.48707309e-076\n",
      " 7.09651225e-075 1.96000511e-073 5.23992767e-072 1.35596733e-070\n",
      " 3.39647958e-069 8.23501967e-068 1.93266299e-066 4.39039386e-065\n",
      " 9.65398678e-064 2.05478218e-062 4.23331673e-061 8.44212198e-060\n",
      " 1.62959011e-058 3.04481597e-057 5.50680423e-056 9.64038017e-055\n",
      " 1.63359590e-053 2.67948344e-052 4.25415694e-051 6.53780480e-050\n",
      " 9.72537666e-049 1.40035124e-047 1.95174749e-046 2.63309434e-045\n",
      " 3.43847123e-044 4.34630906e-043 5.31780130e-042 6.29796094e-041\n",
      " 7.21978474e-040 8.01133789e-039 8.60483323e-038 8.94615841e-037\n",
      " 9.00300624e-036 8.76991733e-035 8.26914466e-034 7.54715038e-033\n",
      " 6.66749883e-032 5.70165139e-031 4.71950454e-030 3.78138152e-029\n",
      " 2.93267056e-028 2.20158343e-027 1.59980318e-026 1.12527332e-025\n",
      " 7.66143512e-025 5.04921131e-024 3.22106165e-023 1.98901230e-022\n",
      " 1.18888495e-021 6.87871392e-021 3.85248546e-020 2.08853894e-019\n",
      " 1.09600774e-018 5.56744638e-018 2.73761276e-017 1.30305880e-016\n",
      " 6.00391941e-016 2.67785932e-015 1.15618250e-014 4.83231167e-014\n",
      " 1.95514138e-013 7.65775599e-013 2.90356269e-012 1.06579651e-011\n",
      " 3.78737975e-011 1.30296898e-010 4.33980732e-010 1.39945815e-009\n",
      " 4.36934253e-009 1.32085298e-008 3.86627489e-008 1.09584954e-007\n",
      " 3.00782056e-007 7.99505914e-007 2.05821001e-006 5.13203246e-006\n",
      " 1.23953480e-005 2.90028441e-005 6.57481435e-005 1.44424934e-004\n",
      " 3.07452687e-004 6.34397014e-004 1.26901982e-003 2.46142753e-003\n",
      " 4.63035269e-003 8.45001307e-003 1.49636214e-002 2.57208032e-002\n",
      " 4.29286262e-002 6.95961195e-002 1.09641640e-001 1.67924011e-001\n",
      " 2.50155727e-001 3.62663443e-001 5.11980084e-001 7.04284132e-001\n",
      " 9.44741338e-001 1.23684441e+000 1.58187642e+000 1.97863201e+000\n",
      " 2.42350766e+000 2.91101509e+000 3.43468583e+000 3.98823589e+000\n",
      " 4.56677209e+000 5.16777145e+000 5.79157705e+000 6.44123334e+000\n",
      " 7.12162222e+000 7.83802448e+000 8.59437595e+000 9.39156993e+000\n",
      " 1.02261504e+001 1.10896454e+001 1.19686377e+001 1.28455052e+001\n",
      " 1.36996449e+001 1.45089394e+001 1.52512534e+001 1.59058211e+001\n",
      " 1.64544771e+001 1.68827407e+001 1.71807767e+001 1.73442092e+001\n",
      " 1.73746941e+001 1.72800819e+001 1.70739776e+001 1.67745472e+001\n",
      " 1.64025447e+001 1.59787186e+001 1.55209573e+001 1.50416890e+001\n",
      " 1.45461052e+001 1.40316837e+001 1.34892574e+001 1.29055413e+001\n",
      " 1.22666885e+001 1.15621724e+001 1.07881816e+001 9.94979434e+000\n",
      " 9.06146420e+000 8.14571992e+000 7.23037982e+000 6.34488347e+000\n",
      " 5.51649181e+000 4.76706592e+000 4.11093560e+000 3.55407943e+000\n",
      " 3.09454571e+000 2.72382343e+000 2.42876660e+000 2.19368294e+000\n",
      " 2.00228531e+000 1.83932055e+000 1.69179264e+000 1.54976179e+000\n",
      " 1.40673015e+000 1.25963575e+000 1.10848931e+000 9.55714796e-001\n",
      " 8.05290325e-001 6.61817688e-001 5.29660265e-001 4.12271367e-001\n",
      " 3.11790362e-001 2.28924864e-001 1.63080670e-001 1.12661718e-001\n",
      " 7.54474595e-002 4.89635420e-002 3.07861048e-002 1.87502228e-002\n",
      " 1.10601648e-002 6.31782960e-003 3.49449207e-003 1.87144671e-003\n",
      " 9.70336609e-004 4.87078148e-004 2.36695591e-004 1.11348503e-004\n",
      " 5.07074015e-005 2.23533829e-005 9.53880381e-006 3.94020185e-006\n",
      " 1.57548070e-006 6.09782204e-007 2.28455210e-007 8.28495541e-008\n",
      " 2.90830931e-008 9.88214353e-009 3.25028130e-009 1.03478291e-009\n",
      " 3.18886019e-010 9.51216112e-011 2.74650283e-011 7.67604935e-012\n",
      " 2.07659642e-012 5.43779594e-013 1.37831994e-013 3.38168685e-014\n",
      " 8.03106004e-015 1.84615612e-015 4.10790122e-016 8.84764180e-017\n",
      " 1.84455247e-017 3.72229176e-018 7.27085866e-019 1.37472830e-019\n",
      " 2.51596104e-020 4.45704281e-021 7.64267777e-022 1.26852823e-022\n",
      " 2.03802994e-023 3.16939828e-024 4.77088455e-025 6.95147276e-026\n",
      " 9.80416406e-027 1.33844380e-027 1.76866481e-028 2.26228206e-029\n",
      " 2.80093992e-030 3.35673190e-031 3.89390489e-032 4.37229891e-033\n",
      " 4.75215033e-034 4.99949707e-035 5.09117805e-036 5.01840923e-037\n",
      " 4.78817133e-038 4.42210561e-039 3.95315970e-040 3.42070347e-041\n",
      " 2.86511671e-042 2.32287065e-043 1.82290298e-044 1.38470705e-045\n",
      " 1.01814134e-046 7.24626249e-048 4.99201488e-049 3.32884444e-050\n",
      " 2.14865629e-051 1.34244412e-052 8.11860303e-054 4.75250098e-055\n",
      " 2.69289205e-056 1.47696938e-057 7.84115179e-059 4.02943403e-060\n",
      " 2.00430615e-061 9.65027938e-063 4.49750376e-064 2.02889234e-065\n",
      " 8.85935881e-067 3.74456522e-068 1.53199140e-069 6.06690334e-071\n",
      " 2.32559263e-072 8.62891183e-074 3.09909036e-075 1.07737841e-076\n",
      " 3.62541823e-078 1.18087460e-079 3.72310487e-081 1.13622039e-082\n",
      " 3.35641539e-084 9.59720235e-086 2.65625288e-087 7.11623049e-089\n",
      " 1.84538256e-090 4.63210761e-092 1.12545125e-093 2.64685746e-095\n",
      " 6.02546046e-097 1.32771771e-098 2.83189453e-100 5.84661129e-102\n",
      " 1.16838827e-103 2.26009125e-105 4.23175563e-107 7.66956984e-109\n",
      " 1.34548002e-110 2.28475333e-112 3.75540868e-114 5.97490372e-116\n",
      " 9.20153828e-118 1.37165782e-119 1.97918754e-121 2.76429211e-123\n",
      " 3.73711740e-125 4.89041108e-127 6.19455070e-129 7.59504021e-131\n",
      " 9.01376358e-133 1.03547131e-134 1.15139886e-136 1.23927971e-138\n",
      " 1.29112623e-140 1.30203869e-142 1.27096881e-144 1.20088583e-146\n",
      " 1.09830855e-148 9.72305694e-151 8.33176696e-153 6.91078240e-155\n",
      " 5.54846874e-157 4.31196163e-159 3.24363854e-161 2.36181478e-163\n",
      " 1.66461974e-165 1.13563839e-167 7.49930315e-170 4.79355345e-172\n",
      " 2.96585598e-174 1.77622657e-176 1.02968050e-178 5.77779901e-181\n",
      " 3.13818248e-183 1.64987020e-185 8.39609186e-188 4.13580834e-190\n",
      " 1.97196612e-192 9.10110893e-195 4.06579049e-197 1.75813208e-199\n",
      " 7.35891561e-202 2.98148045e-204 1.16924610e-206 4.43849476e-209\n",
      " 1.63087740e-211 5.80046403e-214 1.99691685e-216 6.65446344e-219\n",
      " 2.14645568e-221 6.70172540e-224 2.02538296e-226 5.92493369e-229\n",
      " 1.67770522e-231 4.59836710e-234 1.21996520e-236 3.13290383e-239\n",
      " 7.78757973e-242 1.87375916e-244 4.36396090e-247 9.83793055e-250\n",
      " 2.14675496e-252 4.53437064e-255 9.27059008e-258 1.83465141e-260\n",
      " 3.51443537e-263 6.51648475e-266 1.16957217e-268 2.03187266e-271\n",
      " 3.41681738e-274 5.56163993e-277 8.76273726e-280 1.33638789e-282\n",
      " 1.97279107e-285 2.81893767e-288 3.89893212e-291 5.21989414e-294\n",
      " 6.76446628e-297 8.48518269e-300 1.03025487e-302 1.21083225e-305\n",
      " 1.37746033e-308 1.51680601e-311 1.61672741e-314 1.66801256e-317\n",
      " 1.66598936e-320 1.48219694e-323 0.00000000e+000 0.00000000e+000\n",
      " 0.00000000e+000 0.00000000e+000 0.00000000e+000 0.00000000e+000]\n",
      "[0.00000000e+000 0.00000000e+000 0.00000000e+000 0.00000000e+000\n",
      " 0.00000000e+000 0.00000000e+000 0.00000000e+000 0.00000000e+000\n",
      " 0.00000000e+000 0.00000000e+000 0.00000000e+000 0.00000000e+000\n",
      " 0.00000000e+000 0.00000000e+000 1.67982320e-322 1.66228387e-319\n",
      " 1.59821995e-316 1.48737364e-313 1.33986004e-310 1.16830062e-307\n",
      " 9.86065131e-305 8.05586936e-302 6.37052241e-299 4.87633463e-296\n",
      " 3.61299844e-293 2.59118169e-290 1.79880373e-287 1.20871946e-284\n",
      " 7.86181944e-282 4.94967220e-279 3.01637707e-276 1.77930600e-273\n",
      " 1.01594799e-270 5.61497889e-268 3.00386631e-265 1.55549598e-262\n",
      " 7.79673915e-260 3.78279614e-257 1.77651422e-254 8.07570156e-252\n",
      " 3.55342909e-249 1.51345971e-246 6.23950154e-244 2.48991630e-241\n",
      " 9.61779287e-239 3.59601845e-236 1.30144022e-233 4.55913397e-231\n",
      " 1.54595307e-228 5.07418243e-226 1.61209885e-223 4.95761822e-221\n",
      " 1.47574157e-218 4.25209894e-216 1.18591137e-213 3.20152519e-211\n",
      " 8.36599180e-209 2.11608820e-206 5.18090843e-204 1.22781769e-201\n",
      " 2.81655137e-199 6.25399152e-197 1.34416542e-194 2.79643010e-192\n",
      " 5.63133079e-190 1.09767540e-187 2.07105980e-185 3.78239752e-183\n",
      " 6.68647954e-181 1.14415191e-178 1.89507185e-176 3.03824988e-174\n",
      " 4.71495031e-172 7.08249978e-170 1.02979752e-167 1.44934885e-165\n",
      " 1.97446682e-163 2.60364980e-161 3.32331203e-159 4.10596732e-157\n",
      " 4.91038652e-155 5.68423060e-153 6.36917993e-151 6.90798153e-149\n",
      " 7.25228124e-147 7.36976988e-145 7.24918257e-143 6.90207966e-141\n",
      " 6.36101937e-139 5.67452205e-137 4.89990521e-135 4.09545246e-133\n",
      " 3.31338514e-131 2.59476345e-129 1.96688715e-127 1.44316815e-125\n",
      " 1.02496786e-123 7.04627160e-122 4.68882833e-120 3.02012631e-118\n",
      " 1.88296263e-116 1.13635523e-114 6.63807802e-113 3.75341349e-111\n",
      " 2.05431146e-109 1.08833348e-107 5.58101913e-106 2.77026207e-104\n",
      " 1.33101828e-102 6.19017617e-101 2.78662045e-099 1.21425096e-097\n",
      " 5.12147330e-096 2.09091893e-094 8.26295336e-093 3.16074335e-091\n",
      " 1.17030481e-089 4.19434912e-088 1.45507704e-086 4.88610990e-085\n",
      " 1.58816749e-083 4.99672221e-082 1.52170316e-080 4.48570297e-079\n",
      " 1.27993207e-077 3.53507936e-076 9.45077136e-075 2.44563246e-073\n",
      " 6.12591507e-072 1.48527409e-070 3.48576492e-069 7.91854603e-068\n",
      " 1.74120002e-066 3.70601997e-065 7.63524059e-064 1.52262721e-062\n",
      " 2.93914049e-061 5.49165205e-060 9.93211184e-059 1.73874592e-057\n",
      " 2.94636535e-056 4.83273566e-055 7.67282815e-054 1.17916319e-052\n",
      " 1.75407595e-051 2.52568359e-050 3.52018585e-049 4.74906795e-048\n",
      " 6.20165152e-047 7.83903437e-046 9.59122478e-045 1.13590478e-043\n",
      " 1.30216558e-042 1.44493068e-041 1.55197393e-040 1.61353559e-039\n",
      " 1.62378870e-038 1.58174862e-037 1.49142890e-036 1.36120949e-035\n",
      " 1.20255490e-034 1.02835396e-033 8.51213243e-033 6.82012700e-032\n",
      " 5.28938577e-031 3.97079176e-030 2.88541657e-029 2.02955108e-028\n",
      " 1.38182197e-027 9.10679394e-027 5.80953002e-026 3.58739693e-025\n",
      " 2.14428147e-024 1.24064980e-023 6.94837057e-023 3.76690389e-022\n",
      " 1.97676746e-021 1.00414865e-020 4.93757812e-020 2.35020625e-019\n",
      " 1.08287124e-018 4.82980638e-018 2.08529909e-017 8.71559219e-017\n",
      " 3.52630710e-016 1.38115839e-015 5.23688662e-015 1.92227828e-014\n",
      " 6.83094544e-014 2.35004425e-013 7.82730779e-013 2.52407282e-012\n",
      " 7.88057771e-012 2.38229996e-011 6.97324128e-011 1.97648213e-010\n",
      " 5.42492687e-010 1.44199463e-009 3.71220242e-009 9.25617078e-009\n",
      " 2.23563390e-008 5.23097388e-008 1.18583826e-007 2.60485854e-007\n",
      " 5.54523884e-007 1.14420303e-006 2.28881330e-006 4.43944845e-006\n",
      " 8.35133751e-006 1.52405045e-005 2.69884955e-005 4.63902262e-005\n",
      " 7.74263799e-005 1.25524063e-004 1.97750453e-004 3.02868958e-004\n",
      " 4.51182673e-004 6.54102402e-004 9.23410973e-004 1.27025194e-003\n",
      " 1.70394229e-003 2.23078150e-003 2.85308372e-003 3.56867496e-003\n",
      " 4.37105589e-003 5.25032782e-003 6.19482414e-003 7.19321103e-003\n",
      " 8.23666309e-003 9.32062987e-003 1.04457301e-002 1.16174549e-002\n",
      " 1.28446092e-002 1.41367175e-002 1.55008785e-002 1.69387033e-002\n",
      " 1.84439586e-002 2.00013645e-002 2.15867213e-002 2.31682459e-002\n",
      " 2.47087784e-002 2.61684278e-002 2.75072706e-002 2.86878537e-002\n",
      " 2.96774136e-002 3.04498330e-002 3.09873728e-002 3.12821408e-002\n",
      " 3.13371236e-002 3.11664804e-002 3.07947493e-002 3.02546943e-002\n",
      " 2.95837479e-002 2.88193322e-002 2.79937106e-002 2.71292988e-002\n",
      " 2.62354602e-002 2.53076460e-002 2.43293220e-002 2.32765274e-002\n",
      " 2.21242879e-002 2.08536176e-002 1.94576421e-002 1.79455209e-002\n",
      " 1.63433222e-002 1.46916792e-002 1.30407652e-002 1.14436776e-002\n",
      " 9.94958442e-003 8.59791448e-003 7.41451310e-003 6.41016331e-003\n",
      " 5.58134497e-003 4.91270759e-003 4.38054096e-003 3.95654237e-003\n",
      " 3.61133623e-003 3.31741182e-003 3.05132941e-003 2.79516154e-003\n",
      " 2.53718865e-003 2.27188813e-003 1.99927932e-003 1.72373410e-003\n",
      " 1.45242744e-003 1.19365916e-003 9.55299075e-004 7.43575611e-004\n",
      " 5.62347345e-004 4.12890537e-004 2.94133473e-004 2.03197487e-004\n",
      " 1.36077582e-004 8.83109976e-005 5.55260408e-005 3.38180370e-005\n",
      " 1.99481930e-005 1.13948831e-005 6.30269111e-006 3.37535478e-006\n",
      " 1.75010611e-006 8.78497662e-007 4.26905876e-007 2.00828964e-007\n",
      " 9.14562352e-008 4.03167226e-008 1.72042554e-008 7.10657648e-009\n",
      " 2.84154836e-009 1.09980758e-009 4.12043465e-010 1.49428054e-010\n",
      " 5.24544766e-011 1.78235054e-011 5.86223080e-012 1.86634191e-012\n",
      " 5.75145124e-013 1.71562024e-013 4.95361231e-014 1.38445780e-014\n",
      " 3.74536429e-015 9.80764800e-016 2.48594778e-016 6.09923479e-017\n",
      " 1.44848778e-017 3.32974050e-018 7.40904027e-019 1.59576706e-019\n",
      " 3.32684814e-020 6.71355227e-021 1.31137731e-021 2.47946988e-022\n",
      " 4.53780548e-023 8.03875458e-024 1.37843888e-024 2.28792666e-025\n",
      " 3.67580550e-026 5.71634960e-027 8.60480179e-028 1.25377264e-028\n",
      " 1.76828610e-029 2.41402689e-030 3.18997661e-031 4.08026825e-032\n",
      " 5.05179544e-033 6.05422587e-034 7.02307495e-035 7.88590986e-036\n",
      " 8.57101262e-037 9.01712898e-038 9.18248546e-039 9.05123910e-040\n",
      " 8.63598035e-041 7.97574158e-042 7.12994735e-043 6.16960545e-044\n",
      " 5.16754516e-045 4.18954626e-046 3.28780097e-047 2.49746763e-048\n",
      " 1.83632707e-049 1.30694113e-050 9.00363405e-052 6.00392784e-053\n",
      " 3.87533199e-054 2.42124190e-055 1.46427710e-056 8.57164506e-058\n",
      " 4.85691953e-059 2.66387264e-060 1.41423579e-061 7.26751629e-063\n",
      " 3.61498103e-064 1.74053135e-065 8.11173023e-067 3.65932487e-068\n",
      " 1.59788035e-069 6.75372485e-071 2.76311074e-072 1.09423106e-073\n",
      " 4.19445565e-075 1.55631676e-076 5.58954173e-078 1.94316747e-079\n",
      " 6.53883048e-081 2.12983395e-082 6.71501880e-084 2.04929528e-085\n",
      " 6.05365502e-087 1.73095834e-088 4.79083686e-090 1.28348846e-091\n",
      " 3.32834531e-093 8.35450270e-095 2.02987199e-096 4.77389121e-098\n",
      " 1.08675640e-099 2.39468124e-101 5.10762540e-103 1.05449903e-104\n",
      " 2.10731351e-106 4.07631688e-108 7.63242498e-110 1.38328915e-111\n",
      " 2.42671747e-113 4.12079759e-115 6.77328218e-117 1.07763795e-118\n",
      " 1.65959608e-120 2.47393194e-122 3.56967693e-124 4.98569720e-126\n",
      " 6.74029189e-128 8.82038070e-130 1.11725363e-131 1.36984693e-133\n",
      " 1.62572890e-135 1.86758352e-137 2.07667128e-139 2.23517382e-141\n",
      " 2.32868458e-143 2.34836637e-145 2.29232852e-147 2.16592634e-149\n",
      " 1.98091722e-151 1.75365756e-153 1.50272350e-155 1.24643370e-157\n",
      " 1.00072582e-159 7.77708511e-162 5.85024988e-164 4.25978619e-166\n",
      " 3.00232018e-168 2.04824559e-170 1.35257973e-172 8.64568758e-175\n",
      " 5.34923924e-177 3.20361506e-179 1.85713917e-181 1.04208800e-183\n",
      " 5.66004857e-186 2.97571779e-188 1.51432519e-190 7.45937377e-193\n",
      " 3.55665232e-195 1.64148257e-197 7.33308906e-200 3.17097971e-202\n",
      " 1.32725933e-204 5.37741964e-207 2.10886070e-209 8.00530118e-212\n",
      " 2.94146225e-214 1.04617588e-216 3.60165363e-219 1.20020383e-221\n",
      " 3.87136296e-224 1.20872803e-226 3.65299532e-229 1.06862531e-231\n",
      " 3.02592125e-234 8.29364808e-237 2.20033803e-239 5.65052795e-242\n",
      " 1.40457350e-244 3.37952553e-247 7.87087135e-250 1.77437625e-252\n",
      " 3.87190273e-255 8.17822359e-258 1.67205031e-260 3.30899052e-263\n",
      " 6.33866099e-266 1.17531789e-268 2.10944880e-271 3.66470018e-274\n",
      " 6.16259648e-277 1.00310139e-279 1.58045361e-282 2.41031884e-285\n",
      " 3.55814020e-288 5.08425632e-291 7.03214211e-294 9.41463873e-297\n",
      " 1.22004402e-299 1.53039367e-302 1.85817512e-305 2.18386578e-308\n",
      " 2.48439738e-311 2.73572226e-314 2.91594135e-317 3.00836572e-320\n",
      " 2.96439388e-323 0.00000000e+000 0.00000000e+000 0.00000000e+000\n",
      " 0.00000000e+000 0.00000000e+000 0.00000000e+000 0.00000000e+000] 500\n"
     ]
    },
    {
     "data": {
      "image/png": "[encoded data removed]",
      "text/plain": [
       "<Figure size 432x288 with 1 Axes>"
      ]
     },
     "metadata": {
      "needs_background": "light"
     },
     "output_type": "display_data"
    }
   ],
   "source": [
    "scipy_kernel_z = gaussian_kde(apple2_returns, 'scott')\n",
    "u = np.linspace(-0.45, 0.45, 500)\n",
    "vv = scipy_kernel_z.evaluate(u)\n",
    "count, bins, patches = plt.hist(apple2_returns, bins='auto', density=True, edgecolor='Black')\n",
    "plt.plot(u,vv,'g')\n",
    "plt.xlim(-0.15,0.15)\n",
    "plt.title('Kernel Density of Z')\n",
    "print(vv)\n",
    "sum_z = np.sum(vv)\n",
    "Z = vv/sum_z\n",
    "print(Z, len(Z))"
   ]
  },
  {
   "cell_type": "code",
   "execution_count": 22,
   "metadata": {},
   "outputs": [
    {
     "ename": "LinAlgError",
     "evalue": "singular matrix",
     "output_type": "error",
     "traceback": [
      "\u001b[0;31m---------------------------------------------------------------------------\u001b[0m",
      "\u001b[0;31mLinAlgError\u001b[0m                               Traceback (most recent call last)",
      "\u001b[0;32m<ipython-input-22-ea9dca60336b>\u001b[0m in \u001b[0;36m<module>\u001b[0;34m\u001b[0m\n\u001b[0;32m----> 1\u001b[0;31m \u001b[0mscipy_kernel_yz\u001b[0m \u001b[0;34m=\u001b[0m \u001b[0mgaussian_kde\u001b[0m\u001b[0;34m(\u001b[0m\u001b[0mapple22_returns\u001b[0m\u001b[0;34m/\u001b[0m\u001b[0mapple2_returns\u001b[0m\u001b[0;34m,\u001b[0m \u001b[0;34m'scott'\u001b[0m\u001b[0;34m)\u001b[0m\u001b[0;34m\u001b[0m\u001b[0;34m\u001b[0m\u001b[0m\n\u001b[0m\u001b[1;32m      2\u001b[0m \u001b[0myz\u001b[0m \u001b[0;34m=\u001b[0m \u001b[0mscipy_kernel_yz\u001b[0m\u001b[0;34m.\u001b[0m\u001b[0mevaluate\u001b[0m\u001b[0;34m(\u001b[0m\u001b[0mu\u001b[0m\u001b[0;34m)\u001b[0m\u001b[0;34m\u001b[0m\u001b[0;34m\u001b[0m\u001b[0m\n\u001b[1;32m      3\u001b[0m \u001b[0mcount\u001b[0m\u001b[0;34m,\u001b[0m \u001b[0mbins\u001b[0m\u001b[0;34m,\u001b[0m \u001b[0mpatches\u001b[0m \u001b[0;34m=\u001b[0m \u001b[0mplt\u001b[0m\u001b[0;34m.\u001b[0m\u001b[0mhist\u001b[0m\u001b[0;34m(\u001b[0m\u001b[0mapple22_returns\u001b[0m\u001b[0;34m/\u001b[0m\u001b[0mapple2_returns\u001b[0m\u001b[0;34m,\u001b[0m \u001b[0mbins\u001b[0m\u001b[0;34m=\u001b[0m\u001b[0;34m'auto'\u001b[0m\u001b[0;34m,\u001b[0m \u001b[0mdensity\u001b[0m\u001b[0;34m=\u001b[0m\u001b[0;32mTrue\u001b[0m\u001b[0;34m,\u001b[0m \u001b[0medgecolor\u001b[0m\u001b[0;34m=\u001b[0m\u001b[0;34m'Black'\u001b[0m\u001b[0;34m)\u001b[0m\u001b[0;34m\u001b[0m\u001b[0;34m\u001b[0m\u001b[0m\n\u001b[1;32m      4\u001b[0m \u001b[0muu\u001b[0m\u001b[0;34m=\u001b[0m\u001b[0mnp\u001b[0m\u001b[0;34m.\u001b[0m\u001b[0mlinspace\u001b[0m\u001b[0;34m(\u001b[0m\u001b[0;34m-\u001b[0m\u001b[0;36m0.1\u001b[0m\u001b[0;34m,\u001b[0m \u001b[0;36m0.1\u001b[0m\u001b[0;34m,\u001b[0m \u001b[0;36m500\u001b[0m\u001b[0;34m)\u001b[0m\u001b[0;34m\u001b[0m\u001b[0;34m\u001b[0m\u001b[0m\n\u001b[1;32m      5\u001b[0m \u001b[0mplt\u001b[0m\u001b[0;34m.\u001b[0m\u001b[0mplot\u001b[0m\u001b[0;34m(\u001b[0m\u001b[0muu\u001b[0m\u001b[0;34m,\u001b[0m\u001b[0myz\u001b[0m\u001b[0;34m,\u001b[0m\u001b[0;34m'o'\u001b[0m\u001b[0;34m)\u001b[0m\u001b[0;34m\u001b[0m\u001b[0;34m\u001b[0m\u001b[0m\n",
      "\u001b[0;32m/Library/Frameworks/Python.framework/Versions/3.6/lib/python3.6/site-packages/scipy/stats/kde.py\u001b[0m in \u001b[0;36m__init__\u001b[0;34m(self, dataset, bw_method, weights)\u001b[0m\n\u001b[1;32m    204\u001b[0m             \u001b[0mself\u001b[0m\u001b[0;34m.\u001b[0m\u001b[0m_neff\u001b[0m \u001b[0;34m=\u001b[0m \u001b[0;36m1\u001b[0m\u001b[0;34m/\u001b[0m\u001b[0msum\u001b[0m\u001b[0;34m(\u001b[0m\u001b[0mself\u001b[0m\u001b[0;34m.\u001b[0m\u001b[0m_weights\u001b[0m\u001b[0;34m**\u001b[0m\u001b[0;36m2\u001b[0m\u001b[0;34m)\u001b[0m\u001b[0;34m\u001b[0m\u001b[0;34m\u001b[0m\u001b[0m\n\u001b[1;32m    205\u001b[0m \u001b[0;34m\u001b[0m\u001b[0m\n\u001b[0;32m--> 206\u001b[0;31m         \u001b[0mself\u001b[0m\u001b[0;34m.\u001b[0m\u001b[0mset_bandwidth\u001b[0m\u001b[0;34m(\u001b[0m\u001b[0mbw_method\u001b[0m\u001b[0;34m=\u001b[0m\u001b[0mbw_method\u001b[0m\u001b[0;34m)\u001b[0m\u001b[0;34m\u001b[0m\u001b[0;34m\u001b[0m\u001b[0m\n\u001b[0m\u001b[1;32m    207\u001b[0m \u001b[0;34m\u001b[0m\u001b[0m\n\u001b[1;32m    208\u001b[0m     \u001b[0;32mdef\u001b[0m \u001b[0mevaluate\u001b[0m\u001b[0;34m(\u001b[0m\u001b[0mself\u001b[0m\u001b[0;34m,\u001b[0m \u001b[0mpoints\u001b[0m\u001b[0;34m)\u001b[0m\u001b[0;34m:\u001b[0m\u001b[0;34m\u001b[0m\u001b[0;34m\u001b[0m\u001b[0m\n",
      "\u001b[0;32m/Library/Frameworks/Python.framework/Versions/3.6/lib/python3.6/site-packages/scipy/stats/kde.py\u001b[0m in \u001b[0;36mset_bandwidth\u001b[0;34m(self, bw_method)\u001b[0m\n\u001b[1;32m    554\u001b[0m             \u001b[0;32mraise\u001b[0m \u001b[0mValueError\u001b[0m\u001b[0;34m(\u001b[0m\u001b[0mmsg\u001b[0m\u001b[0;34m)\u001b[0m\u001b[0;34m\u001b[0m\u001b[0;34m\u001b[0m\u001b[0m\n\u001b[1;32m    555\u001b[0m \u001b[0;34m\u001b[0m\u001b[0m\n\u001b[0;32m--> 556\u001b[0;31m         \u001b[0mself\u001b[0m\u001b[0;34m.\u001b[0m\u001b[0m_compute_covariance\u001b[0m\u001b[0;34m(\u001b[0m\u001b[0;34m)\u001b[0m\u001b[0;34m\u001b[0m\u001b[0;34m\u001b[0m\u001b[0m\n\u001b[0m\u001b[1;32m    557\u001b[0m \u001b[0;34m\u001b[0m\u001b[0m\n\u001b[1;32m    558\u001b[0m     \u001b[0;32mdef\u001b[0m \u001b[0m_compute_covariance\u001b[0m\u001b[0;34m(\u001b[0m\u001b[0mself\u001b[0m\u001b[0;34m)\u001b[0m\u001b[0;34m:\u001b[0m\u001b[0;34m\u001b[0m\u001b[0;34m\u001b[0m\u001b[0m\n",
      "\u001b[0;32m/Library/Frameworks/Python.framework/Versions/3.6/lib/python3.6/site-packages/scipy/stats/kde.py\u001b[0m in \u001b[0;36m_compute_covariance\u001b[0;34m(self)\u001b[0m\n\u001b[1;32m    566\u001b[0m                                                \u001b[0mbias\u001b[0m\u001b[0;34m=\u001b[0m\u001b[0;32mFalse\u001b[0m\u001b[0;34m,\u001b[0m\u001b[0;34m\u001b[0m\u001b[0;34m\u001b[0m\u001b[0m\n\u001b[1;32m    567\u001b[0m                                                aweights=self.weights))\n\u001b[0;32m--> 568\u001b[0;31m             \u001b[0mself\u001b[0m\u001b[0;34m.\u001b[0m\u001b[0m_data_inv_cov\u001b[0m \u001b[0;34m=\u001b[0m \u001b[0mlinalg\u001b[0m\u001b[0;34m.\u001b[0m\u001b[0minv\u001b[0m\u001b[0;34m(\u001b[0m\u001b[0mself\u001b[0m\u001b[0;34m.\u001b[0m\u001b[0m_data_covariance\u001b[0m\u001b[0;34m)\u001b[0m\u001b[0;34m\u001b[0m\u001b[0;34m\u001b[0m\u001b[0m\n\u001b[0m\u001b[1;32m    569\u001b[0m \u001b[0;34m\u001b[0m\u001b[0m\n\u001b[1;32m    570\u001b[0m         \u001b[0mself\u001b[0m\u001b[0;34m.\u001b[0m\u001b[0mcovariance\u001b[0m \u001b[0;34m=\u001b[0m \u001b[0mself\u001b[0m\u001b[0;34m.\u001b[0m\u001b[0m_data_covariance\u001b[0m \u001b[0;34m*\u001b[0m \u001b[0mself\u001b[0m\u001b[0;34m.\u001b[0m\u001b[0mfactor\u001b[0m\u001b[0;34m**\u001b[0m\u001b[0;36m2\u001b[0m\u001b[0;34m\u001b[0m\u001b[0;34m\u001b[0m\u001b[0m\n",
      "\u001b[0;32m/Library/Frameworks/Python.framework/Versions/3.6/lib/python3.6/site-packages/scipy/linalg/basic.py\u001b[0m in \u001b[0;36minv\u001b[0;34m(a, overwrite_a, check_finite)\u001b[0m\n\u001b[1;32m    975\u001b[0m         \u001b[0minv_a\u001b[0m\u001b[0;34m,\u001b[0m \u001b[0minfo\u001b[0m \u001b[0;34m=\u001b[0m \u001b[0mgetri\u001b[0m\u001b[0;34m(\u001b[0m\u001b[0mlu\u001b[0m\u001b[0;34m,\u001b[0m \u001b[0mpiv\u001b[0m\u001b[0;34m,\u001b[0m \u001b[0mlwork\u001b[0m\u001b[0;34m=\u001b[0m\u001b[0mlwork\u001b[0m\u001b[0;34m,\u001b[0m \u001b[0moverwrite_lu\u001b[0m\u001b[0;34m=\u001b[0m\u001b[0;36m1\u001b[0m\u001b[0;34m)\u001b[0m\u001b[0;34m\u001b[0m\u001b[0;34m\u001b[0m\u001b[0m\n\u001b[1;32m    976\u001b[0m     \u001b[0;32mif\u001b[0m \u001b[0minfo\u001b[0m \u001b[0;34m>\u001b[0m \u001b[0;36m0\u001b[0m\u001b[0;34m:\u001b[0m\u001b[0;34m\u001b[0m\u001b[0;34m\u001b[0m\u001b[0m\n\u001b[0;32m--> 977\u001b[0;31m         \u001b[0;32mraise\u001b[0m \u001b[0mLinAlgError\u001b[0m\u001b[0;34m(\u001b[0m\u001b[0;34m\"singular matrix\"\u001b[0m\u001b[0;34m)\u001b[0m\u001b[0;34m\u001b[0m\u001b[0;34m\u001b[0m\u001b[0m\n\u001b[0m\u001b[1;32m    978\u001b[0m     \u001b[0;32mif\u001b[0m \u001b[0minfo\u001b[0m \u001b[0;34m<\u001b[0m \u001b[0;36m0\u001b[0m\u001b[0;34m:\u001b[0m\u001b[0;34m\u001b[0m\u001b[0;34m\u001b[0m\u001b[0m\n\u001b[1;32m    979\u001b[0m         raise ValueError('illegal value in %d-th argument of internal '\n",
      "\u001b[0;31mLinAlgError\u001b[0m: singular matrix"
     ]
    },
    {
     "name": "stderr",
     "output_type": "stream",
     "text": [
      "Exception in thread Thread-11:\n",
      "Traceback (most recent call last):\n",
      "  File \"/Library/Frameworks/Python.framework/Versions/3.6/lib/python3.6/site-packages/urllib3/connectionpool.py\", line 677, in urlopen\n",
      "    chunked=chunked,\n",
      "  File \"/Library/Frameworks/Python.framework/Versions/3.6/lib/python3.6/site-packages/urllib3/connectionpool.py\", line 426, in _make_request\n",
      "    six.raise_from(e, None)\n",
      "  File \"<string>\", line 3, in raise_from\n",
      "  File \"/Library/Frameworks/Python.framework/Versions/3.6/lib/python3.6/site-packages/urllib3/connectionpool.py\", line 421, in _make_request\n",
      "    httplib_response = conn.getresponse()\n",
      "  File \"/Library/Frameworks/Python.framework/Versions/3.6/lib/python3.6/http/client.py\", line 1331, in getresponse\n",
      "    response.begin()\n",
      "  File \"/Library/Frameworks/Python.framework/Versions/3.6/lib/python3.6/http/client.py\", line 297, in begin\n",
      "    version, status, reason = self._read_status()\n",
      "  File \"/Library/Frameworks/Python.framework/Versions/3.6/lib/python3.6/http/client.py\", line 266, in _read_status\n",
      "    raise RemoteDisconnected(\"Remote end closed connection without\"\n",
      "http.client.RemoteDisconnected: Remote end closed connection without response\n",
      "\n",
      "During handling of the above exception, another exception occurred:\n",
      "\n",
      "Traceback (most recent call last):\n",
      "  File \"/Library/Frameworks/Python.framework/Versions/3.6/lib/python3.6/site-packages/requests/adapters.py\", line 449, in send\n",
      "    timeout=timeout\n",
      "  File \"/Library/Frameworks/Python.framework/Versions/3.6/lib/python3.6/site-packages/urllib3/connectionpool.py\", line 727, in urlopen\n",
      "    method, url, error=e, _pool=self, _stacktrace=sys.exc_info()[2]\n",
      "  File \"/Library/Frameworks/Python.framework/Versions/3.6/lib/python3.6/site-packages/urllib3/util/retry.py\", line 410, in increment\n",
      "    raise six.reraise(type(error), error, _stacktrace)\n",
      "  File \"/Library/Frameworks/Python.framework/Versions/3.6/lib/python3.6/site-packages/urllib3/packages/six.py\", line 734, in reraise\n",
      "    raise value.with_traceback(tb)\n",
      "  File \"/Library/Frameworks/Python.framework/Versions/3.6/lib/python3.6/site-packages/urllib3/connectionpool.py\", line 677, in urlopen\n",
      "    chunked=chunked,\n",
      "  File \"/Library/Frameworks/Python.framework/Versions/3.6/lib/python3.6/site-packages/urllib3/connectionpool.py\", line 426, in _make_request\n",
      "    six.raise_from(e, None)\n",
      "  File \"<string>\", line 3, in raise_from\n",
      "  File \"/Library/Frameworks/Python.framework/Versions/3.6/lib/python3.6/site-packages/urllib3/connectionpool.py\", line 421, in _make_request\n",
      "    httplib_response = conn.getresponse()\n",
      "  File \"/Library/Frameworks/Python.framework/Versions/3.6/lib/python3.6/http/client.py\", line 1331, in getresponse\n",
      "    response.begin()\n",
      "  File \"/Library/Frameworks/Python.framework/Versions/3.6/lib/python3.6/http/client.py\", line 297, in begin\n",
      "    version, status, reason = self._read_status()\n",
      "  File \"/Library/Frameworks/Python.framework/Versions/3.6/lib/python3.6/http/client.py\", line 266, in _read_status\n",
      "    raise RemoteDisconnected(\"Remote end closed connection without\"\n",
      "urllib3.exceptions.ProtocolError: ('Connection aborted.', RemoteDisconnected('Remote end closed connection without response',))\n",
      "\n",
      "During handling of the above exception, another exception occurred:\n",
      "\n",
      "Traceback (most recent call last):\n",
      "  File \"/Library/Frameworks/Python.framework/Versions/3.6/lib/python3.6/threading.py\", line 916, in _bootstrap_inner\n",
      "    self.run()\n",
      "  File \"/Library/Frameworks/Python.framework/Versions/3.6/lib/python3.6/threading.py\", line 864, in run\n",
      "    self._target(*self._args, **self._kwargs)\n",
      "  File \"/Library/Frameworks/Python.framework/Versions/3.6/lib/python3.6/site-packages/multitasking/__init__.py\", line 102, in _run_via_pool\n",
      "    return callee(*args, **kwargs)\n",
      "  File \"/Library/Frameworks/Python.framework/Versions/3.6/lib/python3.6/site-packages/yfinance/multi.py\", line 170, in _download_one_threaded\n",
      "    actions, period, interval, prepost, proxy, rounding)\n",
      "  File \"/Library/Frameworks/Python.framework/Versions/3.6/lib/python3.6/site-packages/yfinance/multi.py\", line 185, in _download_one\n",
      "    rounding=rounding, many=True)\n",
      "  File \"/Library/Frameworks/Python.framework/Versions/3.6/lib/python3.6/site-packages/yfinance/base.py\", line 156, in history\n",
      "    headers=utils.user_agent_headers\n",
      "  File \"/Library/Frameworks/Python.framework/Versions/3.6/lib/python3.6/site-packages/requests/api.py\", line 76, in get\n",
      "    return request('get', url, params=params, **kwargs)\n",
      "  File \"/Library/Frameworks/Python.framework/Versions/3.6/lib/python3.6/site-packages/requests/api.py\", line 61, in request\n",
      "    return session.request(method=method, url=url, **kwargs)\n",
      "  File \"/Library/Frameworks/Python.framework/Versions/3.6/lib/python3.6/site-packages/requests/sessions.py\", line 530, in request\n",
      "    resp = self.send(prep, **send_kwargs)\n",
      "  File \"/Library/Frameworks/Python.framework/Versions/3.6/lib/python3.6/site-packages/requests/sessions.py\", line 643, in send\n",
      "    r = adapter.send(request, **kwargs)\n",
      "  File \"/Library/Frameworks/Python.framework/Versions/3.6/lib/python3.6/site-packages/requests/adapters.py\", line 498, in send\n",
      "    raise ConnectionError(err, request=request)\n",
      "requests.exceptions.ConnectionError: ('Connection aborted.', RemoteDisconnected('Remote end closed connection without response',))\n",
      "\n"
     ]
    }
   ],
   "source": [
    "scipy_kernel_yz = gaussian_kde(apple22_returns/apple2_returns, 'scott')\n",
    "yz = scipy_kernel_yz.evaluate(u)\n",
    "count, bins, patches = plt.hist(apple22_returns/apple2_returns, bins='auto', density=True, edgecolor='Black')\n",
    "uu=np.linspace(-0.1, 0.1, 500)\n",
    "plt.plot(uu,yz,'o')\n",
    "plt.xlim(-10,10)"
   ]
  },
  {
   "cell_type": "markdown",
   "metadata": {},
   "source": [
    "import nnkcde\n",
    "\n",
    "\n",
    "\n",
    "z_train = apple2_returns\n",
    "x_train = apple22_returns\n",
    "\n",
    "k=39\n",
    "model = nnkcde.NNKCDE(x_train,z_train)\n",
    "\n",
    "n_grid = 1000\n",
    "bandwidth = 0.01\n",
    "z_grid = np.linspace(z_train.min(), z_train.max(), n_grid)\n",
    "\n",
    "cde_test = model.predict(x_test, z_grid, bandwidth=bandwidth)\n",
    "\n",
    "\n",
    "x_test = apple_test_returns\n",
    "\n",
    "n_grid = 1000\n",
    "bandwidth = 0.01\n",
    "z_grid = np.linspace(z_train.min(), z_train.max(), n_grid)\n",
    "\n",
    "cde_test = model.predict(x_test, z_grid, bandwidth=bandwidth)"
   ]
  },
  {
   "cell_type": "code",
   "execution_count": 29,
   "metadata": {},
   "outputs": [
    {
     "name": "stdout",
     "output_type": "stream",
     "text": [
      "[0.99999993 0.99999998 1.         0.99999981 1.         1.\n",
      " 0.99999974 1.         0.99999938 0.99999991 0.99999987 0.99999995\n",
      " 0.99999998 0.99999963 0.99999965 0.99999998 0.99999994 0.99999999\n",
      " 0.99999987 0.99999997 0.99999999 0.99999976 1.         0.99999983\n",
      " 0.99999999 0.99999991 1.         0.99999999 1.         0.99999997\n",
      " 0.99999993 0.99999999 0.99999988 1.         0.99999996 0.99999992\n",
      " 0.99999991 0.99999996 0.99999987 0.99999993]\n"
     ]
    }
   ],
   "source": [
    "def GaussKern(variable):\n",
    "    return np.exp(-variable**2 / 2 * np.var(variable))\n",
    "print(GaussKern(apple22_returns))\n",
    "\n",
    "\n",
    "\n"
   ]
  },
  {
   "cell_type": "code",
   "execution_count": 39,
   "metadata": {},
   "outputs": [
    {
     "name": "stdout",
     "output_type": "stream",
     "text": [
      "Z is equals to:  [0.00000000e+000 3.98464866e-263 3.20546257e-122 5.39419608e-035\n",
      " 3.19988927e-001 6.80011073e-001 1.06594122e-028 4.84197141e-110\n",
      " 4.60008367e-245 0.00000000e+000]\n"
     ]
    }
   ],
   "source": [
    "gk_z = gaussian_kde(apple22_returns, 'scott')\n",
    "uuu = np.linspace(-0.50,0.50,10)\n",
    "g_k_z = gk_z.evaluate(uuu)\n",
    "sum_g_k_z = np.sum(g_k_z)\n",
    "Z = g_k_z/sum_g_k_z\n",
    "print(\"Z is equals to: \", Z)"
   ]
  },
  {
   "cell_type": "code",
   "execution_count": 37,
   "metadata": {},
   "outputs": [
    {
     "data": {
      "image/png": "[encoded data removed]",
      "text/plain": [
       "<Figure size 432x288 with 1 Axes>"
      ]
     },
     "metadata": {
      "needs_background": "light"
     },
     "output_type": "display_data"
    }
   ],
   "source": [
    "plt.plot(Z)\n",
    "plt.show()"
   ]
  }
 ],
 "metadata": {
  "kernelspec": {
   "display_name": "Python 3",
   "language": "python",
   "name": "python3"
  },
  "language_info": {
   "codemirror_mode": {
    "name": "ipython",
    "version": 3
   },
   "file_extension": ".py",
   "mimetype": "text/x-python",
   "name": "python",
   "nbconvert_exporter": "python",
   "pygments_lexer": "ipython3",
   "version": "3.8.10"
  }
 },
 "nbformat": 4,
 "nbformat_minor": 4
}
