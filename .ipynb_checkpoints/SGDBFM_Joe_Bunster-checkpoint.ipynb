{
 "cells": [
  {
   "cell_type": "markdown",
   "id": "0952b2ef",
   "metadata": {},
   "source": [
    "# Project Description"
   ]
  },
  {
   "cell_type": "markdown",
   "id": "74abd018",
   "metadata": {},
   "source": [
    "# details\n",
    "The research paper upon which we are basing this is one of the advisor's most recent research papers.\n",
    "The paper's goal is to develop a conditional probability density function P (X | Z).\n",
    "Then \"optimally transport\" it to the unknown P(Y) using gradient descent . \n",
    "\n",
    "- The X-variable is the current time series\n",
    "- The Z variable is the 1-day lagged time series\n",
    "- The Y-variables is the variable I am solving for. \n",
    "\n",
    "The ultimate goal is to program the gaussian kernels like K(y,y i) in equation (10) so that we can create the Conditional Kernel Density Estimation equations (12) and (13).\n",
    "\n",
    "\n",
    "We intend to use a simple gradient descent algorithm to see how this works; we simply want to implement the idea from Zhao's paper ( https://math.nyu.edu/tabak/publications/TabakTrigilaZhao.pdf )."
   ]
  },
  {
   "cell_type": "markdown",
   "id": "02de70b4",
   "metadata": {},
   "source": [
    "# Action Items "
   ]
  },
  {
   "cell_type": "code",
   "execution_count": 1,
   "id": "ba51de84",
   "metadata": {},
   "outputs": [],
   "source": [
    "#Action Items "
   ]
  },
  {
   "cell_type": "markdown",
   "id": "447fad72",
   "metadata": {},
   "source": [
    "### About the Dataset"
   ]
  },
  {
   "cell_type": "markdown",
   "id": "a41cff51",
   "metadata": {},
   "source": [
    "Ever since Yahoo! finance decommissioned their historical data API, many programs that relied on it to stop working.\n",
    "\n",
    "yfinance aims to solve this problem by offering a reliable, threaded, and Pythonic way to download historical market data from Yahoo! finance."
   ]
  },
  {
   "cell_type": "markdown",
   "id": "3ac978e7",
   "metadata": {},
   "source": [
    "# SGDBFM EDA Phase I :  Understanding the Data"
   ]
  },
  {
   "cell_type": "code",
   "execution_count": 2,
   "id": "878e153f",
   "metadata": {},
   "outputs": [],
   "source": [
    "'''\n",
    "Importing all the needed librairies\n",
    "'''\n",
    "#Data Structure, scientific computing and technical computing.\n",
    "import numpy as np\n",
    "import pandas as pd\n",
    "import pandas_datareader.data as web # pip install pandas_datareader\n",
    "\n",
    "#Scipy: scientific computing\n",
    "import scipy\n",
    "from scipy.spatial.distance import pdist, squareform\n",
    "from scipy.spatial import distance_matrix\n",
    "from scipy import stats\n",
    "\n",
    "\n",
    "#Visualization\n",
    "import plotly.graph_objs as go\n",
    "import matplotlib.pyplot as plt\n",
    "import seaborn as sns\n",
    "\n",
    "# machine learning library for the Python programming language. \n",
    "from sklearn.neighbors import KernelDensity\n",
    "\n",
    "#Dataset\n",
    "import yfinance as yf #pip install yfinance\n",
    "\n",
    "#Date formatting\n",
    "import datetime"
   ]
  },
  {
   "cell_type": "code",
   "execution_count": 3,
   "id": "8c39e12a",
   "metadata": {},
   "outputs": [
    {
     "name": "stdout",
     "output_type": "stream",
     "text": [
      "[*********************100%***********************]  1 of 1 completed\n"
     ]
    },
    {
     "data": {
      "text/html": [
       "<div>\n",
       "<style scoped>\n",
       "    .dataframe tbody tr th:only-of-type {\n",
       "        vertical-align: middle;\n",
       "    }\n",
       "\n",
       "    .dataframe tbody tr th {\n",
       "        vertical-align: top;\n",
       "    }\n",
       "\n",
       "    .dataframe thead th {\n",
       "        text-align: right;\n",
       "    }\n",
       "</style>\n",
       "<table border=\"1\" class=\"dataframe\">\n",
       "  <thead>\n",
       "    <tr style=\"text-align: right;\">\n",
       "      <th></th>\n",
       "      <th>Open</th>\n",
       "      <th>High</th>\n",
       "      <th>Low</th>\n",
       "      <th>Close</th>\n",
       "      <th>Adj Close</th>\n",
       "      <th>Volume</th>\n",
       "    </tr>\n",
       "    <tr>\n",
       "      <th>Date</th>\n",
       "      <th></th>\n",
       "      <th></th>\n",
       "      <th></th>\n",
       "      <th></th>\n",
       "      <th></th>\n",
       "      <th></th>\n",
       "    </tr>\n",
       "  </thead>\n",
       "  <tbody>\n",
       "    <tr>\n",
       "      <th>2021-08-13</th>\n",
       "      <td>148.970001</td>\n",
       "      <td>149.440002</td>\n",
       "      <td>148.270004</td>\n",
       "      <td>149.100006</td>\n",
       "      <td>149.100006</td>\n",
       "      <td>59318800</td>\n",
       "    </tr>\n",
       "    <tr>\n",
       "      <th>2021-08-16</th>\n",
       "      <td>148.539993</td>\n",
       "      <td>151.190002</td>\n",
       "      <td>146.470001</td>\n",
       "      <td>151.119995</td>\n",
       "      <td>151.119995</td>\n",
       "      <td>103296000</td>\n",
       "    </tr>\n",
       "    <tr>\n",
       "      <th>2021-08-17</th>\n",
       "      <td>150.229996</td>\n",
       "      <td>151.679993</td>\n",
       "      <td>149.089996</td>\n",
       "      <td>150.190002</td>\n",
       "      <td>150.190002</td>\n",
       "      <td>92229700</td>\n",
       "    </tr>\n",
       "    <tr>\n",
       "      <th>2021-08-18</th>\n",
       "      <td>149.800003</td>\n",
       "      <td>150.720001</td>\n",
       "      <td>146.149994</td>\n",
       "      <td>146.360001</td>\n",
       "      <td>146.360001</td>\n",
       "      <td>86326000</td>\n",
       "    </tr>\n",
       "    <tr>\n",
       "      <th>2021-08-19</th>\n",
       "      <td>145.029999</td>\n",
       "      <td>148.000000</td>\n",
       "      <td>144.520004</td>\n",
       "      <td>146.699997</td>\n",
       "      <td>146.699997</td>\n",
       "      <td>81030081</td>\n",
       "    </tr>\n",
       "  </tbody>\n",
       "</table>\n",
       "</div>"
      ],
      "text/plain": [
       "                  Open        High         Low       Close   Adj Close  \\\n",
       "Date                                                                     \n",
       "2021-08-13  148.970001  149.440002  148.270004  149.100006  149.100006   \n",
       "2021-08-16  148.539993  151.190002  146.470001  151.119995  151.119995   \n",
       "2021-08-17  150.229996  151.679993  149.089996  150.190002  150.190002   \n",
       "2021-08-18  149.800003  150.720001  146.149994  146.360001  146.360001   \n",
       "2021-08-19  145.029999  148.000000  144.520004  146.699997  146.699997   \n",
       "\n",
       "               Volume  \n",
       "Date                   \n",
       "2021-08-13   59318800  \n",
       "2021-08-16  103296000  \n",
       "2021-08-17   92229700  \n",
       "2021-08-18   86326000  \n",
       "2021-08-19   81030081  "
      ]
     },
     "execution_count": 3,
     "metadata": {},
     "output_type": "execute_result"
    }
   ],
   "source": [
    "'''\n",
    "Reading the data from yahoo-finance API for:\n",
    "- the ticker: AAPL \n",
    "- Periode: for the last 10 years\n",
    "'''\n",
    "data = yf.download(\"AAPL\", period = \"10y\")\n",
    "data.tail()"
   ]
  },
  {
   "cell_type": "code",
   "execution_count": 4,
   "id": "b84b8b67",
   "metadata": {},
   "outputs": [
    {
     "data": {
      "text/plain": [
       "Date\n",
       "2011-08-22    12.730000\n",
       "2011-08-23    13.342857\n",
       "2011-08-24    13.435000\n",
       "2011-08-25    13.347143\n",
       "2011-08-26    13.699286\n",
       "Name: Close, dtype: float64"
      ]
     },
     "execution_count": 4,
     "metadata": {},
     "output_type": "execute_result"
    }
   ],
   "source": [
    "'''\n",
    "slicing data to just look at closing prices\n",
    "'''\n",
    "\n",
    "apple = data[\"Close\"]\n",
    "apple.head()"
   ]
  },
  {
   "cell_type": "code",
   "execution_count": 5,
   "id": "3bc4a972",
   "metadata": {},
   "outputs": [],
   "source": [
    "'''\n",
    "changing data from pandas data series to numpy array\n",
    "'''\n",
    "Apple = np.array(apple)"
   ]
  },
  {
   "cell_type": "code",
   "execution_count": 6,
   "id": "37af2152",
   "metadata": {},
   "outputs": [
    {
     "data": {
      "image/png": "[encoded data removed]",
      "text/plain": [
       "<Figure size 432x288 with 1 Axes>"
      ]
     },
     "metadata": {
      "needs_background": "light"
     },
     "output_type": "display_data"
    }
   ],
   "source": [
    "'''\n",
    "ploting of Apple Price\n",
    "'''\n",
    "\n",
    "plt.plot(Apple)\n",
    "plt.title(\"Apple Price\")\n",
    "plt.xlabel(\"Days Elapsed\")\n",
    "plt.ylabel(\"Price in $\")\n",
    "plt.show()\n"
   ]
  },
  {
   "cell_type": "code",
   "execution_count": 7,
   "id": "0a444636",
   "metadata": {},
   "outputs": [
    {
     "data": {
      "text/plain": [
       "array([ 0.0481428 ,  0.0069058 , -0.00653943, ..., -0.006154  ,\n",
       "       -0.02550104,  0.00232301])"
      ]
     },
     "execution_count": 7,
     "metadata": {},
     "output_type": "execute_result"
    }
   ],
   "source": [
    "'''\n",
    "converting prices to returns\n",
    "'''\n",
    "def financial_returns(x):\n",
    "    return np.diff(x) / x[ : -1]\n",
    "\n",
    "#Showcasing the conversion\n",
    "financial_returns(Apple)\n"
   ]
  },
  {
   "cell_type": "code",
   "execution_count": 8,
   "id": "19e2a37a",
   "metadata": {},
   "outputs": [
    {
     "data": {
      "image/png": "[encoded data removed]",
      "text/plain": [
       "<Figure size 432x288 with 1 Axes>"
      ]
     },
     "metadata": {
      "needs_background": "light"
     },
     "output_type": "display_data"
    }
   ],
   "source": [
    "'''\n",
    "graph of returns\n",
    "'''\n",
    "apple_returns = financial_returns(Apple)\n",
    "plt.plot(apple_returns, \"g\")\n",
    "plt.title(\"Apple Returns\")\n",
    "plt.xlabel(\"Time\")\n",
    "plt.ylabel(\" % Return\")\n",
    "plt.show()"
   ]
  },
  {
   "cell_type": "code",
   "execution_count": 16,
   "id": "96c1eb12",
   "metadata": {},
   "outputs": [],
   "source": [
    "'''\n",
    "Daily and monthly returns \n",
    "'''\n",
    "\n",
    "apple_daily_returns = data['Adj Close'].pct_change()\n",
    "apple_monthly_returns = data['Adj Close'].resample('M').ffill().pct_change()"
   ]
  },
  {
   "cell_type": "code",
   "execution_count": 14,
   "id": "f14c3397",
   "metadata": {},
   "outputs": [
    {
     "data": {
      "image/png": "[encoded data removed]",
      "text/plain": [
       "<Figure size 432x288 with 1 Axes>"
      ]
     },
     "metadata": {
      "needs_background": "light"
     },
     "output_type": "display_data"
    }
   ],
   "source": [
    "'''\n",
    "Apple daily returns\n",
    "'''\n",
    "\n",
    "fig = plt.figure()\n",
    "ax1 = fig.add_axes([0.1,0.1,0.8,0.8])\n",
    "ax1.plot(apple_daily_returns)\n",
    "ax1.set_xlabel(\"Date\")\n",
    "ax1.set_ylabel(\"Percent\")\n",
    "ax1.set_title(\"Apple monthly returns data\")\n",
    "plt.show()"
   ]
  },
  {
   "cell_type": "code",
   "execution_count": 15,
   "id": "59f9881a",
   "metadata": {},
   "outputs": [
    {
     "data": {
      "image/png": "[encoded data removed]",
      "text/plain": [
       "<Figure size 432x288 with 1 Axes>"
      ]
     },
     "metadata": {
      "needs_background": "light"
     },
     "output_type": "display_data"
    }
   ],
   "source": [
    "'''\n",
    "Apple monthly returns\n",
    "'''\n",
    "fig = plt.figure()\n",
    "ax1 = fig.add_axes([0.1,0.1,0.8,0.8])\n",
    "ax1.plot(apple_monthly_returns)\n",
    "ax1.set_xlabel(\"Date\")\n",
    "ax1.set_ylabel(\"Percent\")\n",
    "ax1.set_title(\"Apple monthly returns data\")\n",
    "plt.show()"
   ]
  },
  {
   "cell_type": "markdown",
   "id": "1c5323f4",
   "metadata": {},
   "source": [
    "After looking at the daily returns chart for Netflix we can conclude that the returns are quite volatile and the stock can move +/- 5% on any given day. To get a sense of how extreme the returns can be we can plot a histogram."
   ]
  },
  {
   "cell_type": "code",
   "execution_count": 17,
   "id": "6dc0b49b",
   "metadata": {},
   "outputs": [
    {
     "data": {
      "image/png": "[encoded data removed]",
      "text/plain": [
       "<Figure size 432x288 with 1 Axes>"
      ]
     },
     "metadata": {
      "needs_background": "light"
     },
     "output_type": "display_data"
    }
   ],
   "source": [
    "fig = plt.figure()\n",
    "ax1 = fig.add_axes([0.1,0.1,0.8,0.8])\n",
    "apple_daily_returns.plot.hist(bins = 60)\n",
    "ax1.set_xlabel(\"Daily returns %\")\n",
    "ax1.set_ylabel(\"Percent\")\n",
    "ax1.set_title(\"Apple daily returns data\")\n",
    "ax1.text(-0.35,200,\"Extreme Low\\nreturns\")\n",
    "ax1.text(0.25,200,\"Extreme High\\nreturns\")\n",
    "plt.show()"
   ]
  },
  {
   "cell_type": "markdown",
   "id": "14580e71",
   "metadata": {},
   "source": [
    "### Calculating the cumulative returns for the Apple stock"
   ]
  },
  {
   "cell_type": "markdown",
   "id": "015bc745",
   "metadata": {},
   "source": [
    "Plotting the daily and monthly returns are useful for understanding the daily and monthly volatility of the investment. To calculate the growth of our investment or in other word, calculating the total returns from our investment, we need to calculate the cumulative returns from that investment. To calculate the cumulative returns we will use the **cumprod()** function."
   ]
  },
  {
   "cell_type": "code",
   "execution_count": 18,
   "id": "c7034e7b",
   "metadata": {},
   "outputs": [],
   "source": [
    "apple_cum_returns = (apple_daily_returns + 1).cumprod()"
   ]
  },
  {
   "cell_type": "markdown",
   "id": "42ae818a",
   "metadata": {},
   "source": [
    "Next we can chart the cumulative returns of Apple."
   ]
  },
  {
   "cell_type": "code",
   "execution_count": 19,
   "id": "ded01e07",
   "metadata": {},
   "outputs": [
    {
     "data": {
      "image/png": "[encoded data removed]",
      "text/plain": [
       "<Figure size 432x288 with 1 Axes>"
      ]
     },
     "metadata": {
      "needs_background": "light"
     },
     "output_type": "display_data"
    }
   ],
   "source": [
    "fig = plt.figure()\n",
    "ax1 = fig.add_axes([0.1,0.1,0.8,0.8])\n",
    "apple_cum_returns.plot()\n",
    "ax1.set_xlabel(\"Date\")\n",
    "ax1.set_ylabel(\"Growth of $1 investment\")\n",
    "ax1.set_title(\"Apple daily cumulative returns data\")\n",
    "plt.show()"
   ]
  },
  {
   "cell_type": "markdown",
   "id": "23b20330",
   "metadata": {},
   "source": [
    "This chart shows the cumulative returns since 2012 for Apple. With the power of hindsight, one could have made $14 on a $1 investment since 2012. That is quite a remarkable performance. But as we know its easier said then done. "
   ]
  },
  {
   "cell_type": "code",
   "execution_count": 20,
   "id": "dc7c6d18",
   "metadata": {},
   "outputs": [
    {
     "data": {
      "image/png": "[encoded data removed]",
      "text/plain": [
       "<Figure size 432x288 with 1 Axes>"
      ]
     },
     "metadata": {
      "needs_background": "light"
     },
     "output_type": "display_data"
    }
   ],
   "source": [
    "fig = plt.figure()\n",
    "ax1 = fig.add_axes([0.1,0.1,0.8,0.8])\n",
    "apple_cum_returns = (apple_monthly_returns + 1).cumprod()\n",
    "ax1.plot(apple_cum_returns)\n",
    "ax1.set_xlabel(\"Date\")\n",
    "ax1.set_ylabel(\"Growth of $1 investment\")\n",
    "ax1.set_title(\"Apple Monthly cumulative returns data\")\n",
    "plt.show()"
   ]
  },
  {
   "cell_type": "markdown",
   "id": "9d947a11",
   "metadata": {},
   "source": [
    "We can visualize that the monthly returns chart is much more smoother than the daily chart."
   ]
  },
  {
   "cell_type": "markdown",
   "id": "abe9d683",
   "metadata": {},
   "source": [
    "### Comparing the findings with stocks such as Google and Amazon"
   ]
  },
  {
   "cell_type": "markdown",
   "id": "d204c48f",
   "metadata": {},
   "source": [
    "We can download the financial data for multiple stocks. We first assign the stock symbols to a variable named “tickers”\", and use that to download the stock prices."
   ]
  },
  {
   "cell_type": "code",
   "execution_count": 21,
   "id": "a9369b5b",
   "metadata": {},
   "outputs": [],
   "source": [
    "tickers = [\"AMZN\", \"AAPL\", \"GOOG\"]\n",
    "multpl_stocks = web.get_data_yahoo(tickers,\n",
    "start = \"2012-01-01\",\n",
    "end = \"2021-08-19\")"
   ]
  },
  {
   "cell_type": "markdown",
   "id": "31387242",
   "metadata": {},
   "source": [
    "Next we will chart the stock prices for multiple stocks"
   ]
  },
  {
   "cell_type": "code",
   "execution_count": 25,
   "id": "c46e7988",
   "metadata": {},
   "outputs": [
    {
     "data": {
      "image/png": "[encoded data removed]",
      "text/plain": [
       "<Figure size 432x288 with 3 Axes>"
      ]
     },
     "metadata": {
      "needs_background": "light"
     },
     "output_type": "display_data"
    }
   ],
   "source": [
    "'''\n",
    "Charting the stock prices for multiple stocks\n",
    "'''\n",
    "fig = plt.figure()\n",
    "ax1 = fig.add_subplot(321)\n",
    "ax2 = fig.add_subplot(322)\n",
    "ax3 = fig.add_subplot(323)\n",
    "\n",
    "ax1.plot(multpl_stocks['Adj Close']['AMZN'])\n",
    "ax1.set_title(\"Amazon\")\n",
    "ax2.plot(multpl_stocks['Adj Close']['AAPL'])\n",
    "ax2.set_title(\"Apple\")\n",
    "ax3.plot(multpl_stocks['Adj Close']['GOOG'])\n",
    "ax3.set_title(\"Google\")\n",
    "plt.tight_layout()\n",
    "plt.show()"
   ]
  },
  {
   "cell_type": "markdown",
   "id": "a205d79f",
   "metadata": {},
   "source": [
    "Calculating the the returns for multiple stocks is just as easy as the single stock."
   ]
  },
  {
   "cell_type": "code",
   "execution_count": 26,
   "id": "8c4d2cfb",
   "metadata": {},
   "outputs": [],
   "source": [
    "'''\n",
    "Calculating the returns for multiple stocks\n",
    "'''\n",
    "multpl_stock_daily_returns = multpl_stocks['Adj Close'].pct_change()\n",
    "multpl_stock_monthly_returns = multpl_stocks['Adj Close'].resample('M').ffill().pct_change()"
   ]
  },
  {
   "cell_type": "code",
   "execution_count": 27,
   "id": "b74bab35",
   "metadata": {},
   "outputs": [
    {
     "data": {
      "text/plain": [
       "<Figure size 432x288 with 0 Axes>"
      ]
     },
     "metadata": {},
     "output_type": "display_data"
    },
    {
     "data": {
      "image/png": "[encoded data removed]",
      "text/plain": [
       "<Figure size 432x288 with 1 Axes>"
      ]
     },
     "metadata": {
      "needs_background": "light"
     },
     "output_type": "display_data"
    }
   ],
   "source": [
    "fig = plt.figure()\n",
    "(multpl_stock_monthly_returns + 1).cumprod().plot()\n",
    "plt.show()"
   ]
  },
  {
   "cell_type": "markdown",
   "id": "4d9363b5",
   "metadata": {},
   "source": [
    "Not surprisingly, Apple had the best returns since 2013. Amazon comes in the first place since the start of the pandemic. The most surprising result is Google that comes in last. It has severely under performed the other stocks in the FAANG group. Maybe the market participants are worried about its spending on the moon shot projects (Google glass, X Labs, Waymo etc). Whether these projects can produce results is yet to be seen.\n",
    "\n",
    "A contrarian could argue that given the investments in the future projects, Google is currently undervalued an could be the better investment among the FAANG stocks."
   ]
  },
  {
   "cell_type": "markdown",
   "id": "0fa5ae90",
   "metadata": {},
   "source": [
    "### Statistical Data"
   ]
  },
  {
   "cell_type": "markdown",
   "id": "88cc0794",
   "metadata": {},
   "source": [
    "We already have the daily and monthly returns data for Netflix. Now we we will calculate the daily and monthly mean and standard deviations of the returns. We will use mean() and std() functions for our purpose."
   ]
  },
  {
   "cell_type": "code",
   "execution_count": 32,
   "id": "59562246",
   "metadata": {},
   "outputs": [
    {
     "name": "stdout",
     "output_type": "stream",
     "text": [
      "Mean: \n",
      " Symbols\n",
      "AMZN    0.027782\n",
      "AAPL    0.023803\n",
      "GOOG    0.021560\n",
      "dtype: float64\n"
     ]
    }
   ],
   "source": [
    "'''\n",
    "Calculating the Mean, standard deviation and other stats\n",
    "'''\n",
    "print(\"Mean: \\n\", multpl_stock_monthly_returns.mean())"
   ]
  },
  {
   "cell_type": "code",
   "execution_count": 33,
   "id": "f22ab476",
   "metadata": {},
   "outputs": [
    {
     "name": "stdout",
     "output_type": "stream",
     "text": [
      "Standard deviation: \n",
      " Symbols\n",
      "AMZN    0.081305\n",
      "AAPL    0.080239\n",
      "GOOG    0.061358\n",
      "dtype: float64\n"
     ]
    }
   ],
   "source": [
    "print(\"Standard deviation: \\n\", multpl_stock_monthly_returns.std())"
   ]
  },
  {
   "cell_type": "code",
   "execution_count": 34,
   "id": "39988c7f",
   "metadata": {},
   "outputs": [
    {
     "name": "stdout",
     "output_type": "stream",
     "text": [
      "Symbols      AMZN      AAPL      GOOG\n",
      "Symbols                              \n",
      "AMZN     1.000000  0.401388  0.537828\n",
      "AAPL     0.401388  1.000000  0.365305\n",
      "GOOG     0.537828  0.365305  1.000000\n"
     ]
    }
   ],
   "source": [
    "'''\n",
    "Calculating the correlation and covariance using pandas\n",
    "'''\n",
    "print(multpl_stock_monthly_returns.corr())"
   ]
  },
  {
   "cell_type": "code",
   "execution_count": 35,
   "id": "5ace6c42",
   "metadata": {},
   "outputs": [
    {
     "name": "stdout",
     "output_type": "stream",
     "text": [
      "Symbols      AMZN      AAPL      GOOG\n",
      "Symbols                              \n",
      "AMZN     0.006610  0.002619  0.002683\n",
      "AAPL     0.002619  0.006438  0.001799\n",
      "GOOG     0.002683  0.001799  0.003765\n"
     ]
    }
   ],
   "source": [
    "print(multpl_stock_monthly_returns.cov())"
   ]
  },
  {
   "cell_type": "markdown",
   "id": "63360d10",
   "metadata": {},
   "source": [
    "# *Machine Learning* - Contribution Phase II :  Implementing SGD and Optimal Transport Algorithm"
   ]
  },
  {
   "cell_type": "markdown",
   "id": "b890e79e",
   "metadata": {},
   "source": [
    "### a - Gaussian Kernel function"
   ]
  },
  {
   "cell_type": "code",
   "execution_count": 36,
   "id": "cf660675",
   "metadata": {},
   "outputs": [
    {
     "name": "stdout",
     "output_type": "stream",
     "text": [
      "(2515,)\n"
     ]
    }
   ],
   "source": [
    "'''\n",
    "Gaussian Kernel function\n",
    "'''\n",
    "\n",
    "def Gaussian_Kernel(x, h):\n",
    "    return np.exp(-x**2/ 2 * h**2)\n",
    "\n",
    "\n",
    "Gaussian_Kernel(1, 1)\n",
    "Gaussian_Kernel(apple_returns, h = 0.1)\n",
    "print(apple_returns.shape)"
   ]
  },
  {
   "cell_type": "code",
   "execution_count": null,
   "id": "5653e1af",
   "metadata": {},
   "outputs": [],
   "source": [
    "'''\n",
    "Difference Matrix\n",
    "'''\n",
    "difference_matrix = []\n",
    "for i in range(len(apple_returns)):\n",
    "    for k in range(len(apple_returns)):\n",
    "        difference_matrix.append(apple_returns[k] - apple_returns[i])\n",
    "        M = np.mat(difference_matrix)\n"
   ]
  },
  {
   "cell_type": "code",
   "execution_count": 44,
   "id": "7c775b93",
   "metadata": {},
   "outputs": [],
   "source": [
    "q = []\n",
    "i=0\n",
    "while(i<25):\n",
    "    j=0\n",
    "    while(j<25):\n",
    "        q.append(Gaussian_Kernel(np.absolute(apple_returns[j]-apple_returns[i]), h=0.1))\n",
    "        j=j+1\n",
    "    i=i+1\n",
    "matrix_qq = np.reshape(q, (25,25))\n",
    "matrix_q = matrix_qq/np.sum(matrix_qq, axis = 1)\n"
   ]
  },
  {
   "cell_type": "code",
   "execution_count": 41,
   "id": "45fdfeb8",
   "metadata": {},
   "outputs": [
    {
     "name": "stdout",
     "output_type": "stream",
     "text": [
      "The shape of q is:  (25, 25) [[0.04000043 0.03999971 0.03999948 0.04000005 0.03999988 0.03999959\n",
      "  0.03999936 0.03999942 0.03999927 0.03999986 0.03999978 0.0399996\n",
      "  0.03999929 0.03999971 0.03999981 0.0399998  0.03999976 0.03999993\n",
      "  0.04000008 0.03999967 0.03999954 0.03999916 0.0399997  0.03999954\n",
      "  0.03999942]\n",
      " [0.04000009 0.04000005 0.04000004 0.04000007 0.04000006 0.04000005\n",
      "  0.04000003 0.04000004 0.04000003 0.04000006 0.04000006 0.04000005\n",
      "  0.04000003 0.04000005 0.04000006 0.04000006 0.04000005 0.04000006\n",
      "  0.04000007 0.04000005 0.04000004 0.04000002 0.04000005 0.04000004\n",
      "  0.04000004]\n",
      " [0.03999983 0.04000002 0.04000008 0.03999993 0.03999997 0.04000005\n",
      "  0.04000011 0.04000009 0.04000013 0.03999998 0.04       0.04000005\n",
      "  0.04000013 0.04000002 0.03999999 0.03999999 0.04000001 0.03999996\n",
      "  0.03999992 0.04000003 0.04000006 0.04000016 0.04000002 0.04000006\n",
      "  0.04000009]\n",
      " [0.04000033 0.03999998 0.03999986 0.04000015 0.04000006 0.03999992\n",
      "  0.0399998  0.03999983 0.03999976 0.04000005 0.04000001 0.03999992\n",
      "  0.03999977 0.03999997 0.04000002 0.04000002 0.04       0.04000008\n",
      "  0.04000016 0.03999996 0.03999989 0.0399997  0.03999997 0.03999989\n",
      "  0.03999983]\n",
      " [0.04000023 0.04000003 0.03999997 0.04000013 0.04000008 0.04\n",
      "  0.03999994 0.03999995 0.03999991 0.04000007 0.04000005 0.04\n",
      "  0.03999992 0.04000003 0.04000006 0.04000006 0.04000005 0.04000009\n",
      "  0.04000013 0.04000002 0.03999999 0.03999988 0.04000003 0.03999999\n",
      "  0.03999995]\n",
      " [0.03999997 0.04000004 0.04000007 0.04000001 0.04000003 0.04000006\n",
      "  0.04000008 0.04000007 0.04000009 0.04000003 0.04000004 0.04000006\n",
      "  0.04000009 0.04000004 0.04000003 0.04000003 0.04000004 0.04000002\n",
      "  0.04       0.04000005 0.04000006 0.0400001  0.04000004 0.04000006\n",
      "  0.04000007]\n",
      " [0.03999968 0.03999997 0.04000007 0.03999983 0.0399999  0.04000002\n",
      "  0.04000012 0.04000009 0.04000015 0.03999991 0.03999994 0.04000002\n",
      "  0.04000015 0.03999997 0.03999993 0.03999993 0.03999995 0.03999988\n",
      "  0.03999982 0.03999999 0.04000004 0.0400002  0.03999998 0.04000004\n",
      "  0.04000009]\n",
      " [0.03999976 0.04       0.04000007 0.03999988 0.03999994 0.04000004\n",
      "  0.04000011 0.04000009 0.04000014 0.03999995 0.03999997 0.04000003\n",
      "  0.04000014 0.04       0.03999996 0.03999997 0.03999998 0.03999992\n",
      "  0.03999987 0.04000001 0.04000006 0.04000018 0.04       0.04000005\n",
      "  0.04000009]\n",
      " [0.03999955 0.03999993 0.04000005 0.03999975 0.03999984 0.03999999\n",
      "  0.04000011 0.04000008 0.04000016 0.03999985 0.03999989 0.03999998\n",
      "  0.04000015 0.03999993 0.03999988 0.03999988 0.0399999  0.03999981\n",
      "  0.03999973 0.03999995 0.04000002 0.04000022 0.03999993 0.04000001\n",
      "  0.04000008]\n",
      " [0.04000021 0.04000004 0.03999998 0.04000012 0.04000008 0.04000001\n",
      "  0.03999995 0.03999997 0.03999993 0.04000007 0.04000006 0.04000001\n",
      "  0.03999994 0.04000004 0.04000006 0.04000006 0.04000005 0.04000009\n",
      "  0.04000013 0.04000003 0.04       0.0399999  0.04000004 0.04\n",
      "  0.03999997]\n",
      " [0.04000015 0.04000005 0.04000002 0.0400001  0.04000007 0.04000003\n",
      "  0.04       0.04000001 0.03999999 0.04000007 0.04000006 0.04000003\n",
      "  0.03999999 0.04000005 0.04000006 0.04000006 0.04000006 0.04000008\n",
      "  0.0400001  0.04000004 0.04000002 0.03999997 0.04000005 0.04000002\n",
      "  0.04000001]\n",
      " [0.03999998 0.04000004 0.04000007 0.04000001 0.04000003 0.04000006\n",
      "  0.04000008 0.04000007 0.04000009 0.04000003 0.04000004 0.04000006\n",
      "  0.04000008 0.04000005 0.04000004 0.04000004 0.04000004 0.04000002\n",
      "  0.04000001 0.04000005 0.04000006 0.0400001  0.04000005 0.04000006\n",
      "  0.04000007]\n",
      " [0.03999957 0.03999994 0.04000005 0.03999976 0.03999985 0.04\n",
      "  0.04000011 0.04000008 0.04000016 0.03999986 0.0399999  0.03999999\n",
      "  0.04000015 0.03999994 0.03999989 0.03999989 0.03999991 0.03999983\n",
      "  0.03999975 0.03999996 0.04000002 0.04000022 0.03999994 0.04000002\n",
      "  0.04000008]\n",
      " [0.04000008 0.04000005 0.04000004 0.04000007 0.04000006 0.04000005\n",
      "  0.04000004 0.04000004 0.04000003 0.04000006 0.04000006 0.04000005\n",
      "  0.04000003 0.04000005 0.04000006 0.04000006 0.04000005 0.04000006\n",
      "  0.04000007 0.04000005 0.04000005 0.04000003 0.04000005 0.04000005\n",
      "  0.04000004]\n",
      " [0.04000017 0.04000005 0.04000001 0.04000011 0.04000008 0.04000003\n",
      "  0.03999999 0.04       0.03999997 0.04000007 0.04000006 0.04000003\n",
      "  0.03999997 0.04000005 0.04000006 0.04000006 0.04000005 0.04000008\n",
      "  0.04000011 0.04000004 0.04000002 0.03999995 0.04000004 0.04000002\n",
      "  0.04      ]\n",
      " [0.04000017 0.04000005 0.04000001 0.04000011 0.04000008 0.04000003\n",
      "  0.03999999 0.04       0.03999997 0.04000007 0.04000006 0.04000003\n",
      "  0.03999997 0.04000005 0.04000006 0.04000006 0.04000005 0.04000008\n",
      "  0.04000011 0.04000004 0.04000002 0.03999995 0.04000004 0.04000002\n",
      "  0.04      ]\n",
      " [0.04000013 0.04000005 0.04000003 0.04000009 0.04000007 0.04000004\n",
      "  0.04000001 0.04000002 0.04       0.04000007 0.04000006 0.04000004\n",
      "  0.04000001 0.04000005 0.04000006 0.04000006 0.04000006 0.04000007\n",
      "  0.04000009 0.04000005 0.04000003 0.03999999 0.04000005 0.04000003\n",
      "  0.04000002]\n",
      " [0.04000026 0.04000002 0.03999994 0.04000014 0.04000008 0.03999998\n",
      "  0.03999991 0.03999993 0.03999988 0.04000007 0.04000005 0.03999999\n",
      "  0.03999988 0.04000002 0.04000005 0.04000005 0.04000004 0.04000009\n",
      "  0.04000014 0.04000001 0.03999996 0.03999984 0.04000002 0.03999997\n",
      "  0.03999993]\n",
      " [0.04000035 0.03999997 0.03999984 0.04000015 0.04000006 0.0399999\n",
      "  0.03999978 0.03999981 0.03999973 0.04000004 0.04       0.03999991\n",
      "  0.03999974 0.03999996 0.04000002 0.04000001 0.03999999 0.04000008\n",
      "  0.04000016 0.03999994 0.03999987 0.03999967 0.03999996 0.03999988\n",
      "  0.03999981]\n",
      " [0.04000005 0.04000005 0.04000005 0.04000005 0.04000005 0.04000005\n",
      "  0.04000005 0.04000005 0.04000005 0.04000005 0.04000005 0.04000005\n",
      "  0.04000005 0.04000005 0.04000005 0.04000005 0.04000005 0.04000005\n",
      "  0.04000005 0.04000005 0.04000005 0.04000005 0.04000005 0.04000005\n",
      "  0.04000005]\n",
      " [0.0399999  0.04000003 0.04000007 0.03999997 0.04       0.04000005\n",
      "  0.0400001  0.04000009 0.04000011 0.04000001 0.04000002 0.04000005\n",
      "  0.04000011 0.04000003 0.04000002 0.04000002 0.04000002 0.03999999\n",
      "  0.03999997 0.04000004 0.04000006 0.04000013 0.04000003 0.04000006\n",
      "  0.04000008]\n",
      " [0.03999936 0.03999985 0.04000001 0.03999962 0.03999973 0.03999993\n",
      "  0.04000009 0.04000005 0.04000015 0.03999975 0.0399998  0.03999992\n",
      "  0.04000014 0.03999985 0.03999978 0.03999979 0.03999982 0.0399997\n",
      "  0.0399996  0.03999988 0.03999997 0.04000023 0.03999986 0.03999996\n",
      "  0.04000005]\n",
      " [0.04000008 0.04000005 0.04000004 0.04000006 0.04000006 0.04000005\n",
      "  0.04000004 0.04000004 0.04000004 0.04000006 0.04000006 0.04000005\n",
      "  0.04000004 0.04000005 0.04000006 0.04000006 0.04000005 0.04000006\n",
      "  0.04000007 0.04000005 0.04000005 0.04000003 0.04000005 0.04000005\n",
      "  0.04000004]\n",
      " [0.03999991 0.04000003 0.04000007 0.03999998 0.04       0.04000005\n",
      "  0.04000009 0.04000008 0.04000011 0.04000001 0.04000002 0.04000005\n",
      "  0.04000011 0.04000004 0.04000002 0.04000002 0.04000003 0.04\n",
      "  0.03999997 0.04000004 0.04000006 0.04000013 0.04000004 0.04000006\n",
      "  0.04000008]\n",
      " [0.03999976 0.04       0.04000007 0.03999989 0.03999994 0.04000004\n",
      "  0.04000011 0.04000009 0.04000014 0.03999995 0.03999997 0.04000003\n",
      "  0.04000014 0.04       0.03999997 0.03999997 0.03999998 0.03999993\n",
      "  0.03999988 0.04000001 0.04000006 0.04000018 0.04       0.04000005\n",
      "  0.04000009]]\n"
     ]
    }
   ],
   "source": [
    "print(\"The shape of q is: \", np.shape(matrix_q), matrix_q)"
   ]
  },
  {
   "cell_type": "code",
   "execution_count": 42,
   "id": "6caa0771",
   "metadata": {},
   "outputs": [
    {
     "name": "stdout",
     "output_type": "stream",
     "text": [
      "<class 'list'>\n"
     ]
    }
   ],
   "source": [
    "print(type(q))"
   ]
  },
  {
   "cell_type": "code",
   "execution_count": null,
   "id": "4254d353",
   "metadata": {},
   "outputs": [],
   "source": [
    "print(type(M))"
   ]
  },
  {
   "cell_type": "code",
   "execution_count": null,
   "id": "7be8e8fd",
   "metadata": {},
   "outputs": [],
   "source": [
    "'''\n",
    "Gaussian Kernel Matrix\n",
    "'''\n",
    "GKM = Gaussian_Kernel(M, h=0.1)\n",
    "\n",
    "GKM1 = GKM/GKM.sum(axis = 1)\n",
    "\n",
    "#plotting Gaussian Kernel Matrix 1\n",
    "plt.plot(GKM1)\n",
    "plt.show()"
   ]
  },
  {
   "cell_type": "markdown",
   "id": "deea3607",
   "metadata": {},
   "source": [
    "### b - Smaller Data set to run our experiment:  *(Apple 2/12/21- 4/15/21)*"
   ]
  },
  {
   "cell_type": "code",
   "execution_count": 46,
   "id": "41118975",
   "metadata": {},
   "outputs": [
    {
     "name": "stdout",
     "output_type": "stream",
     "text": [
      "[*********************100%***********************]  1 of 1 completed\n",
      "[*********************100%***********************]  1 of 1 completed\n"
     ]
    }
   ],
   "source": [
    "apple1 = yf.download(\"AAPL\", start = \"2011-04-15\", end = \"2021-04-15\")\n",
    "apple2 = yf.download(\"AAPL\", start = \"2011-04-16\", end = \"2021-04-16\")"
   ]
  },
  {
   "cell_type": "code",
   "execution_count": 49,
   "id": "d8438962",
   "metadata": {},
   "outputs": [
    {
     "name": "stdout",
     "output_type": "stream",
     "text": [
      "<class 'pandas.core.frame.DataFrame'>\n",
      "<class 'pandas.core.frame.DataFrame'>\n"
     ]
    },
    {
     "data": {
      "text/html": [
       "<div>\n",
       "<style scoped>\n",
       "    .dataframe tbody tr th:only-of-type {\n",
       "        vertical-align: middle;\n",
       "    }\n",
       "\n",
       "    .dataframe tbody tr th {\n",
       "        vertical-align: top;\n",
       "    }\n",
       "\n",
       "    .dataframe thead th {\n",
       "        text-align: right;\n",
       "    }\n",
       "</style>\n",
       "<table border=\"1\" class=\"dataframe\">\n",
       "  <thead>\n",
       "    <tr style=\"text-align: right;\">\n",
       "      <th></th>\n",
       "      <th>Open</th>\n",
       "      <th>High</th>\n",
       "      <th>Low</th>\n",
       "      <th>Close</th>\n",
       "      <th>Adj Close</th>\n",
       "      <th>Volume</th>\n",
       "    </tr>\n",
       "    <tr>\n",
       "      <th>Date</th>\n",
       "      <th></th>\n",
       "      <th></th>\n",
       "      <th></th>\n",
       "      <th></th>\n",
       "      <th></th>\n",
       "      <th></th>\n",
       "    </tr>\n",
       "  </thead>\n",
       "  <tbody>\n",
       "    <tr>\n",
       "      <th>2011-04-15</th>\n",
       "      <td>11.903571</td>\n",
       "      <td>11.915714</td>\n",
       "      <td>11.671429</td>\n",
       "      <td>11.695000</td>\n",
       "      <td>10.041518</td>\n",
       "      <td>453605600</td>\n",
       "    </tr>\n",
       "    <tr>\n",
       "      <th>2011-04-18</th>\n",
       "      <td>11.646429</td>\n",
       "      <td>11.865357</td>\n",
       "      <td>11.434286</td>\n",
       "      <td>11.851786</td>\n",
       "      <td>10.176137</td>\n",
       "      <td>609898800</td>\n",
       "    </tr>\n",
       "    <tr>\n",
       "      <th>2011-04-19</th>\n",
       "      <td>11.896429</td>\n",
       "      <td>12.070714</td>\n",
       "      <td>11.846786</td>\n",
       "      <td>12.066429</td>\n",
       "      <td>10.360435</td>\n",
       "      <td>419378400</td>\n",
       "    </tr>\n",
       "    <tr>\n",
       "      <th>2011-04-20</th>\n",
       "      <td>12.268214</td>\n",
       "      <td>12.348214</td>\n",
       "      <td>12.196429</td>\n",
       "      <td>12.228929</td>\n",
       "      <td>10.499960</td>\n",
       "      <td>700666400</td>\n",
       "    </tr>\n",
       "    <tr>\n",
       "      <th>2011-04-21</th>\n",
       "      <td>12.678571</td>\n",
       "      <td>12.683214</td>\n",
       "      <td>12.447143</td>\n",
       "      <td>12.525000</td>\n",
       "      <td>10.754171</td>\n",
       "      <td>753810400</td>\n",
       "    </tr>\n",
       "  </tbody>\n",
       "</table>\n",
       "</div>"
      ],
      "text/plain": [
       "                 Open       High        Low      Close  Adj Close     Volume\n",
       "Date                                                                        \n",
       "2011-04-15  11.903571  11.915714  11.671429  11.695000  10.041518  453605600\n",
       "2011-04-18  11.646429  11.865357  11.434286  11.851786  10.176137  609898800\n",
       "2011-04-19  11.896429  12.070714  11.846786  12.066429  10.360435  419378400\n",
       "2011-04-20  12.268214  12.348214  12.196429  12.228929  10.499960  700666400\n",
       "2011-04-21  12.678571  12.683214  12.447143  12.525000  10.754171  753810400"
      ]
     },
     "execution_count": 49,
     "metadata": {},
     "output_type": "execute_result"
    }
   ],
   "source": [
    "print(type(apple1))\n",
    "print(type(apple2))\n",
    "apple1.head()"
   ]
  },
  {
   "cell_type": "code",
   "execution_count": 50,
   "id": "17b8124a",
   "metadata": {},
   "outputs": [
    {
     "data": {
      "text/plain": [
       "Date\n",
       "2011-04-15    11.695000\n",
       "2011-04-18    11.851786\n",
       "2011-04-19    12.066429\n",
       "2011-04-20    12.228929\n",
       "2011-04-21    12.525000\n",
       "Name: Close, dtype: float64"
      ]
     },
     "execution_count": 50,
     "metadata": {},
     "output_type": "execute_result"
    }
   ],
   "source": [
    "'''\n",
    "slicing data to just look at closing prices for Z\n",
    "'''\n",
    "apple_data = apple1[\"Close\"]\n",
    "Time = apple1.copy()\n",
    "Time['year'], Time['month'], Time['day'] = apple1.index.year, apple1.index.month, apple1.index.day\n",
    "time_pandas = Time.iloc[:,[-1]]\n",
    "\n",
    "apple_data.head()"
   ]
  },
  {
   "cell_type": "code",
   "execution_count": 55,
   "id": "df75a5d1",
   "metadata": {},
   "outputs": [],
   "source": [
    "'''\n",
    "Slicing data to just look at closing prices for X, changing to numpy array\n",
    "'''\n",
    "apple2_data = apple2[\"Close\"]\n",
    "Apple2 = np.array(apple2_data)"
   ]
  },
  {
   "cell_type": "code",
   "execution_count": 56,
   "id": "87ea767f",
   "metadata": {},
   "outputs": [],
   "source": [
    "# changing data from pandas data series to numpy array\n",
    "Apple1 = np.array(apple_data)\n",
    "time = np.array(time_pandas)"
   ]
  },
  {
   "cell_type": "code",
   "execution_count": 57,
   "id": "aa2b4951",
   "metadata": {},
   "outputs": [
    {
     "data": {
      "image/png": "[encoded data removed]",
      "text/plain": [
       "<Figure size 432x288 with 1 Axes>"
      ]
     },
     "metadata": {
      "needs_background": "light"
     },
     "output_type": "display_data"
    }
   ],
   "source": [
    "# plot of Apple1 Price\n",
    "plt.plot(Apple1)\n",
    "plt.title(\"Apple Price (2011-04-15 - 2021-04-15)\")\n",
    "plt.xlabel(\"Time\")\n",
    "plt.ylabel(\"Price in $\")\n",
    "plt.show()"
   ]
  },
  {
   "cell_type": "code",
   "execution_count": 58,
   "id": "b4ae28d8",
   "metadata": {},
   "outputs": [
    {
     "data": {
      "image/png": "[encoded data removed]",
      "text/plain": [
       "<Figure size 432x288 with 1 Axes>"
      ]
     },
     "metadata": {
      "needs_background": "light"
     },
     "output_type": "display_data"
    }
   ],
   "source": [
    "plt.plot(Apple2)\n",
    "plt.title(\"Apple Price (2011-04-16 - 2021-04-16)\")\n",
    "plt.xlabel(\"Time\")\n",
    "plt.ylabel(\"Price in $\")\n",
    "plt.show()"
   ]
  },
  {
   "cell_type": "code",
   "execution_count": null,
   "id": "0bda83e3",
   "metadata": {},
   "outputs": [],
   "source": []
  },
  {
   "cell_type": "code",
   "execution_count": null,
   "id": "19b331dd",
   "metadata": {},
   "outputs": [],
   "source": []
  },
  {
   "cell_type": "markdown",
   "id": "b1ebc637",
   "metadata": {},
   "source": [
    "### c- Derivative Kernel M"
   ]
  },
  {
   "cell_type": "code",
   "execution_count": null,
   "id": "ed3c72de",
   "metadata": {},
   "outputs": [],
   "source": []
  },
  {
   "cell_type": "code",
   "execution_count": null,
   "id": "0280c75a",
   "metadata": {},
   "outputs": [],
   "source": []
  },
  {
   "cell_type": "markdown",
   "id": "10f60cbf",
   "metadata": {},
   "source": [
    "### d- Kernel Density of y"
   ]
  },
  {
   "cell_type": "code",
   "execution_count": null,
   "id": "b0dd75b3",
   "metadata": {},
   "outputs": [],
   "source": []
  },
  {
   "cell_type": "code",
   "execution_count": null,
   "id": "e3470c62",
   "metadata": {},
   "outputs": [],
   "source": []
  },
  {
   "cell_type": "markdown",
   "id": "a60f8260",
   "metadata": {},
   "source": [
    "### e-  Kernel Density of z"
   ]
  },
  {
   "cell_type": "code",
   "execution_count": null,
   "id": "3262cfe3",
   "metadata": {},
   "outputs": [],
   "source": []
  },
  {
   "cell_type": "code",
   "execution_count": null,
   "id": "39a26882",
   "metadata": {},
   "outputs": [],
   "source": []
  },
  {
   "cell_type": "markdown",
   "id": "48374f8d",
   "metadata": {},
   "source": [
    "### f-  Conditional Kernel Density Estimation equations "
   ]
  },
  {
   "cell_type": "code",
   "execution_count": null,
   "id": "8608ac35",
   "metadata": {},
   "outputs": [],
   "source": []
  },
  {
   "cell_type": "code",
   "execution_count": null,
   "id": "2dc270ad",
   "metadata": {},
   "outputs": [],
   "source": []
  }
 ],
 "metadata": {
  "kernelspec": {
   "display_name": "Python 3",
   "language": "python",
   "name": "python3"
  },
  "language_info": {
   "codemirror_mode": {
    "name": "ipython",
    "version": 3
   },
   "file_extension": ".py",
   "mimetype": "text/x-python",
   "name": "python",
   "nbconvert_exporter": "python",
   "pygments_lexer": "ipython3",
   "version": "3.8.10"
  }
 },
 "nbformat": 4,
 "nbformat_minor": 5
}
