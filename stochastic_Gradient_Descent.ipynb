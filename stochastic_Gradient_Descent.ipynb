{
 "cells": [
  {
   "cell_type": "code",
   "execution_count": 1,
   "metadata": {},
   "outputs": [],
   "source": [
    "#Project Description"
   ]
  },
  {
   "cell_type": "code",
   "execution_count": 2,
   "metadata": {},
   "outputs": [],
   "source": [
    "#Action items"
   ]
  },
  {
   "cell_type": "markdown",
   "metadata": {},
   "source": [
    "- The **gradient** is a vector that tells us in what direction the weights need to go. More precisely, it tells us how to change the weights to make the loss change fastest. \n",
    "- We call our process **gradient descent** because it uses the gradient to descend the loss curve towards a minimum. \n",
    "- **Stochastic** means \"determined by chance.\" Our training is stochastic because the minibatches are random samples from the dataset. And that's why it's called SGD! "
   ]
  },
  {
   "cell_type": "markdown",
   "metadata": {},
   "source": [
    "# Example 1"
   ]
  },
  {
   "cell_type": "code",
   "execution_count": 3,
   "metadata": {},
   "outputs": [],
   "source": [
    "'''\n",
    "Sample code\n",
    "'''\n",
    "import time\n",
    "import numpy as np\n",
    "from sklearn.linear_model import SGDRegressor\n",
    "from sklearn.pipeline import make_pipeline\n",
    "from sklearn.preprocessing import StandardScaler"
   ]
  },
  {
   "cell_type": "code",
   "execution_count": 4,
   "metadata": {},
   "outputs": [],
   "source": [
    "def stochastic_gradient_descent(feature_array, target_array, to_predict, learn_rate_type=\"invscaling\"):\n",
    "    \"\"\" Computes Ordinary Least SquaresLinear Regression with Stochastic Gradient Descent as the optimization algorithm.\n",
    "        :param feature_array: array with all feature vectors used to train the model\n",
    "        :param target_array: array with all target vectors used to train the model\n",
    "        :param to_predict: feature vector that is not contained in the training set. Used to make a new prediction\n",
    "        :param learn_rate_type: algorithm used to set the learning rate at each iteration.\n",
    "        :return: Predicted cooking time for the vector to_predict and the R-squared of the model.\n",
    "\"\"\"    # Pipeline of transformations to apply to an estimator. First applies Standard Scaling to the feature array.\n",
    "    # Then, when the model is fitting the data it runs Stochastic Gradient Descent as the optimization algorithm.\n",
    "    # The estimator is always the last element.\n",
    "    \n",
    "    start_time = time.time()\n",
    "    linear_regression_pipeline = make_pipeline(StandardScaler(), SGDRegressor(learning_rate=learn_rate_type))\n",
    "    \n",
    "    linear_regression_pipeline.fit(feature_array, target_array)\n",
    "    stop_time = time.time()\n",
    "     \n",
    "    print(\"Total runtime: %.6fs\" % (stop_time - start_time))\n",
    "    print(\"Algorithm used to set the learning rate: \" + learn_rate_type)\n",
    "    print(\"Model Coeffiecients: \" + str(linear_regression_pipeline[1].coef_))\n",
    "    print(\"Number of iterations: \" + str(linear_regression_pipeline[1].n_iter_))    # Make a prediction for a feature vector not in the training set\n",
    "    prediction = np.round(linear_regression_pipeline.predict(to_predict), 0)[0]\n",
    "    print(\"Predicted cooking time: \" + str(prediction) + \" minutes\")    \n",
    "    r_squared = np.round(linear_regression_pipeline.score(feature_array, target_array).reshape(-1, 1)[0][0], 2)\n",
    "    print(\"R-squared: \" + str(r_squared))\n",
    "    \n"
   ]
  },
  {
   "cell_type": "code",
   "execution_count": 5,
   "metadata": {},
   "outputs": [],
   "source": [
    "feature_array = [[500, 80, 30, 10],\n",
    "                 [550, 75, 25, 0],\n",
    "                 [475, 90, 35, 20],\n",
    "                 [450, 80, 20,25],\n",
    "                 [465, 75, 30, 0],\n",
    "                 [525, 65, 40, 15],\n",
    "                 [400, 85, 33, 0],\n",
    "                 [500, 60, 30, 30],\n",
    "                 [435, 45, 25, 0]]"
   ]
  },
  {
   "cell_type": "code",
   "execution_count": 6,
   "metadata": {},
   "outputs": [],
   "source": [
    "target_array = [17, 11, 21, 23, 22, 15, 25, 18, 16]"
   ]
  },
  {
   "cell_type": "code",
   "execution_count": 7,
   "metadata": {},
   "outputs": [],
   "source": [
    "to_predict = [[510, 50, 35, 10]]\n"
   ]
  },
  {
   "cell_type": "code",
   "execution_count": 8,
   "metadata": {},
   "outputs": [
    {
     "name": "stdout",
     "output_type": "stream",
     "text": [
      "Total runtime: 0.003000s\n",
      "Algorithm used to set the learning rate: invscaling\n",
      "Model Coeffiecients: [-3.44302967  1.64811415  0.28338234  1.11224984]\n",
      "Number of iterations: 248\n",
      "Predicted cooking time: 13.0 minutes\n",
      "R-squared: 0.9\n"
     ]
    }
   ],
   "source": [
    "stochastic_gradient_descent(feature_array, target_array, to_predict)"
   ]
  },
  {
   "cell_type": "code",
   "execution_count": 9,
   "metadata": {},
   "outputs": [
    {
     "name": "stdout",
     "output_type": "stream",
     "text": [
      "Total runtime: 0.002001s\n",
      "Algorithm used to set the learning rate: invscaling\n",
      "Model Coeffiecients: [-3.4397329   1.64906043  0.28570754  1.10788046]\n",
      "Number of iterations: 248\n",
      "Predicted cooking time: 13.0 minutes\n",
      "R-squared: 0.9\n"
     ]
    }
   ],
   "source": [
    "stochastic_gradient_descent(feature_array, target_array, to_predict)"
   ]
  },
  {
   "cell_type": "code",
   "execution_count": 10,
   "metadata": {},
   "outputs": [
    {
     "name": "stdout",
     "output_type": "stream",
     "text": [
      "Total runtime: 0.001995s\n",
      "Algorithm used to set the learning rate: adaptive\n",
      "Model Coeffiecients: [-3.49286942  1.65371015  0.31132674  1.16091935]\n",
      "Number of iterations: 95\n",
      "Predicted cooking time: 13.0 minutes\n",
      "R-squared: 0.91\n"
     ]
    }
   ],
   "source": [
    "stochastic_gradient_descent(feature_array, target_array, to_predict, learn_rate_type=\"adaptive\")"
   ]
  },
  {
   "cell_type": "markdown",
   "metadata": {},
   "source": [
    "'''\n",
    "With the limitations of Gradient Descent in mind, Stochastic Gradient Descent emerged as a way to tackle performance issues and speed up the convergence in large datasets.\n",
    "\n",
    "Stochastic Gradient Descent is a probabilistic approximation of Gradient Descent. It is an approximation because, at each step, the algorithm calculates the gradient for one observation picked at random, instead of calculating the gradient for the entire dataset.\n",
    "'''\n",
    "src: https://towardsdatascience.com/stochastic-gradient-descent-explained-in-real-life-predicting-your-pizzas-cooking-time-b7639d5e6a32"
   ]
  },
  {
   "cell_type": "markdown",
   "metadata": {},
   "source": [
    "## Example 2"
   ]
  },
  {
   "cell_type": "code",
   "execution_count": 11,
   "metadata": {},
   "outputs": [],
   "source": [
    "def gradient_loop(runs=3):\n",
    "    \"\"\" Repeatedly computes the gradient of a function\n",
    "        Computes the gradient given the starting points and then uses the result of the gradient to feed the next iteration, with new points.\n",
    "        Prints out the result of the function at each iteration\n",
    "        :param: runs: number of iterations to compute\n",
    "    \"\"\"    # starting points\n",
    "    x = np.array([1, 2, 3])\n",
    "    \n",
    "    # quadratic function, a parabola\n",
    "    y = x**2\n",
    "    \n",
    "    for run in range(0, runs):\n",
    "        print(\"Iter \" + str(run) + \": Y=\" + str(y))        # compute first derivative\n",
    "        x = np.gradient(y, 1)        # update the function output\n",
    "        y = x ** 2\n"
   ]
  },
  {
   "cell_type": "code",
   "execution_count": 12,
   "metadata": {},
   "outputs": [
    {
     "name": "stdout",
     "output_type": "stream",
     "text": [
      "Iter 0: Y=[1 4 9]\n",
      "Iter 1: Y=[ 9. 16. 25.]\n",
      "Iter 2: Y=[49. 64. 81.]\n",
      "Iter 3: Y=[225. 256. 289.]\n",
      "Iter 4: Y=[ 961. 1024. 1089.]\n",
      "Iter 5: Y=[3969. 4096. 4225.]\n",
      "Iter 6: Y=[16129. 16384. 16641.]\n",
      "Iter 7: Y=[65025. 65536. 66049.]\n",
      "Iter 8: Y=[261121. 262144. 263169.]\n",
      "Iter 9: Y=[1046529. 1048576. 1050625.]\n"
     ]
    }
   ],
   "source": [
    "gradient_loop(runs=10)"
   ]
  },
  {
   "cell_type": "markdown",
   "metadata": {},
   "source": [
    "# Example 3: Neural Network-Based SGD\n"
   ]
  },
  {
   "cell_type": "markdown",
   "metadata": {},
   "source": [
    "In addition to the training data we have, we need two more things:\n",
    "- A **loss function** that measures how good the network's predictions are. it measures the disparity between the the target's true value and the value the model predicts.\n",
    "  -- A common loss function for regression problems is the **mean absolute error or MAE**. For each prediction y_pred, MAE measures the disparity from the true target y_true by an absolute difference abs(y_true - y_pred).\n",
    "- An **optimizer** that can tell the network how to change its weights. The optimizer is an algorithm that adjusts the weights to minimize the loss. \n",
    "  -- Virtually all of the optimization algorithms used in deep learning belong to a family called **stochastic gradient descent.**  They are iterative algorithms that train a network in steps. One step of training goes like this:\n",
    "\n",
    "    * Sample some training data and run it through the network to make predictions.\n",
    "    * Measure the loss between the predictions and the true values.\n",
    "    * Finally, adjust the weights in a direction that makes the loss smaller.\n",
    "\n"
   ]
  },
  {
   "cell_type": "code",
   "execution_count": 13,
   "metadata": {},
   "outputs": [
    {
     "data": {
      "text/html": [
       "<img src=\"img/batch-sgd.gif\"/>"
      ],
      "text/plain": [
       "<IPython.core.display.Image object>"
      ]
     },
     "execution_count": 13,
     "metadata": {},
     "output_type": "execute_result"
    }
   ],
   "source": [
    "from IPython.display import Image\n",
    "Image(url='img/batch-sgd.gif')  "
   ]
  },
  {
   "cell_type": "markdown",
   "metadata": {},
   "source": [
    "Each iteration's sample of training data is called a minibatch (or often just \"batch\"), while a complete round of the training data is called an epoch. The number of epochs you train for is how many times the network will see each training example.\n",
    "- The pale red dots depict the entire training set, while the solid red dots are the minibatches. \n",
    "- Every time SGD sees a new minibatch, it will shift the weights (w the slope and b the y-intercept) toward their correct values on that batch. Batch after batch, the line eventually converges to its best fit. \n",
    "- We can see that the loss gets smaller as the weights get closer to their true values.\n",
    "\n",
    "\n",
    "It is also important to note that:\n",
    "- the line only makes a small shift in the direction of each batch (instead of moving all the way). The size of these shifts is determined by the **learning rate**. \n",
    "   * A smaller learning rate means the network needs to see more minibatches before its weights converge to their best values. \n",
    "- The **learning rate** and the **size of the minibatches** are the two parameters that have the largest effect on how the SGD training proceeds. \n",
    "   * Their interaction is often subtle and the right choice for these parameters isn't always obvious. \n",
    "- **Adam** is an SGD algorithm that has an adaptive learning rate that makes it suitable for most problems without any parameter tuning (it is \"self tuning\", in a sense). Adam is a great general-purpose optimizer."
   ]
  },
  {
   "cell_type": "raw",
   "metadata": {},
   "source": [
    "model.compile(\n",
    "    optimizer=\"adam\",\n",
    "    loss=\"mae\",\n",
    ")"
   ]
  },
  {
   "cell_type": "markdown",
   "metadata": {},
   "source": [
    "**nb**: Notice that we are able to specify the loss and optimizer with just a string. You can also access these directly through the Keras API"
   ]
  },
  {
   "cell_type": "code",
   "execution_count": 14,
   "metadata": {},
   "outputs": [
    {
     "data": {
      "text/html": [
       "<div>\n",
       "<style scoped>\n",
       "    .dataframe tbody tr th:only-of-type {\n",
       "        vertical-align: middle;\n",
       "    }\n",
       "\n",
       "    .dataframe tbody tr th {\n",
       "        vertical-align: top;\n",
       "    }\n",
       "\n",
       "    .dataframe thead th {\n",
       "        text-align: right;\n",
       "    }\n",
       "</style>\n",
       "<table border=\"1\" class=\"dataframe\">\n",
       "  <thead>\n",
       "    <tr style=\"text-align: right;\">\n",
       "      <th></th>\n",
       "      <th>Index</th>\n",
       "      <th>Date</th>\n",
       "      <th>Open</th>\n",
       "      <th>High</th>\n",
       "      <th>Low</th>\n",
       "      <th>Close</th>\n",
       "      <th>Adj Close</th>\n",
       "      <th>Volume</th>\n",
       "      <th>CloseUSD</th>\n",
       "    </tr>\n",
       "  </thead>\n",
       "  <tbody>\n",
       "    <tr>\n",
       "      <th>0</th>\n",
       "      <td>HSI</td>\n",
       "      <td>1986-12-31</td>\n",
       "      <td>2568.300049</td>\n",
       "      <td>2568.300049</td>\n",
       "      <td>2568.300049</td>\n",
       "      <td>2568.300049</td>\n",
       "      <td>2568.300049</td>\n",
       "      <td>0.0</td>\n",
       "      <td>333.879006</td>\n",
       "    </tr>\n",
       "    <tr>\n",
       "      <th>1</th>\n",
       "      <td>HSI</td>\n",
       "      <td>1987-01-02</td>\n",
       "      <td>2540.100098</td>\n",
       "      <td>2540.100098</td>\n",
       "      <td>2540.100098</td>\n",
       "      <td>2540.100098</td>\n",
       "      <td>2540.100098</td>\n",
       "      <td>0.0</td>\n",
       "      <td>330.213013</td>\n",
       "    </tr>\n",
       "    <tr>\n",
       "      <th>2</th>\n",
       "      <td>HSI</td>\n",
       "      <td>1987-01-05</td>\n",
       "      <td>2552.399902</td>\n",
       "      <td>2552.399902</td>\n",
       "      <td>2552.399902</td>\n",
       "      <td>2552.399902</td>\n",
       "      <td>2552.399902</td>\n",
       "      <td>0.0</td>\n",
       "      <td>331.811987</td>\n",
       "    </tr>\n",
       "    <tr>\n",
       "      <th>3</th>\n",
       "      <td>HSI</td>\n",
       "      <td>1987-01-06</td>\n",
       "      <td>2583.899902</td>\n",
       "      <td>2583.899902</td>\n",
       "      <td>2583.899902</td>\n",
       "      <td>2583.899902</td>\n",
       "      <td>2583.899902</td>\n",
       "      <td>0.0</td>\n",
       "      <td>335.906987</td>\n",
       "    </tr>\n",
       "    <tr>\n",
       "      <th>4</th>\n",
       "      <td>HSI</td>\n",
       "      <td>1987-01-07</td>\n",
       "      <td>2607.100098</td>\n",
       "      <td>2607.100098</td>\n",
       "      <td>2607.100098</td>\n",
       "      <td>2607.100098</td>\n",
       "      <td>2607.100098</td>\n",
       "      <td>0.0</td>\n",
       "      <td>338.923013</td>\n",
       "    </tr>\n",
       "  </tbody>\n",
       "</table>\n",
       "</div>"
      ],
      "text/plain": [
       "  Index        Date         Open         High          Low        Close  \\\n",
       "0   HSI  1986-12-31  2568.300049  2568.300049  2568.300049  2568.300049   \n",
       "1   HSI  1987-01-02  2540.100098  2540.100098  2540.100098  2540.100098   \n",
       "2   HSI  1987-01-05  2552.399902  2552.399902  2552.399902  2552.399902   \n",
       "3   HSI  1987-01-06  2583.899902  2583.899902  2583.899902  2583.899902   \n",
       "4   HSI  1987-01-07  2607.100098  2607.100098  2607.100098  2607.100098   \n",
       "\n",
       "     Adj Close  Volume    CloseUSD  \n",
       "0  2568.300049     0.0  333.879006  \n",
       "1  2540.100098     0.0  330.213013  \n",
       "2  2552.399902     0.0  331.811987  \n",
       "3  2583.899902     0.0  335.906987  \n",
       "4  2607.100098     0.0  338.923013  "
      ]
     },
     "execution_count": 14,
     "metadata": {},
     "output_type": "execute_result"
    }
   ],
   "source": [
    "import pandas as pd\n",
    "from IPython.display import display\n",
    "\n",
    "df = pd.read_csv('dataset/indexProcessed.csv')\n",
    "df.head(5)"
   ]
  },
  {
   "cell_type": "code",
   "execution_count": 15,
   "metadata": {},
   "outputs": [
    {
     "data": {
      "text/plain": [
       "array(['000001.SS', '399001.SZ', 'GDAXI', 'GSPTSE', 'HSI', 'IXIC',\n",
       "       'J203.JO', 'N100', 'N225', 'NSEI', 'NYA', 'SSMI', 'TWII'],\n",
       "      dtype=object)"
      ]
     },
     "execution_count": 15,
     "metadata": {},
     "output_type": "execute_result"
    }
   ],
   "source": [
    "from sklearn import preprocessing\n",
    "le = preprocessing.LabelEncoder()\n",
    "a = le.fit(df['Index'])\n",
    "le.classes_"
   ]
  },
  {
   "cell_type": "code",
   "execution_count": 16,
   "metadata": {},
   "outputs": [
    {
     "data": {
      "text/html": [
       "<div>\n",
       "<style scoped>\n",
       "    .dataframe tbody tr th:only-of-type {\n",
       "        vertical-align: middle;\n",
       "    }\n",
       "\n",
       "    .dataframe tbody tr th {\n",
       "        vertical-align: top;\n",
       "    }\n",
       "\n",
       "    .dataframe thead th {\n",
       "        text-align: right;\n",
       "    }\n",
       "</style>\n",
       "<table border=\"1\" class=\"dataframe\">\n",
       "  <thead>\n",
       "    <tr style=\"text-align: right;\">\n",
       "      <th></th>\n",
       "      <th>Index</th>\n",
       "      <th>Date</th>\n",
       "      <th>Open</th>\n",
       "      <th>High</th>\n",
       "      <th>Low</th>\n",
       "      <th>Close</th>\n",
       "      <th>Adj Close</th>\n",
       "      <th>Volume</th>\n",
       "      <th>CloseUSD</th>\n",
       "    </tr>\n",
       "  </thead>\n",
       "  <tbody>\n",
       "    <tr>\n",
       "      <th>0</th>\n",
       "      <td>4</td>\n",
       "      <td>1986-12-31</td>\n",
       "      <td>2568.300049</td>\n",
       "      <td>2568.300049</td>\n",
       "      <td>2568.300049</td>\n",
       "      <td>2568.300049</td>\n",
       "      <td>2568.300049</td>\n",
       "      <td>0.0</td>\n",
       "      <td>333.879006</td>\n",
       "    </tr>\n",
       "    <tr>\n",
       "      <th>1</th>\n",
       "      <td>4</td>\n",
       "      <td>1987-01-02</td>\n",
       "      <td>2540.100098</td>\n",
       "      <td>2540.100098</td>\n",
       "      <td>2540.100098</td>\n",
       "      <td>2540.100098</td>\n",
       "      <td>2540.100098</td>\n",
       "      <td>0.0</td>\n",
       "      <td>330.213013</td>\n",
       "    </tr>\n",
       "    <tr>\n",
       "      <th>2</th>\n",
       "      <td>4</td>\n",
       "      <td>1987-01-05</td>\n",
       "      <td>2552.399902</td>\n",
       "      <td>2552.399902</td>\n",
       "      <td>2552.399902</td>\n",
       "      <td>2552.399902</td>\n",
       "      <td>2552.399902</td>\n",
       "      <td>0.0</td>\n",
       "      <td>331.811987</td>\n",
       "    </tr>\n",
       "    <tr>\n",
       "      <th>3</th>\n",
       "      <td>4</td>\n",
       "      <td>1987-01-06</td>\n",
       "      <td>2583.899902</td>\n",
       "      <td>2583.899902</td>\n",
       "      <td>2583.899902</td>\n",
       "      <td>2583.899902</td>\n",
       "      <td>2583.899902</td>\n",
       "      <td>0.0</td>\n",
       "      <td>335.906987</td>\n",
       "    </tr>\n",
       "    <tr>\n",
       "      <th>4</th>\n",
       "      <td>4</td>\n",
       "      <td>1987-01-07</td>\n",
       "      <td>2607.100098</td>\n",
       "      <td>2607.100098</td>\n",
       "      <td>2607.100098</td>\n",
       "      <td>2607.100098</td>\n",
       "      <td>2607.100098</td>\n",
       "      <td>0.0</td>\n",
       "      <td>338.923013</td>\n",
       "    </tr>\n",
       "    <tr>\n",
       "      <th>...</th>\n",
       "      <td>...</td>\n",
       "      <td>...</td>\n",
       "      <td>...</td>\n",
       "      <td>...</td>\n",
       "      <td>...</td>\n",
       "      <td>...</td>\n",
       "      <td>...</td>\n",
       "      <td>...</td>\n",
       "      <td>...</td>\n",
       "    </tr>\n",
       "    <tr>\n",
       "      <th>104219</th>\n",
       "      <td>6</td>\n",
       "      <td>2021-05-25</td>\n",
       "      <td>66054.921880</td>\n",
       "      <td>66812.453130</td>\n",
       "      <td>66022.976560</td>\n",
       "      <td>66076.679690</td>\n",
       "      <td>66076.679690</td>\n",
       "      <td>0.0</td>\n",
       "      <td>4625.367578</td>\n",
       "    </tr>\n",
       "    <tr>\n",
       "      <th>104220</th>\n",
       "      <td>6</td>\n",
       "      <td>2021-05-26</td>\n",
       "      <td>66076.679690</td>\n",
       "      <td>66446.367190</td>\n",
       "      <td>66030.351560</td>\n",
       "      <td>66108.226560</td>\n",
       "      <td>66108.226560</td>\n",
       "      <td>0.0</td>\n",
       "      <td>4627.575859</td>\n",
       "    </tr>\n",
       "    <tr>\n",
       "      <th>104221</th>\n",
       "      <td>6</td>\n",
       "      <td>2021-05-27</td>\n",
       "      <td>66108.226560</td>\n",
       "      <td>66940.250000</td>\n",
       "      <td>66102.546880</td>\n",
       "      <td>66940.250000</td>\n",
       "      <td>66940.250000</td>\n",
       "      <td>0.0</td>\n",
       "      <td>4685.817500</td>\n",
       "    </tr>\n",
       "    <tr>\n",
       "      <th>104222</th>\n",
       "      <td>6</td>\n",
       "      <td>2021-05-28</td>\n",
       "      <td>66940.250000</td>\n",
       "      <td>67726.562500</td>\n",
       "      <td>66794.609380</td>\n",
       "      <td>67554.859380</td>\n",
       "      <td>67554.859380</td>\n",
       "      <td>0.0</td>\n",
       "      <td>4728.840157</td>\n",
       "    </tr>\n",
       "    <tr>\n",
       "      <th>104223</th>\n",
       "      <td>6</td>\n",
       "      <td>2021-05-31</td>\n",
       "      <td>67554.859380</td>\n",
       "      <td>68140.851560</td>\n",
       "      <td>67554.859380</td>\n",
       "      <td>67964.039060</td>\n",
       "      <td>67964.039060</td>\n",
       "      <td>0.0</td>\n",
       "      <td>4757.482734</td>\n",
       "    </tr>\n",
       "  </tbody>\n",
       "</table>\n",
       "<p>104224 rows × 9 columns</p>\n",
       "</div>"
      ],
      "text/plain": [
       "        Index        Date          Open          High           Low  \\\n",
       "0           4  1986-12-31   2568.300049   2568.300049   2568.300049   \n",
       "1           4  1987-01-02   2540.100098   2540.100098   2540.100098   \n",
       "2           4  1987-01-05   2552.399902   2552.399902   2552.399902   \n",
       "3           4  1987-01-06   2583.899902   2583.899902   2583.899902   \n",
       "4           4  1987-01-07   2607.100098   2607.100098   2607.100098   \n",
       "...       ...         ...           ...           ...           ...   \n",
       "104219      6  2021-05-25  66054.921880  66812.453130  66022.976560   \n",
       "104220      6  2021-05-26  66076.679690  66446.367190  66030.351560   \n",
       "104221      6  2021-05-27  66108.226560  66940.250000  66102.546880   \n",
       "104222      6  2021-05-28  66940.250000  67726.562500  66794.609380   \n",
       "104223      6  2021-05-31  67554.859380  68140.851560  67554.859380   \n",
       "\n",
       "               Close     Adj Close  Volume     CloseUSD  \n",
       "0        2568.300049   2568.300049     0.0   333.879006  \n",
       "1        2540.100098   2540.100098     0.0   330.213013  \n",
       "2        2552.399902   2552.399902     0.0   331.811987  \n",
       "3        2583.899902   2583.899902     0.0   335.906987  \n",
       "4        2607.100098   2607.100098     0.0   338.923013  \n",
       "...              ...           ...     ...          ...  \n",
       "104219  66076.679690  66076.679690     0.0  4625.367578  \n",
       "104220  66108.226560  66108.226560     0.0  4627.575859  \n",
       "104221  66940.250000  66940.250000     0.0  4685.817500  \n",
       "104222  67554.859380  67554.859380     0.0  4728.840157  \n",
       "104223  67964.039060  67964.039060     0.0  4757.482734  \n",
       "\n",
       "[104224 rows x 9 columns]"
      ]
     },
     "execution_count": 16,
     "metadata": {},
     "output_type": "execute_result"
    }
   ],
   "source": [
    "df['Index'] = le.transform(df['Index'])\n",
    "df"
   ]
  },
  {
   "cell_type": "code",
   "execution_count": 17,
   "metadata": {},
   "outputs": [],
   "source": [
    "#Change the type of data from string to datetime that allows easy handling of time-series analysis. \n",
    "df = df.astype({'Date':'datetime64[ns]'})\n",
    "df['Year'] = df['Date'].dt.year"
   ]
  },
  {
   "cell_type": "code",
   "execution_count": 18,
   "metadata": {},
   "outputs": [],
   "source": [
    "'''\n",
    "Pull out the CloseUSD value based on the index and date\n",
    "'''\n",
    "def getPrice(x, df):\n",
    "    df = df.loc[(df['Index']  == x['Index'])  & (df['Date'] == x['Date'])]\n",
    "    if len(df['CloseUSD'])>0:\n",
    "        return df['CloseUSD'].values[0]\n",
    "    return 0"
   ]
  },
  {
   "cell_type": "code",
   "execution_count": 19,
   "metadata": {},
   "outputs": [
    {
     "data": {
      "text/html": [
       "<div>\n",
       "<style scoped>\n",
       "    .dataframe tbody tr th:only-of-type {\n",
       "        vertical-align: middle;\n",
       "    }\n",
       "\n",
       "    .dataframe tbody tr th {\n",
       "        vertical-align: top;\n",
       "    }\n",
       "\n",
       "    .dataframe thead th {\n",
       "        text-align: right;\n",
       "    }\n",
       "</style>\n",
       "<table border=\"1\" class=\"dataframe\">\n",
       "  <thead>\n",
       "    <tr style=\"text-align: right;\">\n",
       "      <th></th>\n",
       "      <th>Index</th>\n",
       "      <th>Date</th>\n",
       "      <th>Open</th>\n",
       "      <th>High</th>\n",
       "      <th>Low</th>\n",
       "      <th>Close</th>\n",
       "      <th>Adj Close</th>\n",
       "      <th>Volume</th>\n",
       "      <th>CloseUSD</th>\n",
       "      <th>Year</th>\n",
       "      <th>Price</th>\n",
       "    </tr>\n",
       "  </thead>\n",
       "  <tbody>\n",
       "    <tr>\n",
       "      <th>0</th>\n",
       "      <td>4</td>\n",
       "      <td>1986-12-31</td>\n",
       "      <td>2568.300049</td>\n",
       "      <td>2568.300049</td>\n",
       "      <td>2568.300049</td>\n",
       "      <td>2568.300049</td>\n",
       "      <td>2568.300049</td>\n",
       "      <td>0.0</td>\n",
       "      <td>333.879006</td>\n",
       "      <td>1986</td>\n",
       "      <td>191.056328</td>\n",
       "    </tr>\n",
       "    <tr>\n",
       "      <th>1</th>\n",
       "      <td>4</td>\n",
       "      <td>1987-01-02</td>\n",
       "      <td>2540.100098</td>\n",
       "      <td>2540.100098</td>\n",
       "      <td>2540.100098</td>\n",
       "      <td>2540.100098</td>\n",
       "      <td>2540.100098</td>\n",
       "      <td>0.0</td>\n",
       "      <td>330.213013</td>\n",
       "      <td>1987</td>\n",
       "      <td>183.471992</td>\n",
       "    </tr>\n",
       "    <tr>\n",
       "      <th>2</th>\n",
       "      <td>4</td>\n",
       "      <td>1987-01-05</td>\n",
       "      <td>2552.399902</td>\n",
       "      <td>2552.399902</td>\n",
       "      <td>2552.399902</td>\n",
       "      <td>2552.399902</td>\n",
       "      <td>2552.399902</td>\n",
       "      <td>0.0</td>\n",
       "      <td>331.811987</td>\n",
       "      <td>1987</td>\n",
       "      <td>218.652793</td>\n",
       "    </tr>\n",
       "    <tr>\n",
       "      <th>3</th>\n",
       "      <td>4</td>\n",
       "      <td>1987-01-06</td>\n",
       "      <td>2583.899902</td>\n",
       "      <td>2583.899902</td>\n",
       "      <td>2583.899902</td>\n",
       "      <td>2583.899902</td>\n",
       "      <td>2583.899902</td>\n",
       "      <td>0.0</td>\n",
       "      <td>335.906987</td>\n",
       "      <td>1987</td>\n",
       "      <td>331.756328</td>\n",
       "    </tr>\n",
       "    <tr>\n",
       "      <th>4</th>\n",
       "      <td>4</td>\n",
       "      <td>1987-01-07</td>\n",
       "      <td>2607.100098</td>\n",
       "      <td>2607.100098</td>\n",
       "      <td>2607.100098</td>\n",
       "      <td>2607.100098</td>\n",
       "      <td>2607.100098</td>\n",
       "      <td>0.0</td>\n",
       "      <td>338.923013</td>\n",
       "      <td>1987</td>\n",
       "      <td>263.355352</td>\n",
       "    </tr>\n",
       "  </tbody>\n",
       "</table>\n",
       "</div>"
      ],
      "text/plain": [
       "   Index       Date         Open         High          Low        Close  \\\n",
       "0      4 1986-12-31  2568.300049  2568.300049  2568.300049  2568.300049   \n",
       "1      4 1987-01-02  2540.100098  2540.100098  2540.100098  2540.100098   \n",
       "2      4 1987-01-05  2552.399902  2552.399902  2552.399902  2552.399902   \n",
       "3      4 1987-01-06  2583.899902  2583.899902  2583.899902  2583.899902   \n",
       "4      4 1987-01-07  2607.100098  2607.100098  2607.100098  2607.100098   \n",
       "\n",
       "     Adj Close  Volume    CloseUSD  Year       Price  \n",
       "0  2568.300049     0.0  333.879006  1986  191.056328  \n",
       "1  2540.100098     0.0  330.213013  1987  183.471992  \n",
       "2  2552.399902     0.0  331.811987  1987  218.652793  \n",
       "3  2583.899902     0.0  335.906987  1987  331.756328  \n",
       "4  2607.100098     0.0  338.923013  1987  263.355352  "
      ]
     },
     "execution_count": 19,
     "metadata": {},
     "output_type": "execute_result"
    }
   ],
   "source": [
    "#Look for last day of an year for an Index\n",
    "df_last_date = df.groupby(['Index', 'Year']).agg({'Date':['max']})\n",
    "\n",
    "#reduce the column hierarachy to one.\n",
    "df_last_date.columns = df_last_date.columns.get_level_values(0)\n",
    "\n",
    "df_last_date.reset_index(inplace = True)\n",
    "\n",
    "\n",
    "#Look for the price in the main df dataframe for last date of a year for an Index\n",
    "df['Price'] = df_last_date.apply(lambda x: getPrice(x, df), axis = 1)\n",
    "df.head(5)    "
   ]
  },
  {
   "cell_type": "code",
   "execution_count": 20,
   "metadata": {},
   "outputs": [
    {
     "data": {
      "text/html": [
       "<div>\n",
       "<style scoped>\n",
       "    .dataframe tbody tr th:only-of-type {\n",
       "        vertical-align: middle;\n",
       "    }\n",
       "\n",
       "    .dataframe tbody tr th {\n",
       "        vertical-align: top;\n",
       "    }\n",
       "\n",
       "    .dataframe thead th {\n",
       "        text-align: right;\n",
       "    }\n",
       "</style>\n",
       "<table border=\"1\" class=\"dataframe\">\n",
       "  <thead>\n",
       "    <tr style=\"text-align: right;\">\n",
       "      <th></th>\n",
       "      <th>Index</th>\n",
       "      <th>Open</th>\n",
       "      <th>High</th>\n",
       "      <th>Low</th>\n",
       "      <th>Close</th>\n",
       "      <th>Adj Close</th>\n",
       "      <th>Volume</th>\n",
       "      <th>CloseUSD</th>\n",
       "      <th>Year</th>\n",
       "      <th>Price</th>\n",
       "    </tr>\n",
       "  </thead>\n",
       "  <tbody>\n",
       "    <tr>\n",
       "      <th>0</th>\n",
       "      <td>4</td>\n",
       "      <td>2568.300049</td>\n",
       "      <td>2568.300049</td>\n",
       "      <td>2568.300049</td>\n",
       "      <td>2568.300049</td>\n",
       "      <td>2568.300049</td>\n",
       "      <td>0.0</td>\n",
       "      <td>333.879006</td>\n",
       "      <td>1986</td>\n",
       "      <td>191.056328</td>\n",
       "    </tr>\n",
       "    <tr>\n",
       "      <th>1</th>\n",
       "      <td>4</td>\n",
       "      <td>2540.100098</td>\n",
       "      <td>2540.100098</td>\n",
       "      <td>2540.100098</td>\n",
       "      <td>2540.100098</td>\n",
       "      <td>2540.100098</td>\n",
       "      <td>0.0</td>\n",
       "      <td>330.213013</td>\n",
       "      <td>1987</td>\n",
       "      <td>183.471992</td>\n",
       "    </tr>\n",
       "    <tr>\n",
       "      <th>2</th>\n",
       "      <td>4</td>\n",
       "      <td>2552.399902</td>\n",
       "      <td>2552.399902</td>\n",
       "      <td>2552.399902</td>\n",
       "      <td>2552.399902</td>\n",
       "      <td>2552.399902</td>\n",
       "      <td>0.0</td>\n",
       "      <td>331.811987</td>\n",
       "      <td>1987</td>\n",
       "      <td>218.652793</td>\n",
       "    </tr>\n",
       "    <tr>\n",
       "      <th>3</th>\n",
       "      <td>4</td>\n",
       "      <td>2583.899902</td>\n",
       "      <td>2583.899902</td>\n",
       "      <td>2583.899902</td>\n",
       "      <td>2583.899902</td>\n",
       "      <td>2583.899902</td>\n",
       "      <td>0.0</td>\n",
       "      <td>335.906987</td>\n",
       "      <td>1987</td>\n",
       "      <td>331.756328</td>\n",
       "    </tr>\n",
       "    <tr>\n",
       "      <th>4</th>\n",
       "      <td>4</td>\n",
       "      <td>2607.100098</td>\n",
       "      <td>2607.100098</td>\n",
       "      <td>2607.100098</td>\n",
       "      <td>2607.100098</td>\n",
       "      <td>2607.100098</td>\n",
       "      <td>0.0</td>\n",
       "      <td>338.923013</td>\n",
       "      <td>1987</td>\n",
       "      <td>263.355352</td>\n",
       "    </tr>\n",
       "  </tbody>\n",
       "</table>\n",
       "</div>"
      ],
      "text/plain": [
       "   Index         Open         High          Low        Close    Adj Close  \\\n",
       "0      4  2568.300049  2568.300049  2568.300049  2568.300049  2568.300049   \n",
       "1      4  2540.100098  2540.100098  2540.100098  2540.100098  2540.100098   \n",
       "2      4  2552.399902  2552.399902  2552.399902  2552.399902  2552.399902   \n",
       "3      4  2583.899902  2583.899902  2583.899902  2583.899902  2583.899902   \n",
       "4      4  2607.100098  2607.100098  2607.100098  2607.100098  2607.100098   \n",
       "\n",
       "   Volume    CloseUSD  Year       Price  \n",
       "0     0.0  333.879006  1986  191.056328  \n",
       "1     0.0  330.213013  1987  183.471992  \n",
       "2     0.0  331.811987  1987  218.652793  \n",
       "3     0.0  335.906987  1987  331.756328  \n",
       "4     0.0  338.923013  1987  263.355352  "
      ]
     },
     "execution_count": 20,
     "metadata": {},
     "output_type": "execute_result"
    }
   ],
   "source": [
    "df = df.drop(columns=['Date'])\n",
    "df.dropna(subset = [\"Price\"], inplace=True)\n",
    "df.head()"
   ]
  },
  {
   "cell_type": "code",
   "execution_count": 21,
   "metadata": {},
   "outputs": [
    {
     "data": {
      "text/html": [
       "<div>\n",
       "<style scoped>\n",
       "    .dataframe tbody tr th:only-of-type {\n",
       "        vertical-align: middle;\n",
       "    }\n",
       "\n",
       "    .dataframe tbody tr th {\n",
       "        vertical-align: top;\n",
       "    }\n",
       "\n",
       "    .dataframe thead th {\n",
       "        text-align: right;\n",
       "    }\n",
       "</style>\n",
       "<table border=\"1\" class=\"dataframe\">\n",
       "  <thead>\n",
       "    <tr style=\"text-align: right;\">\n",
       "      <th></th>\n",
       "      <th>Index</th>\n",
       "      <th>Open</th>\n",
       "      <th>High</th>\n",
       "      <th>Low</th>\n",
       "      <th>Close</th>\n",
       "      <th>Adj Close</th>\n",
       "      <th>Volume</th>\n",
       "      <th>CloseUSD</th>\n",
       "      <th>Year</th>\n",
       "      <th>Price</th>\n",
       "    </tr>\n",
       "  </thead>\n",
       "  <tbody>\n",
       "    <tr>\n",
       "      <th>366</th>\n",
       "      <td>4</td>\n",
       "      <td>2661.500000</td>\n",
       "      <td>2661.500000</td>\n",
       "      <td>2661.500000</td>\n",
       "      <td>2661.500000</td>\n",
       "      <td>2661.500000</td>\n",
       "      <td>0.0</td>\n",
       "      <td>345.995000</td>\n",
       "      <td>1988</td>\n",
       "      <td>7477.029785</td>\n",
       "    </tr>\n",
       "    <tr>\n",
       "      <th>113</th>\n",
       "      <td>4</td>\n",
       "      <td>3133.699951</td>\n",
       "      <td>3133.699951</td>\n",
       "      <td>3133.699951</td>\n",
       "      <td>3133.699951</td>\n",
       "      <td>3133.699951</td>\n",
       "      <td>0.0</td>\n",
       "      <td>407.380994</td>\n",
       "      <td>1987</td>\n",
       "      <td>11481.472676</td>\n",
       "    </tr>\n",
       "    <tr>\n",
       "      <th>426</th>\n",
       "      <td>4</td>\n",
       "      <td>2432.000000</td>\n",
       "      <td>2432.000000</td>\n",
       "      <td>2432.000000</td>\n",
       "      <td>2432.000000</td>\n",
       "      <td>2432.000000</td>\n",
       "      <td>0.0</td>\n",
       "      <td>316.160000</td>\n",
       "      <td>1988</td>\n",
       "      <td>372.290391</td>\n",
       "    </tr>\n",
       "    <tr>\n",
       "      <th>320</th>\n",
       "      <td>4</td>\n",
       "      <td>2591.399902</td>\n",
       "      <td>2591.399902</td>\n",
       "      <td>2591.399902</td>\n",
       "      <td>2591.399902</td>\n",
       "      <td>2591.399902</td>\n",
       "      <td>0.0</td>\n",
       "      <td>336.881987</td>\n",
       "      <td>1988</td>\n",
       "      <td>528.690002</td>\n",
       "    </tr>\n",
       "  </tbody>\n",
       "</table>\n",
       "</div>"
      ],
      "text/plain": [
       "     Index         Open         High          Low        Close    Adj Close  \\\n",
       "366      4  2661.500000  2661.500000  2661.500000  2661.500000  2661.500000   \n",
       "113      4  3133.699951  3133.699951  3133.699951  3133.699951  3133.699951   \n",
       "426      4  2432.000000  2432.000000  2432.000000  2432.000000  2432.000000   \n",
       "320      4  2591.399902  2591.399902  2591.399902  2591.399902  2591.399902   \n",
       "\n",
       "     Volume    CloseUSD  Year         Price  \n",
       "366     0.0  345.995000  1988   7477.029785  \n",
       "113     0.0  407.380994  1987  11481.472676  \n",
       "426     0.0  316.160000  1988    372.290391  \n",
       "320     0.0  336.881987  1988    528.690002  "
      ]
     },
     "metadata": {},
     "output_type": "display_data"
    }
   ],
   "source": [
    "# Create training and validation splits\n",
    "df_train = df.sample(frac=0.7, random_state=0)\n",
    "df_valid = df.drop(df_train.index)\n",
    "display(df_train.head(4))"
   ]
  },
  {
   "cell_type": "raw",
   "metadata": {},
   "source": [
    "#Scale to [0, 1]\n",
    "max_ = df_train.max(axis=0)\n",
    "min_ = df_train.min(axis=0)\n",
    "df_train = (df_train - min_) / (max_ - min_)\n",
    "df_valid = (df_valid - min_) / (max_ - min_)"
   ]
  },
  {
   "cell_type": "code",
   "execution_count": 22,
   "metadata": {},
   "outputs": [],
   "source": [
    "# Split features and target\n",
    "X_train = df_train.drop('Price', axis=1)\n",
    "X_valid = df_valid.drop('Price', axis=1)\n",
    "\n",
    "y_train = df_train['Price']\n",
    "y_valid = df_valid['Price']"
   ]
  },
  {
   "cell_type": "code",
   "execution_count": 23,
   "metadata": {},
   "outputs": [
    {
     "name": "stdout",
     "output_type": "stream",
     "text": [
      "(304, 9)\n"
     ]
    }
   ],
   "source": [
    "print(X_train.shape)"
   ]
  },
  {
   "cell_type": "code",
   "execution_count": 24,
   "metadata": {},
   "outputs": [
    {
     "data": {
      "text/html": [
       "<div>\n",
       "<style scoped>\n",
       "    .dataframe tbody tr th:only-of-type {\n",
       "        vertical-align: middle;\n",
       "    }\n",
       "\n",
       "    .dataframe tbody tr th {\n",
       "        vertical-align: top;\n",
       "    }\n",
       "\n",
       "    .dataframe thead th {\n",
       "        text-align: right;\n",
       "    }\n",
       "</style>\n",
       "<table border=\"1\" class=\"dataframe\">\n",
       "  <thead>\n",
       "    <tr style=\"text-align: right;\">\n",
       "      <th></th>\n",
       "      <th>Index</th>\n",
       "      <th>Open</th>\n",
       "      <th>High</th>\n",
       "      <th>Low</th>\n",
       "      <th>Close</th>\n",
       "      <th>Adj Close</th>\n",
       "      <th>Volume</th>\n",
       "      <th>CloseUSD</th>\n",
       "      <th>Year</th>\n",
       "    </tr>\n",
       "  </thead>\n",
       "  <tbody>\n",
       "    <tr>\n",
       "      <th>366</th>\n",
       "      <td>4</td>\n",
       "      <td>2661.500000</td>\n",
       "      <td>2661.500000</td>\n",
       "      <td>2661.500000</td>\n",
       "      <td>2661.500000</td>\n",
       "      <td>2661.500000</td>\n",
       "      <td>0.0</td>\n",
       "      <td>345.995000</td>\n",
       "      <td>1988</td>\n",
       "    </tr>\n",
       "    <tr>\n",
       "      <th>113</th>\n",
       "      <td>4</td>\n",
       "      <td>3133.699951</td>\n",
       "      <td>3133.699951</td>\n",
       "      <td>3133.699951</td>\n",
       "      <td>3133.699951</td>\n",
       "      <td>3133.699951</td>\n",
       "      <td>0.0</td>\n",
       "      <td>407.380994</td>\n",
       "      <td>1987</td>\n",
       "    </tr>\n",
       "    <tr>\n",
       "      <th>426</th>\n",
       "      <td>4</td>\n",
       "      <td>2432.000000</td>\n",
       "      <td>2432.000000</td>\n",
       "      <td>2432.000000</td>\n",
       "      <td>2432.000000</td>\n",
       "      <td>2432.000000</td>\n",
       "      <td>0.0</td>\n",
       "      <td>316.160000</td>\n",
       "      <td>1988</td>\n",
       "    </tr>\n",
       "    <tr>\n",
       "      <th>320</th>\n",
       "      <td>4</td>\n",
       "      <td>2591.399902</td>\n",
       "      <td>2591.399902</td>\n",
       "      <td>2591.399902</td>\n",
       "      <td>2591.399902</td>\n",
       "      <td>2591.399902</td>\n",
       "      <td>0.0</td>\n",
       "      <td>336.881987</td>\n",
       "      <td>1988</td>\n",
       "    </tr>\n",
       "    <tr>\n",
       "      <th>10</th>\n",
       "      <td>4</td>\n",
       "      <td>2559.100098</td>\n",
       "      <td>2559.100098</td>\n",
       "      <td>2559.100098</td>\n",
       "      <td>2559.100098</td>\n",
       "      <td>2559.100098</td>\n",
       "      <td>0.0</td>\n",
       "      <td>332.683013</td>\n",
       "      <td>1987</td>\n",
       "    </tr>\n",
       "    <tr>\n",
       "      <th>...</th>\n",
       "      <td>...</td>\n",
       "      <td>...</td>\n",
       "      <td>...</td>\n",
       "      <td>...</td>\n",
       "      <td>...</td>\n",
       "      <td>...</td>\n",
       "      <td>...</td>\n",
       "      <td>...</td>\n",
       "      <td>...</td>\n",
       "    </tr>\n",
       "    <tr>\n",
       "      <th>377</th>\n",
       "      <td>4</td>\n",
       "      <td>2744.899902</td>\n",
       "      <td>2744.899902</td>\n",
       "      <td>2744.899902</td>\n",
       "      <td>2744.899902</td>\n",
       "      <td>2744.899902</td>\n",
       "      <td>0.0</td>\n",
       "      <td>356.836987</td>\n",
       "      <td>1988</td>\n",
       "    </tr>\n",
       "    <tr>\n",
       "      <th>182</th>\n",
       "      <td>4</td>\n",
       "      <td>3768.399902</td>\n",
       "      <td>3768.399902</td>\n",
       "      <td>3768.399902</td>\n",
       "      <td>3768.399902</td>\n",
       "      <td>3768.399902</td>\n",
       "      <td>0.0</td>\n",
       "      <td>489.891987</td>\n",
       "      <td>1987</td>\n",
       "    </tr>\n",
       "    <tr>\n",
       "      <th>388</th>\n",
       "      <td>4</td>\n",
       "      <td>2663.500000</td>\n",
       "      <td>2663.500000</td>\n",
       "      <td>2663.500000</td>\n",
       "      <td>2663.500000</td>\n",
       "      <td>2663.500000</td>\n",
       "      <td>0.0</td>\n",
       "      <td>346.255000</td>\n",
       "      <td>1988</td>\n",
       "    </tr>\n",
       "    <tr>\n",
       "      <th>80</th>\n",
       "      <td>4</td>\n",
       "      <td>2659.899902</td>\n",
       "      <td>2659.899902</td>\n",
       "      <td>2659.899902</td>\n",
       "      <td>2659.899902</td>\n",
       "      <td>2659.899902</td>\n",
       "      <td>0.0</td>\n",
       "      <td>345.786987</td>\n",
       "      <td>1987</td>\n",
       "    </tr>\n",
       "    <tr>\n",
       "      <th>258</th>\n",
       "      <td>4</td>\n",
       "      <td>2509.699951</td>\n",
       "      <td>2509.699951</td>\n",
       "      <td>2488.199951</td>\n",
       "      <td>2488.199951</td>\n",
       "      <td>2488.199951</td>\n",
       "      <td>0.0</td>\n",
       "      <td>323.465994</td>\n",
       "      <td>1988</td>\n",
       "    </tr>\n",
       "  </tbody>\n",
       "</table>\n",
       "<p>304 rows × 9 columns</p>\n",
       "</div>"
      ],
      "text/plain": [
       "     Index         Open         High          Low        Close    Adj Close  \\\n",
       "366      4  2661.500000  2661.500000  2661.500000  2661.500000  2661.500000   \n",
       "113      4  3133.699951  3133.699951  3133.699951  3133.699951  3133.699951   \n",
       "426      4  2432.000000  2432.000000  2432.000000  2432.000000  2432.000000   \n",
       "320      4  2591.399902  2591.399902  2591.399902  2591.399902  2591.399902   \n",
       "10       4  2559.100098  2559.100098  2559.100098  2559.100098  2559.100098   \n",
       "..     ...          ...          ...          ...          ...          ...   \n",
       "377      4  2744.899902  2744.899902  2744.899902  2744.899902  2744.899902   \n",
       "182      4  3768.399902  3768.399902  3768.399902  3768.399902  3768.399902   \n",
       "388      4  2663.500000  2663.500000  2663.500000  2663.500000  2663.500000   \n",
       "80       4  2659.899902  2659.899902  2659.899902  2659.899902  2659.899902   \n",
       "258      4  2509.699951  2509.699951  2488.199951  2488.199951  2488.199951   \n",
       "\n",
       "     Volume    CloseUSD  Year  \n",
       "366     0.0  345.995000  1988  \n",
       "113     0.0  407.380994  1987  \n",
       "426     0.0  316.160000  1988  \n",
       "320     0.0  336.881987  1988  \n",
       "10      0.0  332.683013  1987  \n",
       "..      ...         ...   ...  \n",
       "377     0.0  356.836987  1988  \n",
       "182     0.0  489.891987  1987  \n",
       "388     0.0  346.255000  1988  \n",
       "80      0.0  345.786987  1987  \n",
       "258     0.0  323.465994  1988  \n",
       "\n",
       "[304 rows x 9 columns]"
      ]
     },
     "execution_count": 24,
     "metadata": {},
     "output_type": "execute_result"
    }
   ],
   "source": [
    "X_train"
   ]
  },
  {
   "cell_type": "code",
   "execution_count": 25,
   "metadata": {},
   "outputs": [
    {
     "name": "stderr",
     "output_type": "stream",
     "text": [
      "WARNING:root:Limited tf.compat.v2.summary API due to missing TensorBoard installation.\n",
      "WARNING:root:Limited tf.compat.v2.summary API due to missing TensorBoard installation.\n",
      "WARNING:root:Limited tf.compat.v2.summary API due to missing TensorBoard installation.\n",
      "WARNING:root:Limited tf.summary API due to missing TensorBoard installation.\n"
     ]
    }
   ],
   "source": [
    "from tensorflow import keras\n",
    "from tensorflow.keras import layers\n",
    "\n",
    "model = keras.Sequential([\n",
    "    layers.Dense(512, activation='relu', input_shape=[9]),\n",
    "    layers.Dense(512, activation='relu'),\n",
    "    layers.Dense(512, activation='relu'),\n",
    "    layers.Dense(1),\n",
    "])"
   ]
  },
  {
   "cell_type": "markdown",
   "metadata": {},
   "source": [
    "\n",
    "\n",
    "Deciding the architecture of your model should be part of a process. Start simple and use the validation loss as your guide. You'll learn more about model development in the exercises.\n",
    "\n",
    "After defining the model, we compile in the optimizer and loss function.\n"
   ]
  },
  {
   "cell_type": "code",
   "execution_count": 26,
   "metadata": {},
   "outputs": [],
   "source": [
    "model.compile(\n",
    "    optimizer='adam',\n",
    "    loss='mae',\n",
    ")"
   ]
  },
  {
   "cell_type": "markdown",
   "metadata": {},
   "source": [
    "\n",
    "\n",
    "Now we're ready to start the training! We've told Keras to feed the optimizer 256 rows of the training data at a time *(the batch_size)* and to do that 10 times all the way through the dataset *(the epochs*).\n"
   ]
  },
  {
   "cell_type": "markdown",
   "metadata": {},
   "source": [
    "X_train=np.asarray(X_train).astype(np.int)\n",
    "\n",
    "y_train=np.asarray(y_train).astype(np.int)"
   ]
  },
  {
   "cell_type": "code",
   "execution_count": 27,
   "metadata": {},
   "outputs": [
    {
     "name": "stdout",
     "output_type": "stream",
     "text": [
      "Epoch 1/20\n",
      "WARNING:tensorflow:AutoGraph could not transform <function Model.make_train_function.<locals>.train_function at 0x0000023588299DC0> and will run it as-is.\n",
      "Please report this to the TensorFlow team. When filing the bug, set the verbosity to 10 (on Linux, `export AUTOGRAPH_VERBOSITY=10`) and attach the full output.\n",
      "Cause: Constant constructor takes either 0 or 2 positional arguments\n",
      "To silence this warning, decorate the function with @tf.autograph.experimental.do_not_convert\n"
     ]
    },
    {
     "name": "stderr",
     "output_type": "stream",
     "text": [
      "WARNING:tensorflow:AutoGraph could not transform <function Model.make_train_function.<locals>.train_function at 0x0000023588299DC0> and will run it as-is.\n",
      "Please report this to the TensorFlow team. When filing the bug, set the verbosity to 10 (on Linux, `export AUTOGRAPH_VERBOSITY=10`) and attach the full output.\n",
      "Cause: Constant constructor takes either 0 or 2 positional arguments\n",
      "To silence this warning, decorate the function with @tf.autograph.experimental.do_not_convert\n"
     ]
    },
    {
     "name": "stdout",
     "output_type": "stream",
     "text": [
      "WARNING: AutoGraph could not transform <function Model.make_train_function.<locals>.train_function at 0x0000023588299DC0> and will run it as-is.\n",
      "Please report this to the TensorFlow team. When filing the bug, set the verbosity to 10 (on Linux, `export AUTOGRAPH_VERBOSITY=10`) and attach the full output.\n",
      "Cause: Constant constructor takes either 0 or 2 positional arguments\n",
      "To silence this warning, decorate the function with @tf.autograph.experimental.do_not_convert\n",
      "1/2 [==============>...............] - ETA: 0s - loss: 3524.5176WARNING:tensorflow:AutoGraph could not transform <function Model.make_test_function.<locals>.test_function at 0x00000235912EC040> and will run it as-is.\n",
      "Please report this to the TensorFlow team. When filing the bug, set the verbosity to 10 (on Linux, `export AUTOGRAPH_VERBOSITY=10`) and attach the full output.\n",
      "Cause: Constant constructor takes either 0 or 2 positional arguments\n",
      "To silence this warning, decorate the function with @tf.autograph.experimental.do_not_convert\n"
     ]
    },
    {
     "name": "stderr",
     "output_type": "stream",
     "text": [
      "WARNING:tensorflow:AutoGraph could not transform <function Model.make_test_function.<locals>.test_function at 0x00000235912EC040> and will run it as-is.\n",
      "Please report this to the TensorFlow team. When filing the bug, set the verbosity to 10 (on Linux, `export AUTOGRAPH_VERBOSITY=10`) and attach the full output.\n",
      "Cause: Constant constructor takes either 0 or 2 positional arguments\n",
      "To silence this warning, decorate the function with @tf.autograph.experimental.do_not_convert\n"
     ]
    },
    {
     "name": "stdout",
     "output_type": "stream",
     "text": [
      "WARNING: AutoGraph could not transform <function Model.make_test_function.<locals>.test_function at 0x00000235912EC040> and will run it as-is.\n",
      "Please report this to the TensorFlow team. When filing the bug, set the verbosity to 10 (on Linux, `export AUTOGRAPH_VERBOSITY=10`) and attach the full output.\n",
      "Cause: Constant constructor takes either 0 or 2 positional arguments\n",
      "To silence this warning, decorate the function with @tf.autograph.experimental.do_not_convert\n",
      "2/2 [==============================] - 2s 1s/step - loss: 3382.5705 - val_loss: 2764.8020\n",
      "Epoch 2/20\n",
      "2/2 [==============================] - 0s 47ms/step - loss: 2723.9070 - val_loss: 2779.5984\n",
      "Epoch 3/20\n",
      "2/2 [==============================] - 0s 76ms/step - loss: 2709.5936 - val_loss: 2757.7451\n",
      "Epoch 4/20\n",
      "2/2 [==============================] - 0s 58ms/step - loss: 2691.0042 - val_loss: 2779.3411\n",
      "Epoch 5/20\n",
      "2/2 [==============================] - 0s 58ms/step - loss: 2698.8441 - val_loss: 2761.0125\n",
      "Epoch 6/20\n",
      "2/2 [==============================] - 0s 62ms/step - loss: 2714.5706 - val_loss: 2754.8152\n",
      "Epoch 7/20\n",
      "2/2 [==============================] - 0s 66ms/step - loss: 2694.1842 - val_loss: 2760.6497\n",
      "Epoch 8/20\n",
      "2/2 [==============================] - 0s 68ms/step - loss: 2708.1053 - val_loss: 2754.8975\n",
      "Epoch 9/20\n",
      "2/2 [==============================] - 0s 60ms/step - loss: 2700.9878 - val_loss: 2763.0806\n",
      "Epoch 10/20\n",
      "2/2 [==============================] - 0s 68ms/step - loss: 2694.9688 - val_loss: 2759.8411\n",
      "Epoch 11/20\n",
      "2/2 [==============================] - 0s 67ms/step - loss: 2704.2033 - val_loss: 2754.3442\n",
      "Epoch 12/20\n",
      "2/2 [==============================] - 0s 63ms/step - loss: 2675.5639 - val_loss: 2753.0261\n",
      "Epoch 13/20\n",
      "2/2 [==============================] - 0s 55ms/step - loss: 2693.6336 - val_loss: 2754.3628\n",
      "Epoch 14/20\n",
      "2/2 [==============================] - 0s 50ms/step - loss: 2642.9269 - val_loss: 2757.0879\n",
      "Epoch 15/20\n",
      "2/2 [==============================] - 0s 45ms/step - loss: 2727.5958 - val_loss: 2754.1592\n",
      "Epoch 16/20\n",
      "2/2 [==============================] - 0s 49ms/step - loss: 2714.7035 - val_loss: 2753.8811\n",
      "Epoch 17/20\n",
      "2/2 [==============================] - 0s 54ms/step - loss: 2643.8040 - val_loss: 2751.9924\n",
      "Epoch 18/20\n",
      "2/2 [==============================] - 0s 40ms/step - loss: 2717.1806 - val_loss: 2751.5239\n",
      "Epoch 19/20\n",
      "2/2 [==============================] - 0s 47ms/step - loss: 2668.9021 - val_loss: 2751.8137\n",
      "Epoch 20/20\n",
      "2/2 [==============================] - 0s 48ms/step - loss: 2652.2552 - val_loss: 2751.2639\n"
     ]
    }
   ],
   "source": [
    "history = model.fit(\n",
    "    X_train, y_train,\n",
    "    validation_data=(X_valid, y_valid),\n",
    "    batch_size=256,\n",
    "    epochs=20,\n",
    ")"
   ]
  },
  {
   "cell_type": "markdown",
   "metadata": {},
   "source": [
    "\n",
    "\n",
    "We can see that Keras will keep you updated on the loss as the model trains.\n",
    "\n",
    "Often, a better way to view the loss though is to plot it. The **fit** method in fact keeps a record of the loss produced during training in a **History** object. We'll convert the data to a Pandas dataframe, which makes the plotting easy.\n"
   ]
  },
  {
   "cell_type": "code",
   "execution_count": 28,
   "metadata": {},
   "outputs": [
    {
     "data": {
      "image/png": "[encoded data removed]",
      "text/plain": [
       "<Figure size 432x288 with 1 Axes>"
      ]
     },
     "metadata": {
      "needs_background": "light"
     },
     "output_type": "display_data"
    }
   ],
   "source": [
    "# convert the training history to a dataframe\n",
    "history_df = pd.DataFrame(history.history)\n",
    "# use Pandas native plot method\n",
    "history_df['loss'].plot();"
   ]
  },
  {
   "cell_type": "markdown",
   "metadata": {},
   "source": [
    "Notice how the loss levels off as the epochs go by. When the loss curve becomes horizontal like that, it means the model has learned all it can and there would be no reason continue for additional epochs."
   ]
  },
  {
   "cell_type": "code",
   "execution_count": null,
   "metadata": {},
   "outputs": [],
   "source": []
  }
 ],
 "metadata": {
  "interpreter": {
   "hash": "ae9390dff2a67ecfe7f518497ad1cfb27838edb064eb7518a1f306763d1e93e3"
  },
  "kernelspec": {
   "display_name": "Python 3",
   "language": "python",
   "name": "python3"
  },
  "language_info": {
   "codemirror_mode": {
    "name": "ipython",
    "version": 3
   },
   "file_extension": ".py",
   "mimetype": "text/x-python",
   "name": "python",
   "nbconvert_exporter": "python",
   "pygments_lexer": "ipython3",
   "version": "3.8.10"
  }
 },
 "nbformat": 4,
 "nbformat_minor": 2
}
