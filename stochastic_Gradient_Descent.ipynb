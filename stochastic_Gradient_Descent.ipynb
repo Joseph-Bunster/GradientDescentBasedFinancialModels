{
 "cells": [
  {
   "cell_type": "code",
   "execution_count": null,
   "source": [
    "#Project Description"
   ],
   "outputs": [],
   "metadata": {}
  },
  {
   "cell_type": "code",
   "execution_count": null,
   "source": [
    "#Action items"
   ],
   "outputs": [],
   "metadata": {}
  },
  {
   "cell_type": "code",
   "execution_count": null,
   "source": [
    "'''\r\n",
    "Sample code\r\n",
    "'''\r\n",
    "import time\r\n",
    "import numpy as np\r\n",
    "from sklearn.linear_model import SGDRegressor\r\n",
    "from sklearn.pipeline import make_pipeline\r\n",
    "from sklearn.preprocessing import StandardScaler"
   ],
   "outputs": [],
   "metadata": {}
  },
  {
   "cell_type": "code",
   "execution_count": null,
   "source": [
    "def stochastic_gradient_descent(feature_array, target_array, to_predict, learn_rate_type=\"invscaling\"):\r\n",
    "    \"\"\" Computes Ordinary Least SquaresLinear Regression with Stochastic Gradient Descent as the optimization algorithm.\r\n",
    "        :param feature_array: array with all feature vectors used to train the model\r\n",
    "        :param target_array: array with all target vectors used to train the model\r\n",
    "        :param to_predict: feature vector that is not contained in the training set. Used to make a new prediction\r\n",
    "        :param learn_rate_type: algorithm used to set the learning rate at each iteration.\r\n",
    "        :return: Predicted cooking time for the vector to_predict and the R-squared of the model.\r\n",
    "\"\"\"    # Pipeline of transformations to apply to an estimator. First applies Standard Scaling to the feature array.\r\n",
    "    # Then, when the model is fitting the data it runs Stochastic Gradient Descent as the optimization algorithm.\r\n",
    "    # The estimator is always the last element.\r\n",
    "    \r\n",
    "    start_time = time.time()\r\n",
    "    linear_regression_pipeline = make_pipeline(StandardScaler(), SGDRegressor(learning_rate=learn_rate_type))\r\n",
    "    \r\n",
    "    linear_regression_pipeline.fit(feature_array, target_array)\r\n",
    "    stop_time = time.time()\r\n",
    "     \r\n",
    "    print(\"Total runtime: %.6fs\" % (stop_time - start_time))\r\n",
    "    print(\"Algorithm used to set the learning rate: \" + learn_rate_type)\r\n",
    "    print(\"Model Coeffiecients: \" + str(linear_regression_pipeline[1].coef_))\r\n",
    "    print(\"Number of iterations: \" + str(linear_regression_pipeline[1].n_iter_))    # Make a prediction for a feature vector not in the training set\r\n",
    "    prediction = np.round(linear_regression_pipeline.predict(to_predict), 0)[0]\r\n",
    "    print(\"Predicted cooking time: \" + str(prediction) + \" minutes\")    \r\n",
    "    r_squared = np.round(linear_regression_pipeline.score(feature_array, target_array).reshape(-1, 1)[0][0], 2)\r\n",
    "    print(\"R-squared: \" + str(r_squared))feature_array = [[500, 80, 30, 10],\r\n",
    "                 [550, 75, 25, 0],\r\n",
    "                 [475, 90, 35, 20],\r\n",
    "                 [450, 80, 20,25],\r\n",
    "                 [465, 75, 30, 0],\r\n",
    "                 [525, 65, 40, 15],\r\n",
    "                 [400, 85, 33, 0],\r\n",
    "                 [500, 60, 30, 30],\r\n",
    "                 [435, 45, 25, 0]]\r\n"
   ],
   "outputs": [],
   "metadata": {}
  },
  {
   "cell_type": "code",
   "execution_count": null,
   "source": [
    "target_array = [17, 11, 21, 23, 22, 15, 25, 18, 16]"
   ],
   "outputs": [],
   "metadata": {}
  },
  {
   "cell_type": "code",
   "execution_count": null,
   "source": [
    "to_predict = [[510, 50, 35, 10]]\r\n"
   ],
   "outputs": [],
   "metadata": {}
  },
  {
   "cell_type": "code",
   "execution_count": null,
   "source": [
    "stochastic_gradient_descent(feature_array, target_array, to_predict)"
   ],
   "outputs": [],
   "metadata": {}
  },
  {
   "cell_type": "code",
   "execution_count": null,
   "source": [
    "stochastic_gradient_descent(feature_array, target_array, to_predict)"
   ],
   "outputs": [],
   "metadata": {}
  }
 ],
 "metadata": {
  "orig_nbformat": 4,
  "language_info": {
   "name": "python",
   "version": "3.8.10"
  },
  "kernelspec": {
   "name": "python3",
   "display_name": "Python 3.8.10 64-bit ('GDBFM': venv)"
  },
  "interpreter": {
   "hash": "ae9390dff2a67ecfe7f518497ad1cfb27838edb064eb7518a1f306763d1e93e3"
  }
 },
 "nbformat": 4,
 "nbformat_minor": 2
}